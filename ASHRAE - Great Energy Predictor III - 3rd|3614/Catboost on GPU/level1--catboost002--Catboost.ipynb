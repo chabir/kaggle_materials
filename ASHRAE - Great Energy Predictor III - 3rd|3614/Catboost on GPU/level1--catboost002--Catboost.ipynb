{
 "cells": [
  {
   "cell_type": "markdown",
   "metadata": {},
   "source": [
    "Based on https://www.kaggle.com/ragnar123/another-1-08-lb-no-leak"
   ]
  },
  {
   "cell_type": "markdown",
   "metadata": {},
   "source": [
    "\n",
    "#HARDWARE & SOFTWARE :  \n",
    "Cloud Computing Services: AWS    \n",
    "Instance Type: p3.2xlarge (8 vCPU, 61MB)   \n",
    "AMI ID: Deep Learning AMI (Ubuntu 16.04) Version 26.0 (ami-0e30cdd8359d89531)     \n",
    "Python: Python 3.6.6 :: Anaconda, Inc. (python packages are detailed separately in `requirements.txt`)   \n"
   ]
  },
  {
   "cell_type": "markdown",
   "metadata": {},
   "source": [
    "Note: this version was an early version, is overfitting and can be improved. Try removing the building id, changing the hyperameters (usage of 'per_float_feature_quantization' on building_id and meter, add regularization, decrease the depth), and decrease the number of features. "
   ]
  },
  {
   "cell_type": "code",
   "execution_count": null,
   "metadata": {},
   "outputs": [],
   "source": []
  },
  {
   "cell_type": "markdown",
   "metadata": {},
   "source": [
    "Load competitions files"
   ]
  },
  {
   "cell_type": "code",
   "execution_count": null,
   "metadata": {},
   "outputs": [],
   "source": [
    "!kaggle competitions download -c ashrae-energy-prediction"
   ]
  },
  {
   "cell_type": "code",
   "execution_count": null,
   "metadata": {},
   "outputs": [],
   "source": []
  },
  {
   "cell_type": "code",
   "execution_count": 1,
   "metadata": {},
   "outputs": [],
   "source": [
    "# !python3 -m pip install meteocalc --user\n",
    "import pandas as pd\n",
    "import numpy as np\n",
    "import matplotlib.pyplot as plt\n",
    "import lightgbm as lgb\n",
    "from sklearn.preprocessing import LabelEncoder\n",
    "from sklearn.model_selection import KFold, StratifiedKFold, GroupKFold\n",
    "from tqdm import tqdm_notebook as tqdm\n",
    "import datetime\n",
    "from meteocalc import feels_like, Temp\n",
    "from sklearn import metrics\n",
    "import gc\n",
    "import os\n",
    "for dirname, _, filenames in os.walk('/kaggle/input'):\n",
    "    for filename in filenames:\n",
    "        print(os.path.join(dirname, filename))"
   ]
  },
  {
   "cell_type": "code",
   "execution_count": 2,
   "metadata": {},
   "outputs": [],
   "source": [
    "# !python3 -m pip install tqdm --user"
   ]
  },
  {
   "cell_type": "markdown",
   "metadata": {},
   "source": [
    "# Load Data"
   ]
  },
  {
   "cell_type": "code",
   "execution_count": 3,
   "metadata": {},
   "outputs": [],
   "source": [
    "train_df = pd.read_csv('train.csv')\n",
    "building_df = pd.read_csv('building_metadata.csv')\n",
    "weather_df = pd.read_csv('weather_train.csv')"
   ]
  },
  {
   "cell_type": "code",
   "execution_count": null,
   "metadata": {},
   "outputs": [],
   "source": []
  },
  {
   "cell_type": "code",
   "execution_count": null,
   "metadata": {},
   "outputs": [],
   "source": []
  },
  {
   "cell_type": "code",
   "execution_count": 4,
   "metadata": {},
   "outputs": [],
   "source": [
    "# Original code from https://www.kaggle.com/aitude/ashrae-missing-weather-data-handling by @aitude\n",
    "\n",
    "def fill_weather_dataset(weather_df):\n",
    "    \n",
    "    # Find Missing Dates\n",
    "    time_format = \"%Y-%m-%d %H:%M:%S\"\n",
    "    start_date = datetime.datetime.strptime(weather_df['timestamp'].min(),time_format)\n",
    "    end_date = datetime.datetime.strptime(weather_df['timestamp'].max(),time_format)\n",
    "    total_hours = int(((end_date - start_date).total_seconds() + 3600) / 3600)\n",
    "    hours_list = [(end_date - datetime.timedelta(hours=x)).strftime(time_format) for x in range(total_hours)]\n",
    "\n",
    "    missing_hours = []\n",
    "    for site_id in range(16):\n",
    "        site_hours = np.array(weather_df[weather_df['site_id'] == site_id]['timestamp'])\n",
    "        new_rows = pd.DataFrame(np.setdiff1d(hours_list,site_hours),columns=['timestamp'])\n",
    "        new_rows['site_id'] = site_id\n",
    "        weather_df = pd.concat([weather_df,new_rows])\n",
    "\n",
    "        weather_df = weather_df.reset_index(drop=True)           \n",
    "\n",
    "    # Add new Features\n",
    "    weather_df[\"datetime\"] = pd.to_datetime(weather_df[\"timestamp\"])\n",
    "    weather_df[\"day\"] = weather_df[\"datetime\"].dt.day\n",
    "    weather_df[\"week\"] = weather_df[\"datetime\"].dt.week\n",
    "    weather_df[\"month\"] = weather_df[\"datetime\"].dt.month\n",
    "    \n",
    "    # Reset Index for Fast Update\n",
    "    weather_df = weather_df.set_index(['site_id','day','month'])\n",
    "\n",
    "    air_temperature_filler = pd.DataFrame(weather_df.groupby(['site_id','day','month'])['air_temperature'].mean(),columns=[\"air_temperature\"])\n",
    "    weather_df.update(air_temperature_filler,overwrite=False)\n",
    "\n",
    "    # Step 1\n",
    "    cloud_coverage_filler = weather_df.groupby(['site_id','day','month'])['cloud_coverage'].mean()\n",
    "    # Step 2\n",
    "    cloud_coverage_filler = pd.DataFrame(cloud_coverage_filler.fillna(method='ffill'),columns=[\"cloud_coverage\"])\n",
    "\n",
    "    weather_df.update(cloud_coverage_filler,overwrite=False)\n",
    "\n",
    "    due_temperature_filler = pd.DataFrame(weather_df.groupby(['site_id','day','month'])['dew_temperature'].mean(),columns=[\"dew_temperature\"])\n",
    "    weather_df.update(due_temperature_filler,overwrite=False)\n",
    "\n",
    "    # Step 1\n",
    "    sea_level_filler = weather_df.groupby(['site_id','day','month'])['sea_level_pressure'].mean()\n",
    "    # Step 2\n",
    "    sea_level_filler = pd.DataFrame(sea_level_filler.fillna(method='ffill'),columns=['sea_level_pressure'])\n",
    "\n",
    "    weather_df.update(sea_level_filler,overwrite=False)\n",
    "\n",
    "    wind_direction_filler =  pd.DataFrame(weather_df.groupby(['site_id','day','month'])['wind_direction'].mean(),columns=['wind_direction'])\n",
    "    weather_df.update(wind_direction_filler,overwrite=False)\n",
    "\n",
    "    wind_speed_filler =  pd.DataFrame(weather_df.groupby(['site_id','day','month'])['wind_speed'].mean(),columns=['wind_speed'])\n",
    "    weather_df.update(wind_speed_filler,overwrite=False)\n",
    "\n",
    "    # Step 1\n",
    "    precip_depth_filler = weather_df.groupby(['site_id','day','month'])['precip_depth_1_hr'].mean()\n",
    "    # Step 2\n",
    "    precip_depth_filler = pd.DataFrame(precip_depth_filler.fillna(method='ffill'),columns=['precip_depth_1_hr'])\n",
    "\n",
    "    weather_df.update(precip_depth_filler,overwrite=False)\n",
    "\n",
    "    weather_df = weather_df.reset_index()\n",
    "    weather_df = weather_df.drop(['datetime','day','week','month'],axis=1)\n",
    "    \n",
    "    def get_meteorological_features(data):\n",
    "        def calculate_rh(df):\n",
    "            df['relative_humidity'] = 100 * (np.exp((17.625 * df['dew_temperature']) / (243.04 + df['dew_temperature'])) / np.exp((17.625 * df['air_temperature'])/(243.04 + df['air_temperature'])))\n",
    "        def calculate_fl(df):\n",
    "            flike_final = []\n",
    "            flike = []\n",
    "            # calculate Feels Like temperature\n",
    "            for i in range(len(df)):\n",
    "                at = df['air_temperature'][i]\n",
    "                rh = df['relative_humidity'][i]\n",
    "                ws = df['wind_speed'][i]\n",
    "                flike.append(feels_like(Temp(at, unit = 'C'), rh, ws))\n",
    "            for i in range(len(flike)):\n",
    "                flike_final.append(flike[i].f)\n",
    "            df['feels_like'] = flike_final\n",
    "            del flike_final, flike, at, rh, ws\n",
    "        calculate_rh(data)\n",
    "        calculate_fl(data)\n",
    "        return data\n",
    "\n",
    "    weather_df = get_meteorological_features(weather_df)\n",
    "    \n",
    "    return weather_df\n",
    "\n",
    "# Original code from https://www.kaggle.com/gemartin/load-data-reduce-memory-usage by @gemartin\n",
    "\n",
    "from pandas.api.types import is_datetime64_any_dtype as is_datetime\n",
    "from pandas.api.types import is_categorical_dtype\n",
    "\n",
    "def reduce_mem_usage(df, use_float16=False):\n",
    "    \"\"\"\n",
    "    Iterate through all the columns of a dataframe and modify the data type to reduce memory usage.        \n",
    "    \"\"\"\n",
    "    \n",
    "    start_mem = df.memory_usage().sum() / 1024**2\n",
    "    print(\"Memory usage of dataframe is {:.2f} MB\".format(start_mem))\n",
    "    \n",
    "    for col in df.columns:\n",
    "        if is_datetime(df[col]) or is_categorical_dtype(df[col]):\n",
    "            continue\n",
    "        col_type = df[col].dtype\n",
    "        \n",
    "        if col_type != object:\n",
    "            c_min = df[col].min()\n",
    "            c_max = df[col].max()\n",
    "            if str(col_type)[:3] == \"int\":\n",
    "                if c_min > np.iinfo(np.int8).min and c_max < np.iinfo(np.int8).max:\n",
    "                    df[col] = df[col].astype(np.int8)\n",
    "                elif c_min > np.iinfo(np.int16).min and c_max < np.iinfo(np.int16).max:\n",
    "                    df[col] = df[col].astype(np.int16)\n",
    "                elif c_min > np.iinfo(np.int32).min and c_max < np.iinfo(np.int32).max:\n",
    "                    df[col] = df[col].astype(np.int32)\n",
    "                elif c_min > np.iinfo(np.int64).min and c_max < np.iinfo(np.int64).max:\n",
    "                    df[col] = df[col].astype(np.int64)  \n",
    "            else:\n",
    "                if use_float16 and c_min > np.finfo(np.float16).min and c_max < np.finfo(np.float16).max:\n",
    "                    df[col] = df[col].astype(np.float16)\n",
    "                elif c_min > np.finfo(np.float32).min and c_max < np.finfo(np.float32).max:\n",
    "                    df[col] = df[col].astype(np.float32)\n",
    "                else:\n",
    "                    df[col] = df[col].astype(np.float64)\n",
    "        else:\n",
    "            df[col] = df[col].astype(\"category\")\n",
    "\n",
    "    end_mem = df.memory_usage().sum() / 1024**2\n",
    "    print(\"Memory usage after optimization is: {:.2f} MB\".format(end_mem))\n",
    "    print(\"Decreased by {:.1f}%\".format(100 * (start_mem - end_mem) / start_mem))\n",
    "    \n",
    "    return df\n",
    "\n",
    "\n",
    "def features_engineering(df):\n",
    "    \n",
    "    # Sort by timestamp\n",
    "    df.sort_values(\"timestamp\")\n",
    "    df.reset_index(drop=True)\n",
    "    \n",
    "    # Add more features\n",
    "    df[\"timestamp\"] = pd.to_datetime(df[\"timestamp\"],format=\"%Y-%m-%d %H:%M:%S\")\n",
    "    df[\"hour\"] = df[\"timestamp\"].dt.hour\n",
    "    df[\"dayofweek\"] = df[\"timestamp\"].dt.weekday\n",
    "    holidays = [\"2016-01-01\", \"2016-01-18\", \"2016-02-15\", \"2016-05-30\", \"2016-07-04\",\n",
    "                    \"2016-09-05\", \"2016-10-10\", \"2016-11-11\", \"2016-11-24\", \"2016-12-26\",\n",
    "                    \"2017-01-02\", \"2017-01-16\", \"2017-02-20\", \"2017-05-29\", \"2017-07-04\",\n",
    "                    \"2017-09-04\", \"2017-10-09\", \"2017-11-10\", \"2017-11-23\", \"2017-12-25\",\n",
    "                    \"2018-01-01\", \"2018-01-15\", \"2018-02-19\", \"2018-05-28\", \"2018-07-04\",\n",
    "                    \"2018-09-03\", \"2018-10-08\", \"2018-11-12\", \"2018-11-22\", \"2018-12-25\",\n",
    "                    \"2019-01-01\"]\n",
    "    df['group'] = df['timestamp'].dt.month\n",
    "    df['group'].replace((1, 2, 3, 4), 1, inplace = True)\n",
    "    df['group'].replace((5, 6, 7, 8), 2, inplace = True)\n",
    "    df['group'].replace((9, 10, 11, 12), 3, inplace = True)\n",
    "    \n",
    "    #########################################################\n",
    "    \n",
    "    df['monthth'] = df['timestamp'].dt.month\n",
    "    df['monthth'].replace((1, 2, 3, 12), 1, inplace = True)\n",
    "    df['monthth'].replace((4,11), 2, inplace = True)\n",
    "    df['monthth'].replace((5,10), 3, inplace = True)\n",
    "    df['monthth'].replace((6,9), 4, inplace = True)\n",
    "    df['monthth'].replace((7,8), 5, inplace = True)\n",
    "    \n",
    "    \n",
    "    df['doy'] = df['timestamp'].dt.dayofyear\n",
    "    \n",
    "    \n",
    "    ##########################################################\n",
    "    df[\"is_holiday\"] = (df.timestamp.isin(holidays)).astype(int)\n",
    "    df['square_feet'] =  np.log1p(df['square_feet'])\n",
    "    \n",
    "    \n",
    "    # Remove Unused Columns\n",
    "    drop = [\"timestamp\"]\n",
    "    df = df.drop(drop, axis=1)\n",
    "    gc.collect()\n",
    "    \n",
    "    # Encode Categorical Data\n",
    "    le = LabelEncoder()\n",
    "    df[\"primary_use\"] = le.fit_transform(df[\"primary_use\"])\n",
    "    \n",
    "    return df"
   ]
  },
  {
   "cell_type": "code",
   "execution_count": 5,
   "metadata": {},
   "outputs": [
    {
     "name": "stderr",
     "output_type": "stream",
     "text": [
      "/home/ubuntu/anaconda3/lib/python3.6/site-packages/ipykernel_launcher.py:17: FutureWarning: Sorting because non-concatenation axis is not aligned. A future version\n",
      "of pandas will change to not sort by default.\n",
      "\n",
      "To accept the future behavior, pass 'sort=False'.\n",
      "\n",
      "To retain the current behavior and silence the warning, pass 'sort=True'.\n",
      "\n"
     ]
    },
    {
     "name": "stdout",
     "output_type": "stream",
     "text": [
      "Memory usage of dataframe is 616.95 MB\n",
      "Memory usage after optimization is: 173.90 MB\n",
      "Decreased by 71.8%\n",
      "Memory usage of dataframe is 0.07 MB\n",
      "Memory usage after optimization is: 0.02 MB\n",
      "Decreased by 73.8%\n",
      "Memory usage of dataframe is 11.79 MB\n",
      "Memory usage after optimization is: 3.19 MB\n",
      "Decreased by 72.9%\n"
     ]
    }
   ],
   "source": [
    "# weather manipulation\n",
    "weather_df = fill_weather_dataset(weather_df)\n",
    "\n",
    "# memory reduction\n",
    "train_df = reduce_mem_usage(train_df,use_float16=True)\n",
    "building_df = reduce_mem_usage(building_df,use_float16=True)\n",
    "weather_df = reduce_mem_usage(weather_df,use_float16=True)\n",
    "\n",
    "# merge data\n",
    "train_df = train_df.merge(building_df, left_on='building_id',right_on='building_id',how='left')\n",
    "train_df = train_df.merge(weather_df,how='left',left_on=['site_id','timestamp'],right_on=['site_id','timestamp'])\n",
    "del weather_df\n",
    "gc.collect()\n",
    "\n",
    "# feature engineering\n",
    "train_df = features_engineering(train_df)\n",
    "\n",
    "# transform target variable\n",
    "train_df['meter_reading'] = np.log1p(train_df[\"meter_reading\"])"
   ]
  },
  {
   "cell_type": "code",
   "execution_count": 6,
   "metadata": {},
   "outputs": [],
   "source": [
    "# eliminate bad rows\n",
    "bad_rows = pd.read_csv('rows_to_drop.csv')\n",
    "train_df.drop(bad_rows.loc[:, '0'], inplace = True)\n",
    "train_df.reset_index(drop = True, inplace = True)"
   ]
  },
  {
   "cell_type": "code",
   "execution_count": 7,
   "metadata": {},
   "outputs": [],
   "source": [
    "# !python3 -m pip install catboost -U --user"
   ]
  },
  {
   "cell_type": "code",
   "execution_count": 8,
   "metadata": {},
   "outputs": [
    {
     "data": {
      "text/plain": [
       "Index(['building_id', 'meter', 'meter_reading', 'site_id', 'primary_use',\n",
       "       'square_feet', 'year_built', 'floor_count', 'air_temperature',\n",
       "       'cloud_coverage', 'dew_temperature', 'precip_depth_1_hr',\n",
       "       'sea_level_pressure', 'wind_direction', 'wind_speed',\n",
       "       'relative_humidity', 'feels_like', 'hour', 'dayofweek', 'group',\n",
       "       'monthth', 'doy', 'is_holiday'],\n",
       "      dtype='object')"
      ]
     },
     "execution_count": 8,
     "metadata": {},
     "output_type": "execute_result"
    }
   ],
   "source": [
    "train_df.columns"
   ]
  },
  {
   "cell_type": "code",
   "execution_count": 9,
   "metadata": {},
   "outputs": [],
   "source": [
    "# train_df['square_feet'] = train_df['square_feet'].apply(lambda x: int(x/100))\n",
    "\n",
    "train_df['ew'] = (1.0007+3.46*1e-6*train_df[\"sea_level_pressure\"])*(6.1121+np.exp(17.502*train_df[\"air_temperature\"]/(train_df[\"sea_level_pressure\"]+240.97)))\n",
    "\n",
    "latitude_dict = {0 :28.5383,\n",
    "1 :50.9097,\n",
    "2 :33.4255,\n",
    "3 :38.9072,\n",
    "4 :37.8715,\n",
    "5 :50.9097,\n",
    "6 :40.7128,\n",
    "7 :45.4215,\n",
    "8 :28.5383,\n",
    "9 :30.2672,\n",
    "10 :40.10677,\n",
    "11 :45.4215,\n",
    "12 :53.3498,\n",
    "13 :44.9375,\n",
    "14 :38.0293,\n",
    "15: 40.7128,}\n",
    "## the latitudes were set up using this post: https://www.kaggle.com/c/ashrae-energy-prediction/discussion/115698 \n",
    "\n",
    "train_df['latitude'] = train_df['site_id'].map(latitude_dict)\n",
    "train_df['solarHour'] = (train_df['hour']-12)*15\n",
    "train_df['solarDec'] = -23.45*np.cos(np.deg2rad(360*(train_df['doy']+10)/365))\n",
    "train_df['horizsolar'] = np.cos(np.deg2rad(train_df['solarHour']))*np.cos(np.deg2rad(train_df['solarDec']))*np.cos(np.deg2rad(train_df['latitude'])) + np.sin(np.deg2rad(train_df['solarDec']))*np.sin(np.deg2rad(train_df['latitude']))\n",
    "\n",
    "train_df['horizsolar'] = train_df['horizsolar'].apply(lambda x: 0 if x <0 else x)"
   ]
  },
  {
   "cell_type": "code",
   "execution_count": 10,
   "metadata": {},
   "outputs": [],
   "source": [
    "for col in [ 'air_temperature',\n",
    "       'cloud_coverage', 'dew_temperature', 'precip_depth_1_hr', 'primary_use',]:\n",
    "\n",
    "    temp = train_df[col].value_counts().to_dict()\n",
    "    train_df[col+'_cnt'] = train_df[col].map(temp)"
   ]
  },
  {
   "cell_type": "code",
   "execution_count": 11,
   "metadata": {},
   "outputs": [],
   "source": [
    "train_df[\"cloud_coverage\"] = train_df[\"cloud_coverage\"].apply(lambda x: int(x))"
   ]
  },
  {
   "cell_type": "code",
   "execution_count": 12,
   "metadata": {},
   "outputs": [],
   "source": [
    "train_df.fillna(-1, inplace=True)"
   ]
  },
  {
   "cell_type": "code",
   "execution_count": 13,
   "metadata": {
    "scrolled": false
   },
   "outputs": [],
   "source": [
    "# declare target, categorical and numeric columns\n",
    "target = 'meter_reading'\n",
    "categorical = ['building_id', 'site_id', 'primary_use', 'meter', 'is_holiday', 'dayofweek', 'cloud_coverage']\n",
    "numeric_cols = [col for col in train_df.columns if col not in categorical + [target, 'timestamp', 'group','cloud_coverage_cnt', 'wind_speed', 'precip_depth_1_hr',\n",
    "       'precip_depth_1_hr_cnt', 'is_holiday', 'dew_temperature_cnt', 'air_temperature_cnt',\n",
    "       'cloud_coverage_cnt','doy', 'monthth',\n",
    "\n",
    " 'solarHour',\n",
    " 'solarDec',]]\n",
    "features = categorical + numeric_cols"
   ]
  },
  {
   "cell_type": "code",
   "execution_count": 14,
   "metadata": {},
   "outputs": [
    {
     "data": {
      "text/plain": [
       "['building_id',\n",
       " 'site_id',\n",
       " 'primary_use',\n",
       " 'meter',\n",
       " 'is_holiday',\n",
       " 'dayofweek',\n",
       " 'cloud_coverage',\n",
       " 'square_feet',\n",
       " 'year_built',\n",
       " 'floor_count',\n",
       " 'air_temperature',\n",
       " 'dew_temperature',\n",
       " 'sea_level_pressure',\n",
       " 'wind_direction',\n",
       " 'relative_humidity',\n",
       " 'feels_like',\n",
       " 'hour',\n",
       " 'ew',\n",
       " 'latitude',\n",
       " 'horizsolar',\n",
       " 'primary_use_cnt']"
      ]
     },
     "execution_count": 14,
     "metadata": {},
     "output_type": "execute_result"
    }
   ],
   "source": [
    "features"
   ]
  },
  {
   "cell_type": "code",
   "execution_count": 15,
   "metadata": {},
   "outputs": [
    {
     "data": {
      "text/plain": [
       "['building_id',\n",
       " 'site_id',\n",
       " 'primary_use',\n",
       " 'meter',\n",
       " 'is_holiday',\n",
       " 'dayofweek',\n",
       " 'cloud_coverage']"
      ]
     },
     "execution_count": 15,
     "metadata": {},
     "output_type": "execute_result"
    }
   ],
   "source": [
    "categorical"
   ]
  },
  {
   "cell_type": "code",
   "execution_count": 16,
   "metadata": {},
   "outputs": [
    {
     "name": "stderr",
     "output_type": "stream",
     "text": [
      "/home/ubuntu/anaconda3/lib/python3.6/site-packages/ipykernel_launcher.py:24: TqdmDeprecationWarning: This function will be removed in tqdm==5.0.0\n",
      "Please use `tqdm.notebook.tqdm` instead of `tqdm.tqdm_notebook`\n"
     ]
    },
    {
     "data": {
      "application/vnd.jupyter.widget-view+json": {
       "model_id": "590477eb6c4743479eb1542db8e9d9b0",
       "version_major": 2,
       "version_minor": 0
      },
      "text/plain": [
       "HBox(children=(FloatProgress(value=0.0, max=3.0), HTML(value='')))"
      ]
     },
     "metadata": {},
     "output_type": "display_data"
    },
    {
     "name": "stdout",
     "output_type": "stream",
     "text": [
      "0:\tlearn: 1.8546270\ttest: 1.8733931\tbest: 1.8733931 (0)\ttotal: 775ms\tremaining: 25m 49s\n",
      "100:\tlearn: 0.9191525\ttest: 1.0418195\tbest: 1.0418195 (100)\ttotal: 1m 20s\tremaining: 25m 20s\n",
      "200:\tlearn: 0.8597472\ttest: 0.9825743\tbest: 0.9825743 (200)\ttotal: 2m 45s\tremaining: 24m 37s\n",
      "300:\tlearn: 0.8268386\ttest: 0.9518883\tbest: 0.9518883 (300)\ttotal: 4m 9s\tremaining: 23m 28s\n",
      "400:\tlearn: 0.8042454\ttest: 0.9324997\tbest: 0.9324997 (400)\ttotal: 5m 35s\tremaining: 22m 18s\n",
      "500:\tlearn: 0.7857685\ttest: 0.9186286\tbest: 0.9186286 (500)\ttotal: 7m\tremaining: 20m 58s\n",
      "600:\tlearn: 0.7717064\ttest: 0.9085100\tbest: 0.9085100 (600)\ttotal: 8m 24s\tremaining: 19m 34s\n",
      "700:\tlearn: 0.7601561\ttest: 0.8997179\tbest: 0.8997179 (700)\ttotal: 9m 53s\tremaining: 18m 19s\n",
      "800:\tlearn: 0.7495656\ttest: 0.8910615\tbest: 0.8910615 (800)\ttotal: 11m 21s\tremaining: 17m\n",
      "900:\tlearn: 0.7414145\ttest: 0.8851393\tbest: 0.8851393 (900)\ttotal: 12m 51s\tremaining: 15m 41s\n",
      "1000:\tlearn: 0.7344328\ttest: 0.8811104\tbest: 0.8811104 (1000)\ttotal: 14m 15s\tremaining: 14m 14s\n",
      "1100:\tlearn: 0.7278814\ttest: 0.8778543\tbest: 0.8774669 (1097)\ttotal: 15m 43s\tremaining: 12m 50s\n",
      "1200:\tlearn: 0.7225497\ttest: 0.8748855\tbest: 0.8748450 (1198)\ttotal: 17m 7s\tremaining: 11m 23s\n",
      "1300:\tlearn: 0.7171962\ttest: 0.8701378\tbest: 0.8701378 (1300)\ttotal: 18m 36s\tremaining: 9m 59s\n",
      "1400:\tlearn: 0.7122717\ttest: 0.8679188\tbest: 0.8678516 (1399)\ttotal: 20m 4s\tremaining: 8m 34s\n",
      "1500:\tlearn: 0.7081528\ttest: 0.8650075\tbest: 0.8650075 (1500)\ttotal: 21m 32s\tremaining: 7m 9s\n",
      "1600:\tlearn: 0.7044708\ttest: 0.8622982\tbest: 0.8622982 (1600)\ttotal: 22m 59s\tremaining: 5m 43s\n",
      "1700:\tlearn: 0.7007857\ttest: 0.8614840\tbest: 0.8614840 (1700)\ttotal: 24m 24s\tremaining: 4m 17s\n",
      "1800:\tlearn: 0.6976712\ttest: 0.8600759\tbest: 0.8600759 (1800)\ttotal: 25m 50s\tremaining: 2m 51s\n",
      "1900:\tlearn: 0.6943232\ttest: 0.8577763\tbest: 0.8577763 (1900)\ttotal: 27m 15s\tremaining: 1m 25s\n",
      "1999:\tlearn: 0.6912870\ttest: 0.8564269\tbest: 0.8564269 (1999)\ttotal: 28m 40s\tremaining: 0us\n",
      "bestTest = 0.8564268924\n",
      "bestIteration = 1999\n",
      "0:\tlearn: 1.8610368\ttest: 1.8716370\tbest: 1.8716370 (0)\ttotal: 864ms\tremaining: 28m 48s\n",
      "100:\tlearn: 0.9199789\ttest: 1.0009405\tbest: 1.0009405 (100)\ttotal: 1m 24s\tremaining: 26m 19s\n",
      "200:\tlearn: 0.8516608\ttest: 0.9527910\tbest: 0.9527910 (200)\ttotal: 2m 48s\tremaining: 25m 5s\n",
      "300:\tlearn: 0.8143596\ttest: 0.9288974\tbest: 0.9288974 (300)\ttotal: 4m 12s\tremaining: 23m 45s\n",
      "400:\tlearn: 0.7916048\ttest: 0.9166210\tbest: 0.9166210 (400)\ttotal: 5m 40s\tremaining: 22m 36s\n",
      "500:\tlearn: 0.7727697\ttest: 0.9063317\tbest: 0.9063317 (500)\ttotal: 7m 6s\tremaining: 21m 14s\n",
      "600:\tlearn: 0.7580273\ttest: 0.8999293\tbest: 0.8999293 (600)\ttotal: 8m 31s\tremaining: 19m 51s\n",
      "700:\tlearn: 0.7454275\ttest: 0.8950031\tbest: 0.8950031 (700)\ttotal: 10m 1s\tremaining: 18m 33s\n",
      "800:\tlearn: 0.7358528\ttest: 0.8910551\tbest: 0.8910551 (800)\ttotal: 11m 26s\tremaining: 17m 7s\n",
      "900:\tlearn: 0.7260459\ttest: 0.8885780\tbest: 0.8885228 (899)\ttotal: 12m 53s\tremaining: 15m 43s\n",
      "1000:\tlearn: 0.7175158\ttest: 0.8862171\tbest: 0.8861987 (998)\ttotal: 14m 21s\tremaining: 14m 19s\n",
      "1100:\tlearn: 0.7101697\ttest: 0.8844648\tbest: 0.8844648 (1100)\ttotal: 15m 48s\tremaining: 12m 54s\n",
      "1200:\tlearn: 0.7039504\ttest: 0.8837131\tbest: 0.8837131 (1200)\ttotal: 17m 17s\tremaining: 11m 30s\n",
      "1300:\tlearn: 0.6984116\ttest: 0.8825549\tbest: 0.8825326 (1297)\ttotal: 18m 42s\tremaining: 10m 3s\n",
      "1400:\tlearn: 0.6938770\ttest: 0.8819177\tbest: 0.8817251 (1376)\ttotal: 20m 4s\tremaining: 8m 35s\n",
      "1500:\tlearn: 0.6894225\ttest: 0.8815080\tbest: 0.8815030 (1499)\ttotal: 21m 29s\tremaining: 7m 8s\n",
      "1600:\tlearn: 0.6850235\ttest: 0.8803901\tbest: 0.8803901 (1600)\ttotal: 22m 54s\tremaining: 5m 42s\n",
      "1700:\tlearn: 0.6810140\ttest: 0.8800515\tbest: 0.8800328 (1698)\ttotal: 24m 20s\tremaining: 4m 16s\n",
      "1800:\tlearn: 0.6769909\ttest: 0.8796025\tbest: 0.8796015 (1799)\ttotal: 25m 45s\tremaining: 2m 50s\n",
      "1900:\tlearn: 0.6732804\ttest: 0.8792866\tbest: 0.8792463 (1887)\ttotal: 27m 7s\tremaining: 1m 24s\n",
      "1999:\tlearn: 0.6698275\ttest: 0.8788690\tbest: 0.8788638 (1970)\ttotal: 28m 32s\tremaining: 0us\n",
      "bestTest = 0.878863831\n",
      "bestIteration = 1970\n",
      "Shrink model to first 1971 iterations.\n",
      "0:\tlearn: 1.8624517\ttest: 1.8700260\tbest: 1.8700260 (0)\ttotal: 1.03s\tremaining: 34m 16s\n",
      "100:\tlearn: 0.9356902\ttest: 0.9825797\tbest: 0.9825797 (100)\ttotal: 1m 28s\tremaining: 27m 50s\n",
      "200:\tlearn: 0.8694038\ttest: 0.9276735\tbest: 0.9276735 (200)\ttotal: 2m 56s\tremaining: 26m 16s\n",
      "300:\tlearn: 0.8346048\ttest: 0.9054992\tbest: 0.9054992 (300)\ttotal: 4m 27s\tremaining: 25m 8s\n",
      "400:\tlearn: 0.8120335\ttest: 0.8929563\tbest: 0.8929563 (400)\ttotal: 5m 57s\tremaining: 23m 47s\n",
      "500:\tlearn: 0.7944869\ttest: 0.8824629\tbest: 0.8824629 (500)\ttotal: 7m 25s\tremaining: 22m 12s\n",
      "600:\tlearn: 0.7799567\ttest: 0.8741546\tbest: 0.8741546 (600)\ttotal: 8m 55s\tremaining: 20m 46s\n",
      "700:\tlearn: 0.7684028\ttest: 0.8690262\tbest: 0.8690262 (700)\ttotal: 10m 24s\tremaining: 19m 17s\n",
      "800:\tlearn: 0.7585210\ttest: 0.8642578\tbest: 0.8642578 (800)\ttotal: 11m 57s\tremaining: 17m 54s\n",
      "900:\tlearn: 0.7503747\ttest: 0.8608877\tbest: 0.8608877 (900)\ttotal: 13m 27s\tremaining: 16m 25s\n",
      "1000:\tlearn: 0.7432171\ttest: 0.8581156\tbest: 0.8581156 (1000)\ttotal: 14m 58s\tremaining: 14m 57s\n",
      "1100:\tlearn: 0.7372915\ttest: 0.8557004\tbest: 0.8556970 (1098)\ttotal: 16m 31s\tremaining: 13m 29s\n",
      "1200:\tlearn: 0.7316566\ttest: 0.8535554\tbest: 0.8535520 (1199)\ttotal: 18m 4s\tremaining: 12m 1s\n",
      "1300:\tlearn: 0.7266915\ttest: 0.8519125\tbest: 0.8519125 (1300)\ttotal: 19m 35s\tremaining: 10m 31s\n",
      "1400:\tlearn: 0.7222565\ttest: 0.8503244\tbest: 0.8503022 (1397)\ttotal: 21m 5s\tremaining: 9m\n",
      "1500:\tlearn: 0.7178164\ttest: 0.8494773\tbest: 0.8494369 (1478)\ttotal: 22m 35s\tremaining: 7m 30s\n",
      "1600:\tlearn: 0.7137859\ttest: 0.8486384\tbest: 0.8486384 (1600)\ttotal: 24m 4s\tremaining: 6m\n",
      "1700:\tlearn: 0.7099552\ttest: 0.8480489\tbest: 0.8479637 (1692)\ttotal: 25m 33s\tremaining: 4m 29s\n",
      "1800:\tlearn: 0.7065774\ttest: 0.8469632\tbest: 0.8469632 (1800)\ttotal: 27m 4s\tremaining: 2m 59s\n",
      "1900:\tlearn: 0.7033273\ttest: 0.8459355\tbest: 0.8459355 (1900)\ttotal: 28m 34s\tremaining: 1m 29s\n",
      "1999:\tlearn: 0.7002855\ttest: 0.8450255\tbest: 0.8449676 (1984)\ttotal: 30m 5s\tremaining: 0us\n",
      "bestTest = 0.8449675796\n",
      "bestIteration = 1984\n",
      "Shrink model to first 1985 iterations.\n",
      "\n",
      "Our oof cv is : 0.8596810711219373\n"
     ]
    }
   ],
   "source": [
    "import catboost as cb\n",
    "# https://www.kaggle.com/corochann/ashrae-training-lgbm-by-meter-type?scriptVersionId=22053887\n",
    "\n",
    "def run_cat(train, cat_features = categorical, num_rounds = 20000, folds = 3):\n",
    "    kf = GroupKFold(n_splits = folds)\n",
    "    models = []\n",
    "    metric = 'RMSE'\n",
    "    SEED = 2019\n",
    "\n",
    "    params = {\n",
    "        'n_estimators': 2000,\n",
    "        'learning_rate': 0.1,\n",
    "        'eval_metric': 'RMSE',\n",
    "        'loss_function': 'RMSE',\n",
    "        'random_seed': SEED,\n",
    "        'metric_period': 10,\n",
    "        'task_type': 'GPU',\n",
    "        'depth': 8,\n",
    "    }\n",
    "    for col in categorical:\n",
    "        train[col] = train[col].astype('category')\n",
    "\n",
    "    oof = np.zeros(len(train))\n",
    "    for tr_idx, val_idx in tqdm(kf.split(train, groups = train['group']), total = folds):\n",
    "        tr_x, tr_y = train[features].iloc[tr_idx], train[target].iloc[tr_idx]\n",
    "        vl_x, vl_y = train[features].iloc[val_idx], train[target].iloc[val_idx]\n",
    "#         tr_data = lgb.Dataset(tr_x, label = tr_y,  categorical_feature = categorical)\n",
    "#         vl_data = lgb.Dataset(vl_x, label = vl_y,  categorical_feature = categorical)\n",
    "\n",
    "        model = cb.CatBoostRegressor(**params)\n",
    "\n",
    "        model.fit(tr_x, tr_y, \n",
    "              eval_set=(vl_x, vl_y),\n",
    "              cat_features=categorical, \n",
    "              use_best_model=True, \n",
    "              verbose=100,  # show every 100 iteration\n",
    "              early_stopping_rounds=100)\n",
    "#         clf = lgb.train(param, tr_data, num_rounds, valid_sets = [tr_data, vl_data], verbose_eval = 25, \n",
    "#                         early_stopping_rounds = 50)\n",
    "        models.append(model)\n",
    "        oof[val_idx] = model.predict(vl_x)\n",
    "        gc.collect()\n",
    "    score = np.sqrt(metrics.mean_squared_error(train[target], np.clip(oof, a_min=0, a_max=None)))\n",
    "    print('Our oof cv is :', score)\n",
    "    return models\n",
    "models = run_cat(train_df)"
   ]
  },
  {
   "cell_type": "code",
   "execution_count": 17,
   "metadata": {},
   "outputs": [
    {
     "data": {
      "text/plain": [
       "3                  meter\n",
       "0            building_id\n",
       "7            square_feet\n",
       "1                site_id\n",
       "15            feels_like\n",
       "18              latitude\n",
       "11       dew_temperature\n",
       "2            primary_use\n",
       "16                  hour\n",
       "8             year_built\n",
       "5              dayofweek\n",
       "10       air_temperature\n",
       "19            horizsolar\n",
       "6         cloud_coverage\n",
       "12    sea_level_pressure\n",
       "17                    ew\n",
       "20       primary_use_cnt\n",
       "9            floor_count\n",
       "13        wind_direction\n",
       "14     relative_humidity\n",
       "4             is_holiday\n",
       "Name: feature, dtype: object"
      ]
     },
     "execution_count": 17,
     "metadata": {},
     "output_type": "execute_result"
    }
   ],
   "source": [
    "df_fimp_1 = pd.DataFrame()\n",
    "df_fimp_1[\"feature\"] = train_df[features].columns\n",
    "df_fimp_1[\"importance\"] = models[0].get_feature_importance()\n",
    "df_fimp_1[\"half\"] = 1\n",
    "df_fimp_1.sort_values(by='importance', ascending=False)['feature']#[-8:].values\n"
   ]
  },
  {
   "cell_type": "code",
   "execution_count": 18,
   "metadata": {},
   "outputs": [
    {
     "name": "stdout",
     "output_type": "stream",
     "text": [
      "Memory usage of dataframe is 954.38 MB\n",
      "Memory usage after optimization is: 199.59 MB\n",
      "Decreased by 79.1%\n"
     ]
    },
    {
     "name": "stderr",
     "output_type": "stream",
     "text": [
      "/home/ubuntu/anaconda3/lib/python3.6/site-packages/ipykernel_launcher.py:17: FutureWarning: Sorting because non-concatenation axis is not aligned. A future version\n",
      "of pandas will change to not sort by default.\n",
      "\n",
      "To accept the future behavior, pass 'sort=False'.\n",
      "\n",
      "To retain the current behavior and silence the warning, pass 'sort=True'.\n",
      "\n"
     ]
    },
    {
     "name": "stdout",
     "output_type": "stream",
     "text": [
      "Memory usage of dataframe is 23.53 MB\n",
      "Memory usage after optimization is: 11.18 MB\n",
      "Decreased by 52.5%\n"
     ]
    }
   ],
   "source": [
    "# read test\n",
    "test_df = pd.read_csv('test.csv')\n",
    "row_ids = test_df[\"row_id\"]\n",
    "test_df.drop(\"row_id\", axis=1, inplace=True)\n",
    "test_df = reduce_mem_usage(test_df)\n",
    "\n",
    "# merge with building info\n",
    "test_df = test_df.merge(building_df,left_on='building_id',right_on='building_id',how='left')\n",
    "del building_df\n",
    "gc.collect()\n",
    "\n",
    "# fill test weather data\n",
    "weather_df = pd.read_csv('weather_test.csv')\n",
    "weather_df = fill_weather_dataset(weather_df)\n",
    "weather_df = reduce_mem_usage(weather_df)\n",
    "\n",
    "# merge weather data\n",
    "test_df = test_df.merge(weather_df,how='left',on=['timestamp','site_id'])\n",
    "del weather_df\n",
    "gc.collect()\n",
    "\n",
    "# feature engineering\n",
    "test_df = features_engineering(test_df)"
   ]
  },
  {
   "cell_type": "code",
   "execution_count": 19,
   "metadata": {},
   "outputs": [],
   "source": [
    "test_df['ew'] = (1.0007+3.46*1e-6*test_df[\"sea_level_pressure\"])*(6.1121+np.exp(17.502*test_df[\"air_temperature\"]/(test_df[\"sea_level_pressure\"]+240.97)))\n",
    "\n",
    "latitude_dict = {0 :28.5383,\n",
    "1 :50.9097,\n",
    "2 :33.4255,\n",
    "3 :38.9072,\n",
    "4 :37.8715,\n",
    "5 :50.9097,\n",
    "6 :40.7128,\n",
    "7 :45.4215,\n",
    "8 :28.5383,\n",
    "9 :30.2672,\n",
    "10 :40.10677,\n",
    "11 :45.4215,\n",
    "12 :53.3498,\n",
    "13 :44.9375,\n",
    "14 :38.0293,\n",
    "15: 40.7128,}\n",
    "\n",
    "test_df['latitude'] = test_df['site_id'].map(latitude_dict)\n",
    "test_df['solarHour'] = (test_df['hour']-12)*15\n",
    "test_df['solarDec'] = -23.45*np.cos(np.deg2rad(360*(test_df['doy']+10)/365))\n",
    "test_df['horizsolar'] = np.cos(np.deg2rad(test_df['solarHour']))*np.cos(np.deg2rad(test_df['solarDec']))*np.cos(np.deg2rad(test_df['latitude'])) + np.sin(np.deg2rad(test_df['solarDec']))*np.sin(np.deg2rad(test_df['latitude']))\n",
    "\n",
    "test_df['horizsolar'] = test_df['horizsolar'].apply(lambda x: 0 if x <0 else x)"
   ]
  },
  {
   "cell_type": "code",
   "execution_count": 20,
   "metadata": {},
   "outputs": [],
   "source": [
    "for col in [ 'air_temperature',\n",
    "       'cloud_coverage', 'dew_temperature', 'precip_depth_1_hr', 'primary_use',]:\n",
    "\n",
    "    temp = test_df[col].value_counts().to_dict()\n",
    "    test_df[col+'_cnt'] = test_df[col].map(temp)"
   ]
  },
  {
   "cell_type": "code",
   "execution_count": 21,
   "metadata": {},
   "outputs": [],
   "source": [
    "test_df[\"cloud_coverage\"] = test_df[\"cloud_coverage\"].apply(lambda x: int(x))"
   ]
  },
  {
   "cell_type": "code",
   "execution_count": 22,
   "metadata": {},
   "outputs": [],
   "source": [
    "test_df.fillna(-1, inplace=True)"
   ]
  },
  {
   "cell_type": "code",
   "execution_count": 26,
   "metadata": {},
   "outputs": [],
   "source": [
    "for c in train_df[features].columns:\n",
    "    if c not in test_df.columns:\n",
    "        print(c)"
   ]
  },
  {
   "cell_type": "code",
   "execution_count": 27,
   "metadata": {},
   "outputs": [],
   "source": [
    "# test_df[features]"
   ]
  },
  {
   "cell_type": "code",
   "execution_count": 28,
   "metadata": {},
   "outputs": [],
   "source": [
    "for col in categorical:\n",
    "    test_df[col] = test_df[col].astype('category')"
   ]
  },
  {
   "cell_type": "code",
   "execution_count": 29,
   "metadata": {},
   "outputs": [
    {
     "data": {
      "text/plain": [
       "building_id           category\n",
       "site_id               category\n",
       "primary_use           category\n",
       "meter                 category\n",
       "is_holiday            category\n",
       "dayofweek             category\n",
       "cloud_coverage        category\n",
       "square_feet            float64\n",
       "year_built             float16\n",
       "floor_count            float16\n",
       "air_temperature        float32\n",
       "dew_temperature        float32\n",
       "sea_level_pressure     float32\n",
       "wind_direction         float32\n",
       "relative_humidity      float32\n",
       "feels_like             float32\n",
       "hour                     int64\n",
       "ew                     float64\n",
       "latitude               float64\n",
       "horizsolar             float64\n",
       "primary_use_cnt          int64\n",
       "dtype: object"
      ]
     },
     "execution_count": 29,
     "metadata": {},
     "output_type": "execute_result"
    }
   ],
   "source": [
    "test_df[features].dtypes"
   ]
  },
  {
   "cell_type": "code",
   "execution_count": 30,
   "metadata": {},
   "outputs": [
    {
     "name": "stderr",
     "output_type": "stream",
     "text": [
      "/home/ubuntu/anaconda3/lib/python3.6/site-packages/ipykernel_launcher.py:6: TqdmDeprecationWarning: This function will be removed in tqdm==5.0.0\n",
      "Please use `tqdm.notebook.tqdm` instead of `tqdm.tqdm_notebook`\n",
      "  \n"
     ]
    },
    {
     "data": {
      "application/vnd.jupyter.widget-view+json": {
       "model_id": "fc31dfb3d2294717b8d1899c225c9e9f",
       "version_major": 2,
       "version_minor": 0
      },
      "text/plain": [
       "HBox(children=(FloatProgress(value=0.0, max=50.0), HTML(value='')))"
      ]
     },
     "metadata": {},
     "output_type": "display_data"
    },
    {
     "name": "stdout",
     "output_type": "stream",
     "text": [
      "\n",
      "41697600\n",
      "We are done!\n",
      "CPU times: user 4h 15min 4s, sys: 7min 51s, total: 4h 22min 55s\n",
      "Wall time: 43min 58s\n"
     ]
    }
   ],
   "source": [
    "%%time\n",
    "def predictions(models, iterations = 50):\n",
    "    # split test data into batches\n",
    "    set_size = len(test_df)\n",
    "    batch_size = set_size // iterations\n",
    "    meter_reading = []\n",
    "    for i in tqdm(range(iterations)):\n",
    "        pos = i*batch_size\n",
    "        fold_preds = [np.expm1(model.predict(test_df[features].iloc[pos : pos+batch_size])) for model in models]\n",
    "        meter_reading.extend(np.mean(fold_preds, axis=0))\n",
    "\n",
    "    print(len(meter_reading))\n",
    "    assert len(meter_reading) == set_size\n",
    "    submission = pd.read_csv('sample_submission.csv')\n",
    "    submission['meter_reading'] = np.clip(meter_reading, a_min=0, a_max=None) # clip min at zero\n",
    "    submission.to_csv('submission_catboost002.csv.gz',\n",
    "                         index=False,compression='gzip', \n",
    "                         float_format='%.4f', \n",
    "                         chunksize=25000)\n",
    "    print('We are done!')\n",
    "predictions(models)"
   ]
  },
  {
   "cell_type": "code",
   "execution_count": 31,
   "metadata": {},
   "outputs": [
    {
     "name": "stdout",
     "output_type": "stream",
     "text": [
      "Warning: Your Kaggle API key is readable by other users on this system! To fix this, you can run 'chmod 600 /home/ubuntu/.kaggle/kaggle.json'\n",
      "100%|████████████████████████████████████████| 261M/261M [00:05<00:00, 51.8MB/s]\n",
      "Successfully submitted to ASHRAE - Great Energy Predictor III"
     ]
    }
   ],
   "source": [
    "!kaggle competitions submit -c ashrae-energy-prediction -f submission_catboost002.csv.gz -m \"catboost\"\n"
   ]
  },
  {
   "cell_type": "code",
   "execution_count": null,
   "metadata": {},
   "outputs": [],
   "source": []
  }
 ],
 "metadata": {
  "kernelspec": {
   "display_name": "Python 3",
   "language": "python",
   "name": "python3"
  },
  "language_info": {
   "codemirror_mode": {
    "name": "ipython",
    "version": 3
   },
   "file_extension": ".py",
   "mimetype": "text/x-python",
   "name": "python",
   "nbconvert_exporter": "python",
   "pygments_lexer": "ipython3",
   "version": "3.6.6"
  },
  "widgets": {
   "application/vnd.jupyter.widget-state+json": {
    "state": {
     "0dcce59782874dbb8ec24df23e537042": {
      "model_module": "@jupyter-widgets/controls",
      "model_module_version": "1.5.0",
      "model_name": "HBoxModel",
      "state": {
       "_dom_classes": [],
       "_model_module": "@jupyter-widgets/controls",
       "_model_module_version": "1.5.0",
       "_model_name": "HBoxModel",
       "_view_count": null,
       "_view_module": "@jupyter-widgets/controls",
       "_view_module_version": "1.5.0",
       "_view_name": "HBoxView",
       "box_style": "",
       "children": [
        "IPY_MODEL_a9bd0e48e6f8493a9c9aaabdca1b4308",
        "IPY_MODEL_33cad943f56d4882b327e64b3c7d6faf"
       ],
       "layout": "IPY_MODEL_9472c1bc0de34da691b474d14700f1e8"
      }
     },
     "143cc32510af4a7598db65152f3006ec": {
      "model_module": "@jupyter-widgets/base",
      "model_module_version": "1.2.0",
      "model_name": "LayoutModel",
      "state": {
       "_model_module": "@jupyter-widgets/base",
       "_model_module_version": "1.2.0",
       "_model_name": "LayoutModel",
       "_view_count": null,
       "_view_module": "@jupyter-widgets/base",
       "_view_module_version": "1.2.0",
       "_view_name": "LayoutView",
       "align_content": null,
       "align_items": null,
       "align_self": null,
       "border": null,
       "bottom": null,
       "display": null,
       "flex": null,
       "flex_flow": null,
       "grid_area": null,
       "grid_auto_columns": null,
       "grid_auto_flow": null,
       "grid_auto_rows": null,
       "grid_column": null,
       "grid_gap": null,
       "grid_row": null,
       "grid_template_areas": null,
       "grid_template_columns": null,
       "grid_template_rows": null,
       "height": null,
       "justify_content": null,
       "justify_items": null,
       "left": null,
       "margin": null,
       "max_height": null,
       "max_width": null,
       "min_height": null,
       "min_width": null,
       "object_fit": null,
       "object_position": null,
       "order": null,
       "overflow": null,
       "overflow_x": null,
       "overflow_y": null,
       "padding": null,
       "right": null,
       "top": null,
       "visibility": null,
       "width": null
      }
     },
     "1c7bc51f7cc9417a9447f64cfe82ffad": {
      "model_module": "@jupyter-widgets/controls",
      "model_module_version": "1.5.0",
      "model_name": "IntProgressModel",
      "state": {
       "_dom_classes": [],
       "_model_module": "@jupyter-widgets/controls",
       "_model_module_version": "1.5.0",
       "_model_name": "IntProgressModel",
       "_view_count": null,
       "_view_module": "@jupyter-widgets/controls",
       "_view_module_version": "1.5.0",
       "_view_name": "ProgressView",
       "bar_style": "success",
       "description": "100%",
       "description_tooltip": null,
       "layout": "IPY_MODEL_a24680ae797c48de92319d144a596a7e",
       "max": 50,
       "min": 0,
       "orientation": "horizontal",
       "style": "IPY_MODEL_3464d3ae0c1a47e6926685f2c1a4483b",
       "value": 50
      }
     },
     "2bebff39e3dc47e1b005b2e1cd1dbb42": {
      "model_module": "@jupyter-widgets/controls",
      "model_module_version": "1.5.0",
      "model_name": "HTMLModel",
      "state": {
       "_dom_classes": [],
       "_model_module": "@jupyter-widgets/controls",
       "_model_module_version": "1.5.0",
       "_model_name": "HTMLModel",
       "_view_count": null,
       "_view_module": "@jupyter-widgets/controls",
       "_view_module_version": "1.5.0",
       "_view_name": "HTMLView",
       "description": "",
       "description_tooltip": null,
       "layout": "IPY_MODEL_8549fe52450649799de56fc68b832915",
       "placeholder": "​",
       "style": "IPY_MODEL_6dd14275bb22452a8b24bde629078dde",
       "value": " 50/50 [1:39:11&lt;00:00, 119.03s/it]"
      }
     },
     "2f8c5f2605b84332b8e2900933b51ad1": {
      "model_module": "@jupyter-widgets/base",
      "model_module_version": "1.2.0",
      "model_name": "LayoutModel",
      "state": {
       "_model_module": "@jupyter-widgets/base",
       "_model_module_version": "1.2.0",
       "_model_name": "LayoutModel",
       "_view_count": null,
       "_view_module": "@jupyter-widgets/base",
       "_view_module_version": "1.2.0",
       "_view_name": "LayoutView",
       "align_content": null,
       "align_items": null,
       "align_self": null,
       "border": null,
       "bottom": null,
       "display": null,
       "flex": null,
       "flex_flow": null,
       "grid_area": null,
       "grid_auto_columns": null,
       "grid_auto_flow": null,
       "grid_auto_rows": null,
       "grid_column": null,
       "grid_gap": null,
       "grid_row": null,
       "grid_template_areas": null,
       "grid_template_columns": null,
       "grid_template_rows": null,
       "height": null,
       "justify_content": null,
       "justify_items": null,
       "left": null,
       "margin": null,
       "max_height": null,
       "max_width": null,
       "min_height": null,
       "min_width": null,
       "object_fit": null,
       "object_position": null,
       "order": null,
       "overflow": null,
       "overflow_x": null,
       "overflow_y": null,
       "padding": null,
       "right": null,
       "top": null,
       "visibility": null,
       "width": null
      }
     },
     "3110fa81a71f4b04860bd1fc6635d2d9": {
      "model_module": "@jupyter-widgets/base",
      "model_module_version": "1.2.0",
      "model_name": "LayoutModel",
      "state": {
       "_model_module": "@jupyter-widgets/base",
       "_model_module_version": "1.2.0",
       "_model_name": "LayoutModel",
       "_view_count": null,
       "_view_module": "@jupyter-widgets/base",
       "_view_module_version": "1.2.0",
       "_view_name": "LayoutView",
       "align_content": null,
       "align_items": null,
       "align_self": null,
       "border": null,
       "bottom": null,
       "display": null,
       "flex": null,
       "flex_flow": null,
       "grid_area": null,
       "grid_auto_columns": null,
       "grid_auto_flow": null,
       "grid_auto_rows": null,
       "grid_column": null,
       "grid_gap": null,
       "grid_row": null,
       "grid_template_areas": null,
       "grid_template_columns": null,
       "grid_template_rows": null,
       "height": null,
       "justify_content": null,
       "justify_items": null,
       "left": null,
       "margin": null,
       "max_height": null,
       "max_width": null,
       "min_height": null,
       "min_width": null,
       "object_fit": null,
       "object_position": null,
       "order": null,
       "overflow": null,
       "overflow_x": null,
       "overflow_y": null,
       "padding": null,
       "right": null,
       "top": null,
       "visibility": null,
       "width": null
      }
     },
     "33cad943f56d4882b327e64b3c7d6faf": {
      "model_module": "@jupyter-widgets/controls",
      "model_module_version": "1.5.0",
      "model_name": "HTMLModel",
      "state": {
       "_dom_classes": [],
       "_model_module": "@jupyter-widgets/controls",
       "_model_module_version": "1.5.0",
       "_model_name": "HTMLModel",
       "_view_count": null,
       "_view_module": "@jupyter-widgets/controls",
       "_view_module_version": "1.5.0",
       "_view_name": "HTMLView",
       "description": "",
       "description_tooltip": null,
       "layout": "IPY_MODEL_2f8c5f2605b84332b8e2900933b51ad1",
       "placeholder": "​",
       "style": "IPY_MODEL_f049b331127a4bebbecb4db7064fccf2",
       "value": " 3/3 [47:39&lt;00:00, 953.25s/it]"
      }
     },
     "3464d3ae0c1a47e6926685f2c1a4483b": {
      "model_module": "@jupyter-widgets/controls",
      "model_module_version": "1.5.0",
      "model_name": "ProgressStyleModel",
      "state": {
       "_model_module": "@jupyter-widgets/controls",
       "_model_module_version": "1.5.0",
       "_model_name": "ProgressStyleModel",
       "_view_count": null,
       "_view_module": "@jupyter-widgets/base",
       "_view_module_version": "1.2.0",
       "_view_name": "StyleView",
       "bar_color": null,
       "description_width": "initial"
      }
     },
     "4bdf6827bed545d0a2f1f762dc458125": {
      "model_module": "@jupyter-widgets/controls",
      "model_module_version": "1.5.0",
      "model_name": "ProgressStyleModel",
      "state": {
       "_model_module": "@jupyter-widgets/controls",
       "_model_module_version": "1.5.0",
       "_model_name": "ProgressStyleModel",
       "_view_count": null,
       "_view_module": "@jupyter-widgets/base",
       "_view_module_version": "1.2.0",
       "_view_name": "StyleView",
       "bar_color": null,
       "description_width": "initial"
      }
     },
     "6dd14275bb22452a8b24bde629078dde": {
      "model_module": "@jupyter-widgets/controls",
      "model_module_version": "1.5.0",
      "model_name": "DescriptionStyleModel",
      "state": {
       "_model_module": "@jupyter-widgets/controls",
       "_model_module_version": "1.5.0",
       "_model_name": "DescriptionStyleModel",
       "_view_count": null,
       "_view_module": "@jupyter-widgets/base",
       "_view_module_version": "1.2.0",
       "_view_name": "StyleView",
       "description_width": ""
      }
     },
     "8549fe52450649799de56fc68b832915": {
      "model_module": "@jupyter-widgets/base",
      "model_module_version": "1.2.0",
      "model_name": "LayoutModel",
      "state": {
       "_model_module": "@jupyter-widgets/base",
       "_model_module_version": "1.2.0",
       "_model_name": "LayoutModel",
       "_view_count": null,
       "_view_module": "@jupyter-widgets/base",
       "_view_module_version": "1.2.0",
       "_view_name": "LayoutView",
       "align_content": null,
       "align_items": null,
       "align_self": null,
       "border": null,
       "bottom": null,
       "display": null,
       "flex": null,
       "flex_flow": null,
       "grid_area": null,
       "grid_auto_columns": null,
       "grid_auto_flow": null,
       "grid_auto_rows": null,
       "grid_column": null,
       "grid_gap": null,
       "grid_row": null,
       "grid_template_areas": null,
       "grid_template_columns": null,
       "grid_template_rows": null,
       "height": null,
       "justify_content": null,
       "justify_items": null,
       "left": null,
       "margin": null,
       "max_height": null,
       "max_width": null,
       "min_height": null,
       "min_width": null,
       "object_fit": null,
       "object_position": null,
       "order": null,
       "overflow": null,
       "overflow_x": null,
       "overflow_y": null,
       "padding": null,
       "right": null,
       "top": null,
       "visibility": null,
       "width": null
      }
     },
     "9472c1bc0de34da691b474d14700f1e8": {
      "model_module": "@jupyter-widgets/base",
      "model_module_version": "1.2.0",
      "model_name": "LayoutModel",
      "state": {
       "_model_module": "@jupyter-widgets/base",
       "_model_module_version": "1.2.0",
       "_model_name": "LayoutModel",
       "_view_count": null,
       "_view_module": "@jupyter-widgets/base",
       "_view_module_version": "1.2.0",
       "_view_name": "LayoutView",
       "align_content": null,
       "align_items": null,
       "align_self": null,
       "border": null,
       "bottom": null,
       "display": null,
       "flex": null,
       "flex_flow": null,
       "grid_area": null,
       "grid_auto_columns": null,
       "grid_auto_flow": null,
       "grid_auto_rows": null,
       "grid_column": null,
       "grid_gap": null,
       "grid_row": null,
       "grid_template_areas": null,
       "grid_template_columns": null,
       "grid_template_rows": null,
       "height": null,
       "justify_content": null,
       "justify_items": null,
       "left": null,
       "margin": null,
       "max_height": null,
       "max_width": null,
       "min_height": null,
       "min_width": null,
       "object_fit": null,
       "object_position": null,
       "order": null,
       "overflow": null,
       "overflow_x": null,
       "overflow_y": null,
       "padding": null,
       "right": null,
       "top": null,
       "visibility": null,
       "width": null
      }
     },
     "a24680ae797c48de92319d144a596a7e": {
      "model_module": "@jupyter-widgets/base",
      "model_module_version": "1.2.0",
      "model_name": "LayoutModel",
      "state": {
       "_model_module": "@jupyter-widgets/base",
       "_model_module_version": "1.2.0",
       "_model_name": "LayoutModel",
       "_view_count": null,
       "_view_module": "@jupyter-widgets/base",
       "_view_module_version": "1.2.0",
       "_view_name": "LayoutView",
       "align_content": null,
       "align_items": null,
       "align_self": null,
       "border": null,
       "bottom": null,
       "display": null,
       "flex": null,
       "flex_flow": null,
       "grid_area": null,
       "grid_auto_columns": null,
       "grid_auto_flow": null,
       "grid_auto_rows": null,
       "grid_column": null,
       "grid_gap": null,
       "grid_row": null,
       "grid_template_areas": null,
       "grid_template_columns": null,
       "grid_template_rows": null,
       "height": null,
       "justify_content": null,
       "justify_items": null,
       "left": null,
       "margin": null,
       "max_height": null,
       "max_width": null,
       "min_height": null,
       "min_width": null,
       "object_fit": null,
       "object_position": null,
       "order": null,
       "overflow": null,
       "overflow_x": null,
       "overflow_y": null,
       "padding": null,
       "right": null,
       "top": null,
       "visibility": null,
       "width": null
      }
     },
     "a9bd0e48e6f8493a9c9aaabdca1b4308": {
      "model_module": "@jupyter-widgets/controls",
      "model_module_version": "1.5.0",
      "model_name": "IntProgressModel",
      "state": {
       "_dom_classes": [],
       "_model_module": "@jupyter-widgets/controls",
       "_model_module_version": "1.5.0",
       "_model_name": "IntProgressModel",
       "_view_count": null,
       "_view_module": "@jupyter-widgets/controls",
       "_view_module_version": "1.5.0",
       "_view_name": "ProgressView",
       "bar_style": "success",
       "description": "100%",
       "description_tooltip": null,
       "layout": "IPY_MODEL_143cc32510af4a7598db65152f3006ec",
       "max": 3,
       "min": 0,
       "orientation": "horizontal",
       "style": "IPY_MODEL_4bdf6827bed545d0a2f1f762dc458125",
       "value": 3
      }
     },
     "f049b331127a4bebbecb4db7064fccf2": {
      "model_module": "@jupyter-widgets/controls",
      "model_module_version": "1.5.0",
      "model_name": "DescriptionStyleModel",
      "state": {
       "_model_module": "@jupyter-widgets/controls",
       "_model_module_version": "1.5.0",
       "_model_name": "DescriptionStyleModel",
       "_view_count": null,
       "_view_module": "@jupyter-widgets/base",
       "_view_module_version": "1.2.0",
       "_view_name": "StyleView",
       "description_width": ""
      }
     },
     "f76ecc50ab84416cbfd7bad34a50530d": {
      "model_module": "@jupyter-widgets/controls",
      "model_module_version": "1.5.0",
      "model_name": "HBoxModel",
      "state": {
       "_dom_classes": [],
       "_model_module": "@jupyter-widgets/controls",
       "_model_module_version": "1.5.0",
       "_model_name": "HBoxModel",
       "_view_count": null,
       "_view_module": "@jupyter-widgets/controls",
       "_view_module_version": "1.5.0",
       "_view_name": "HBoxView",
       "box_style": "",
       "children": [
        "IPY_MODEL_1c7bc51f7cc9417a9447f64cfe82ffad",
        "IPY_MODEL_2bebff39e3dc47e1b005b2e1cd1dbb42"
       ],
       "layout": "IPY_MODEL_3110fa81a71f4b04860bd1fc6635d2d9"
      }
     }
    },
    "version_major": 2,
    "version_minor": 0
   }
  }
 },
 "nbformat": 4,
 "nbformat_minor": 1
}
