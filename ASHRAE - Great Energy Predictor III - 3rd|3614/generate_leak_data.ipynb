{
 "cells": [
  {
   "cell_type": "markdown",
   "metadata": {},
   "source": [
    "Based on https://www.kaggle.com/wuliaokaola/ashrae-maybe-this-can-make-public-lb-some-useful public kernel:"
   ]
  },
  {
   "cell_type": "markdown",
   "metadata": {},
   "source": [
    "the idea is to reconstitute from the public kernels a submission file with the data that were scraped and believed to be the true values on the test set. this method was validated by Kaggle / sponsors."
   ]
  },
  {
   "cell_type": "markdown",
   "metadata": {},
   "source": [
    "this notebook requires to download several files from the public kernels."
   ]
  },
  {
   "cell_type": "code",
   "execution_count": null,
   "metadata": {},
   "outputs": [],
   "source": []
  },
  {
   "cell_type": "code",
   "execution_count": 1,
   "metadata": {
    "_cell_guid": "b1076dfc-b9ad-4769-8c92-a6c4dae69d19",
    "_uuid": "8f2839f25d086af736a60e9eeb907d3b93b6e0e5"
   },
   "outputs": [],
   "source": [
    "import warnings\n",
    "warnings.filterwarnings('ignore')\n",
    "import os\n",
    "import gc\n",
    "import pickle\n",
    "import numpy as np\n",
    "import pandas as pd\n",
    "import random as rn\n",
    "import matplotlib.pyplot as plt\n",
    "\n",
    "from tqdm import tqdm\n",
    "from datetime import datetime"
   ]
  },
  {
   "cell_type": "code",
   "execution_count": 2,
   "metadata": {},
   "outputs": [],
   "source": [
    "test = pd.read_csv('./test.csv', index_col=0, parse_dates = ['timestamp'])\n",
    "building = pd.read_csv('./building_metadata.csv', usecols=['site_id', 'building_id'])"
   ]
  },
  {
   "cell_type": "code",
   "execution_count": 3,
   "metadata": {
    "_cell_guid": "79c7e3d0-c299-4dcb-8224-4455121ee9b0",
    "_uuid": "d629ff2d2480ee46fbb7e2d37f6b5fab8052498a"
   },
   "outputs": [],
   "source": [
    "test = test.merge(building, left_on = \"building_id\", right_on = \"building_id\", how = \"left\")"
   ]
  },
  {
   "cell_type": "code",
   "execution_count": 4,
   "metadata": {},
   "outputs": [],
   "source": [
    "submission = pd.read_csv('sample_submission.csv')"
   ]
  },
  {
   "cell_type": "code",
   "execution_count": null,
   "metadata": {},
   "outputs": [],
   "source": []
  },
  {
   "cell_type": "code",
   "execution_count": 5,
   "metadata": {},
   "outputs": [],
   "source": [
    "# give a numeric value to all submissions that is really unlikely:\n",
    "submission['meter_reading'] = -9999.99"
   ]
  },
  {
   "cell_type": "markdown",
   "metadata": {},
   "source": [
    "* Site 0\n",
    "\n",
    "Thanks [@yamsam](https://www.kaggle.com/yamsam/) and his great kernel.\n",
    "\n",
    "https://www.kaggle.com/yamsam/new-ucf-starter-kernel"
   ]
  },
  {
   "cell_type": "markdown",
   "metadata": {},
   "source": [
    "Download submission_ucf_replaced.csv from https://www.kaggle.com/yamsam/new-ucf-starter-kernel"
   ]
  },
  {
   "cell_type": "code",
   "execution_count": 6,
   "metadata": {},
   "outputs": [
    {
     "data": {
      "text/plain": [
       "7"
      ]
     },
     "execution_count": 6,
     "metadata": {},
     "output_type": "execute_result"
    }
   ],
   "source": [
    "site_0 = pd.read_csv('./submission_ucf_replaced.csv', index_col=0)\n",
    "submission.loc[test[test['site_id']==0].index, 'meter_reading'] = site_0['meter_reading']\n",
    "del site_0\n",
    "gc.collect()"
   ]
  },
  {
   "cell_type": "markdown",
   "metadata": {},
   "source": [
    "* Site 1\n",
    "\n",
    "Thanks [@mpware](https://www.kaggle.com/mpware) and his great kernel.\n",
    "\n",
    "https://www.kaggle.com/mpware/ucl-data-leakage-episode-2\n"
   ]
  },
  {
   "cell_type": "markdown",
   "metadata": {},
   "source": [
    "Download site1.pkl from https://www.kaggle.com/mpware/ucl-data-leakage-episode-2"
   ]
  },
  {
   "cell_type": "code",
   "execution_count": 7,
   "metadata": {},
   "outputs": [],
   "source": [
    "with open('./site1.pkl', 'rb') as f:\n",
    "    site_1 = pickle.load(f)\n",
    "site_1 = site_1[site_1['timestamp'].dt.year > 2016]"
   ]
  },
  {
   "cell_type": "code",
   "execution_count": 8,
   "metadata": {},
   "outputs": [
    {
     "data": {
      "text/plain": [
       "0"
      ]
     },
     "execution_count": 8,
     "metadata": {},
     "output_type": "execute_result"
    }
   ],
   "source": [
    "t = test[['building_id', 'meter', 'timestamp']]\n",
    "t['row_id'] = t.index\n",
    "site_1 = site_1.merge(t, left_on = ['building_id', 'meter', 'timestamp'], right_on = ['building_id', 'meter', 'timestamp'], how = \"left\")\n",
    "site_1 = site_1[['meter_reading_scraped', 'row_id']].set_index('row_id').dropna()\n",
    "submission.loc[site_1.index, 'meter_reading'] = site_1['meter_reading_scraped']\n",
    "del site_1\n",
    "gc.collect()"
   ]
  },
  {
   "cell_type": "markdown",
   "metadata": {},
   "source": [
    "* Site 2\n",
    "\n",
    "Thanks [@pdnartreb](https://www.kaggle.com/pdnartreb) and his great dataset.\n",
    "\n",
    "https://www.kaggle.com/pdnartreb/asu-buildings-energy-consumption"
   ]
  },
  {
   "cell_type": "code",
   "execution_count": 10,
   "metadata": {},
   "outputs": [],
   "source": [
    "site_2 = pd.read_csv('./asu_2016-2018.csv.zip', parse_dates = ['timestamp'])\n",
    "site_2 = site_2[site_2['timestamp'].dt.year > 2016]"
   ]
  },
  {
   "cell_type": "code",
   "execution_count": 11,
   "metadata": {},
   "outputs": [
    {
     "data": {
      "text/html": [
       "<div>\n",
       "<style scoped>\n",
       "    .dataframe tbody tr th:only-of-type {\n",
       "        vertical-align: middle;\n",
       "    }\n",
       "\n",
       "    .dataframe tbody tr th {\n",
       "        vertical-align: top;\n",
       "    }\n",
       "\n",
       "    .dataframe thead th {\n",
       "        text-align: right;\n",
       "    }\n",
       "</style>\n",
       "<table border=\"1\" class=\"dataframe\">\n",
       "  <thead>\n",
       "    <tr style=\"text-align: right;\">\n",
       "      <th></th>\n",
       "      <th>timestamp</th>\n",
       "      <th>building_id</th>\n",
       "      <th>meter</th>\n",
       "      <th>meter_reading</th>\n",
       "    </tr>\n",
       "  </thead>\n",
       "  <tbody>\n",
       "    <tr>\n",
       "      <td>2530312</td>\n",
       "      <td>2017-01-01 00:00:00</td>\n",
       "      <td>156</td>\n",
       "      <td>0</td>\n",
       "      <td>104.96</td>\n",
       "    </tr>\n",
       "    <tr>\n",
       "      <td>2530313</td>\n",
       "      <td>2017-01-01 00:00:00</td>\n",
       "      <td>157</td>\n",
       "      <td>0</td>\n",
       "      <td>32.92</td>\n",
       "    </tr>\n",
       "    <tr>\n",
       "      <td>2530314</td>\n",
       "      <td>2017-01-01 00:00:00</td>\n",
       "      <td>158</td>\n",
       "      <td>0</td>\n",
       "      <td>10.97</td>\n",
       "    </tr>\n",
       "    <tr>\n",
       "      <td>2530315</td>\n",
       "      <td>2017-01-01 00:00:00</td>\n",
       "      <td>159</td>\n",
       "      <td>0</td>\n",
       "      <td>8.70</td>\n",
       "    </tr>\n",
       "    <tr>\n",
       "      <td>2530316</td>\n",
       "      <td>2017-01-01 00:00:00</td>\n",
       "      <td>160</td>\n",
       "      <td>0</td>\n",
       "      <td>10.08</td>\n",
       "    </tr>\n",
       "    <tr>\n",
       "      <td>...</td>\n",
       "      <td>...</td>\n",
       "      <td>...</td>\n",
       "      <td>...</td>\n",
       "      <td>...</td>\n",
       "    </tr>\n",
       "    <tr>\n",
       "      <td>7593587</td>\n",
       "      <td>2018-12-31 23:00:00</td>\n",
       "      <td>287</td>\n",
       "      <td>3</td>\n",
       "      <td>0.00</td>\n",
       "    </tr>\n",
       "    <tr>\n",
       "      <td>7593588</td>\n",
       "      <td>2018-12-31 23:00:00</td>\n",
       "      <td>288</td>\n",
       "      <td>0</td>\n",
       "      <td>26.53</td>\n",
       "    </tr>\n",
       "    <tr>\n",
       "      <td>7593589</td>\n",
       "      <td>2018-12-31 23:00:00</td>\n",
       "      <td>289</td>\n",
       "      <td>0</td>\n",
       "      <td>22.94</td>\n",
       "    </tr>\n",
       "    <tr>\n",
       "      <td>7593590</td>\n",
       "      <td>2018-12-31 23:00:00</td>\n",
       "      <td>290</td>\n",
       "      <td>0</td>\n",
       "      <td>102.04</td>\n",
       "    </tr>\n",
       "    <tr>\n",
       "      <td>7593591</td>\n",
       "      <td>2018-12-31 23:00:00</td>\n",
       "      <td>290</td>\n",
       "      <td>1</td>\n",
       "      <td>0.00</td>\n",
       "    </tr>\n",
       "  </tbody>\n",
       "</table>\n",
       "<p>5063280 rows × 4 columns</p>\n",
       "</div>"
      ],
      "text/plain": [
       "                  timestamp  building_id  meter  meter_reading\n",
       "2530312 2017-01-01 00:00:00          156      0         104.96\n",
       "2530313 2017-01-01 00:00:00          157      0          32.92\n",
       "2530314 2017-01-01 00:00:00          158      0          10.97\n",
       "2530315 2017-01-01 00:00:00          159      0           8.70\n",
       "2530316 2017-01-01 00:00:00          160      0          10.08\n",
       "...                     ...          ...    ...            ...\n",
       "7593587 2018-12-31 23:00:00          287      3           0.00\n",
       "7593588 2018-12-31 23:00:00          288      0          26.53\n",
       "7593589 2018-12-31 23:00:00          289      0          22.94\n",
       "7593590 2018-12-31 23:00:00          290      0         102.04\n",
       "7593591 2018-12-31 23:00:00          290      1           0.00\n",
       "\n",
       "[5063280 rows x 4 columns]"
      ]
     },
     "execution_count": 11,
     "metadata": {},
     "output_type": "execute_result"
    }
   ],
   "source": [
    "site_2"
   ]
  },
  {
   "cell_type": "code",
   "execution_count": 12,
   "metadata": {},
   "outputs": [
    {
     "data": {
      "text/plain": [
       "0"
      ]
     },
     "execution_count": 12,
     "metadata": {},
     "output_type": "execute_result"
    }
   ],
   "source": [
    "t = test[['building_id', 'meter', 'timestamp']]\n",
    "t['row_id'] = t.index\n",
    "site_2 = site_2.merge(t, left_on = ['building_id', 'meter', 'timestamp'], right_on = ['building_id', 'meter', 'timestamp'], how = \"left\")\n",
    "site_2 = site_2[['meter_reading', 'row_id']].set_index('row_id').dropna()\n",
    "submission.loc[site_2.index, 'meter_reading'] = site_2['meter_reading']\n",
    "del site_2\n",
    "gc.collect()"
   ]
  },
  {
   "cell_type": "markdown",
   "metadata": {},
   "source": [
    "* Site 4"
   ]
  },
  {
   "cell_type": "markdown",
   "metadata": {},
   "source": [
    "Download file from https://www.kaggle.com/serengil/ucb-data-leakage-site-4-81-buildings/output. Please make sure that you are downloading from one of the last commit since the first commits seems to be wrong."
   ]
  },
  {
   "cell_type": "code",
   "execution_count": 13,
   "metadata": {},
   "outputs": [],
   "source": [
    "site_4 = pd.read_csv('./site4.csv', parse_dates = ['timestamp'])\n",
    "site_4 = site_4[site_4['timestamp'].dt.year > 2016]\n",
    "site_4['meter']=0\n",
    "\n",
    "site_4.columns = ['building_id', 'timestamp', 'meter_reading', 'meter']"
   ]
  },
  {
   "cell_type": "code",
   "execution_count": 14,
   "metadata": {},
   "outputs": [
    {
     "data": {
      "text/html": [
       "<div>\n",
       "<style scoped>\n",
       "    .dataframe tbody tr th:only-of-type {\n",
       "        vertical-align: middle;\n",
       "    }\n",
       "\n",
       "    .dataframe tbody tr th {\n",
       "        vertical-align: top;\n",
       "    }\n",
       "\n",
       "    .dataframe thead th {\n",
       "        text-align: right;\n",
       "    }\n",
       "</style>\n",
       "<table border=\"1\" class=\"dataframe\">\n",
       "  <thead>\n",
       "    <tr style=\"text-align: right;\">\n",
       "      <th></th>\n",
       "      <th>building_id</th>\n",
       "      <th>timestamp</th>\n",
       "      <th>meter_reading</th>\n",
       "      <th>meter</th>\n",
       "    </tr>\n",
       "  </thead>\n",
       "  <tbody>\n",
       "    <tr>\n",
       "      <td>8784</td>\n",
       "      <td>641</td>\n",
       "      <td>2017-01-01 00:00:00</td>\n",
       "      <td>298.120</td>\n",
       "      <td>0</td>\n",
       "    </tr>\n",
       "    <tr>\n",
       "      <td>8785</td>\n",
       "      <td>641</td>\n",
       "      <td>2017-01-01 01:00:00</td>\n",
       "      <td>305.534</td>\n",
       "      <td>0</td>\n",
       "    </tr>\n",
       "    <tr>\n",
       "      <td>8786</td>\n",
       "      <td>641</td>\n",
       "      <td>2017-01-01 02:00:00</td>\n",
       "      <td>280.643</td>\n",
       "      <td>0</td>\n",
       "    </tr>\n",
       "    <tr>\n",
       "      <td>8787</td>\n",
       "      <td>641</td>\n",
       "      <td>2017-01-01 03:00:00</td>\n",
       "      <td>277.854</td>\n",
       "      <td>0</td>\n",
       "    </tr>\n",
       "    <tr>\n",
       "      <td>8788</td>\n",
       "      <td>641</td>\n",
       "      <td>2017-01-01 04:00:00</td>\n",
       "      <td>280.613</td>\n",
       "      <td>0</td>\n",
       "    </tr>\n",
       "  </tbody>\n",
       "</table>\n",
       "</div>"
      ],
      "text/plain": [
       "      building_id           timestamp  meter_reading  meter\n",
       "8784          641 2017-01-01 00:00:00        298.120      0\n",
       "8785          641 2017-01-01 01:00:00        305.534      0\n",
       "8786          641 2017-01-01 02:00:00        280.643      0\n",
       "8787          641 2017-01-01 03:00:00        277.854      0\n",
       "8788          641 2017-01-01 04:00:00        280.613      0"
      ]
     },
     "execution_count": 14,
     "metadata": {},
     "output_type": "execute_result"
    }
   ],
   "source": [
    "site_4.head()"
   ]
  },
  {
   "cell_type": "code",
   "execution_count": 15,
   "metadata": {},
   "outputs": [],
   "source": [
    "site_4 = site_4.merge(t, left_on = ['building_id', 'meter', 'timestamp'], right_on = ['building_id', 'meter', 'timestamp'], how = \"left\")"
   ]
  },
  {
   "cell_type": "code",
   "execution_count": 16,
   "metadata": {},
   "outputs": [],
   "source": [
    "site_4 = site_4[['meter_reading', 'row_id']].dropna().set_index('row_id')"
   ]
  },
  {
   "cell_type": "code",
   "execution_count": 17,
   "metadata": {},
   "outputs": [
    {
     "data": {
      "text/plain": [
       "(1415273, 1)"
      ]
     },
     "execution_count": 17,
     "metadata": {},
     "output_type": "execute_result"
    }
   ],
   "source": [
    "site_4.shape"
   ]
  },
  {
   "cell_type": "code",
   "execution_count": 18,
   "metadata": {},
   "outputs": [],
   "source": [
    "# site_4 = site_4[['meter_reading', 'row_id']].set_index('row_id').dropna()\n",
    "submission.loc[site_4.index, 'meter_reading'] = site_4['meter_reading']"
   ]
  },
  {
   "cell_type": "code",
   "execution_count": null,
   "metadata": {},
   "outputs": [],
   "source": []
  },
  {
   "cell_type": "code",
   "execution_count": null,
   "metadata": {},
   "outputs": [],
   "source": []
  },
  {
   "cell_type": "markdown",
   "metadata": {},
   "source": [
    "* Site 15"
   ]
  },
  {
   "cell_type": "markdown",
   "metadata": {},
   "source": [
    "Download file site15_leakage from https://www.kaggle.com/pp2file/ashrae-site15-cornell/output."
   ]
  },
  {
   "cell_type": "code",
   "execution_count": 19,
   "metadata": {},
   "outputs": [
    {
     "data": {
      "text/html": [
       "<div>\n",
       "<style scoped>\n",
       "    .dataframe tbody tr th:only-of-type {\n",
       "        vertical-align: middle;\n",
       "    }\n",
       "\n",
       "    .dataframe tbody tr th {\n",
       "        vertical-align: top;\n",
       "    }\n",
       "\n",
       "    .dataframe thead th {\n",
       "        text-align: right;\n",
       "    }\n",
       "</style>\n",
       "<table border=\"1\" class=\"dataframe\">\n",
       "  <thead>\n",
       "    <tr style=\"text-align: right;\">\n",
       "      <th></th>\n",
       "      <th>timestamp</th>\n",
       "      <th>meter</th>\n",
       "      <th>meter_reading</th>\n",
       "      <th>building_id</th>\n",
       "      <th>score</th>\n",
       "    </tr>\n",
       "  </thead>\n",
       "  <tbody>\n",
       "    <tr>\n",
       "      <td>0</td>\n",
       "      <td>2017-01-01 00:00:00</td>\n",
       "      <td>0.0</td>\n",
       "      <td>27.650000</td>\n",
       "      <td>1429</td>\n",
       "      <td>1.0</td>\n",
       "    </tr>\n",
       "    <tr>\n",
       "      <td>1</td>\n",
       "      <td>2017-01-01 00:00:00</td>\n",
       "      <td>2.0</td>\n",
       "      <td>278.528900</td>\n",
       "      <td>1426</td>\n",
       "      <td>1.0</td>\n",
       "    </tr>\n",
       "    <tr>\n",
       "      <td>2</td>\n",
       "      <td>2017-01-01 01:00:00</td>\n",
       "      <td>0.0</td>\n",
       "      <td>28.674999</td>\n",
       "      <td>1429</td>\n",
       "      <td>1.0</td>\n",
       "    </tr>\n",
       "    <tr>\n",
       "      <td>3</td>\n",
       "      <td>2017-01-01 01:00:00</td>\n",
       "      <td>2.0</td>\n",
       "      <td>373.365875</td>\n",
       "      <td>1426</td>\n",
       "      <td>1.0</td>\n",
       "    </tr>\n",
       "    <tr>\n",
       "      <td>4</td>\n",
       "      <td>2017-01-01 02:00:00</td>\n",
       "      <td>0.0</td>\n",
       "      <td>27.200001</td>\n",
       "      <td>1429</td>\n",
       "      <td>1.0</td>\n",
       "    </tr>\n",
       "    <tr>\n",
       "      <td>...</td>\n",
       "      <td>...</td>\n",
       "      <td>...</td>\n",
       "      <td>...</td>\n",
       "      <td>...</td>\n",
       "      <td>...</td>\n",
       "    </tr>\n",
       "    <tr>\n",
       "      <td>2476696</td>\n",
       "      <td>2018-12-31 19:00:00</td>\n",
       "      <td>0.0</td>\n",
       "      <td>184.524994</td>\n",
       "      <td>1363</td>\n",
       "      <td>1.0</td>\n",
       "    </tr>\n",
       "    <tr>\n",
       "      <td>2476697</td>\n",
       "      <td>2018-12-31 20:00:00</td>\n",
       "      <td>0.0</td>\n",
       "      <td>183.600006</td>\n",
       "      <td>1363</td>\n",
       "      <td>1.0</td>\n",
       "    </tr>\n",
       "    <tr>\n",
       "      <td>2476698</td>\n",
       "      <td>2018-12-31 21:00:00</td>\n",
       "      <td>0.0</td>\n",
       "      <td>178.475006</td>\n",
       "      <td>1363</td>\n",
       "      <td>1.0</td>\n",
       "    </tr>\n",
       "    <tr>\n",
       "      <td>2476699</td>\n",
       "      <td>2018-12-31 22:00:00</td>\n",
       "      <td>0.0</td>\n",
       "      <td>179.725006</td>\n",
       "      <td>1363</td>\n",
       "      <td>1.0</td>\n",
       "    </tr>\n",
       "    <tr>\n",
       "      <td>2476700</td>\n",
       "      <td>2018-12-31 23:00:00</td>\n",
       "      <td>0.0</td>\n",
       "      <td>175.324997</td>\n",
       "      <td>1363</td>\n",
       "      <td>1.0</td>\n",
       "    </tr>\n",
       "  </tbody>\n",
       "</table>\n",
       "<p>2476701 rows × 5 columns</p>\n",
       "</div>"
      ],
      "text/plain": [
       "                  timestamp  meter  meter_reading  building_id  score\n",
       "0       2017-01-01 00:00:00    0.0      27.650000         1429    1.0\n",
       "1       2017-01-01 00:00:00    2.0     278.528900         1426    1.0\n",
       "2       2017-01-01 01:00:00    0.0      28.674999         1429    1.0\n",
       "3       2017-01-01 01:00:00    2.0     373.365875         1426    1.0\n",
       "4       2017-01-01 02:00:00    0.0      27.200001         1429    1.0\n",
       "...                     ...    ...            ...          ...    ...\n",
       "2476696 2018-12-31 19:00:00    0.0     184.524994         1363    1.0\n",
       "2476697 2018-12-31 20:00:00    0.0     183.600006         1363    1.0\n",
       "2476698 2018-12-31 21:00:00    0.0     178.475006         1363    1.0\n",
       "2476699 2018-12-31 22:00:00    0.0     179.725006         1363    1.0\n",
       "2476700 2018-12-31 23:00:00    0.0     175.324997         1363    1.0\n",
       "\n",
       "[2476701 rows x 5 columns]"
      ]
     },
     "execution_count": 19,
     "metadata": {},
     "output_type": "execute_result"
    }
   ],
   "source": [
    "site_15 = pd.read_csv('./site15_leakage.csv', parse_dates = ['timestamp'])\n",
    "site_15 = site_15[site_15['timestamp'].dt.year > 2016]\n",
    "site_15"
   ]
  },
  {
   "cell_type": "code",
   "execution_count": 20,
   "metadata": {},
   "outputs": [
    {
     "data": {
      "text/plain": [
       "(2476701, 1)"
      ]
     },
     "execution_count": 20,
     "metadata": {},
     "output_type": "execute_result"
    }
   ],
   "source": [
    "site_15 = site_15[['building_id', 'timestamp', 'meter_reading', 'meter']]\n",
    "site_15 = site_15.merge(t, left_on = ['building_id', 'meter', 'timestamp'], right_on = ['building_id', 'meter', 'timestamp'], how = \"left\")\n",
    "site_15 = site_15[['meter_reading', 'row_id']].dropna().set_index('row_id')\n",
    "site_15.shape"
   ]
  },
  {
   "cell_type": "code",
   "execution_count": 21,
   "metadata": {},
   "outputs": [],
   "source": [
    "submission.loc[site_15.index, 'meter_reading'] = site_15['meter_reading']"
   ]
  },
  {
   "cell_type": "code",
   "execution_count": null,
   "metadata": {},
   "outputs": [],
   "source": [
    "submission.reset_index().to_feather('leak012345_001.feather')"
   ]
  },
  {
   "cell_type": "code",
   "execution_count": null,
   "metadata": {},
   "outputs": [],
   "source": []
  }
 ],
 "metadata": {
  "kernelspec": {
   "display_name": "Python 3",
   "language": "python",
   "name": "python3"
  },
  "language_info": {
   "codemirror_mode": {
    "name": "ipython",
    "version": 3
   },
   "file_extension": ".py",
   "mimetype": "text/x-python",
   "name": "python",
   "nbconvert_exporter": "python",
   "pygments_lexer": "ipython3",
   "version": "3.6.8"
  }
 },
 "nbformat": 4,
 "nbformat_minor": 1
}
