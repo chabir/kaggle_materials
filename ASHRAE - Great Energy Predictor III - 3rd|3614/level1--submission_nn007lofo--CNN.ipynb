{
 "cells": [
  {
   "cell_type": "markdown",
   "metadata": {},
   "source": [
    "based on GM @aerdem4 Keras CNN (lofoCNN)"
   ]
  },
  {
   "cell_type": "markdown",
   "metadata": {},
   "source": [
    "(this is a keras tensorflow so no need to change /.keras/keras.json)"
   ]
  },
  {
   "cell_type": "code",
   "execution_count": 1,
   "metadata": {
    "_cell_guid": "b1076dfc-b9ad-4769-8c92-a6c4dae69d19",
    "_uuid": "8f2839f25d086af736a60e9eeb907d3b93b6e0e5"
   },
   "outputs": [
    {
     "name": "stdout",
     "output_type": "stream",
     "text": [
      "./sample_submission.csv\n",
      "./submission_withoutleak001.csv.gz\n",
      "./submission_nn007lofo.csv.gz\n",
      "./generate_datasets.ipynb\n",
      "./rows_to_drop.csv\n",
      "./fe2_lgbm.csv\n",
      "./building_all_meters.feather\n",
      "./train_with_cnt_per_tmp_meter.feather\n",
      "./test_simple_cleanup.feather\n",
      "./site4.csv\n",
      "./level2--ensembling_model.ipynb\n",
      "./untitled.txt\n",
      "./submission_multimeter003.csv.gz\n",
      "./tests_building.ipynb\n",
      "./level1--submission_multimeter003.ipynb\n",
      "./site1.pkl\n",
      "./level1--submission_whatsyourcv3_0052_trncl.ipynb\n",
      "./submission_nn001.csv\n",
      "./weather_train.csv\n",
      "./generate_leak_data.ipynb\n",
      "./cnn_model_0.hdf5\n",
      "./leak012345_001.feather\n",
      "./site15_leakage.csv\n",
      "./train.csv\n",
      "./winning sub --- TO BE REMOVED.ipynb\n",
      "./submission_multimeter004_nobuild.csv.gz\n",
      "./tests_building -- TO BE REMOVED.ipynb\n",
      "./model_0.hdf5\n",
      "./test.csv\n",
      "./weather_test.csv\n",
      "./submission_ucf_replaced.csv\n",
      "./level1--submission_nn007lofo--CNN.ipynb\n",
      "./histgradboost113.csv\n",
      "./level1--submission_nn001-DenseNN.ipynb\n",
      "./submission_whatsyourcv3_0052_trncl.csv.gz\n",
      "./building_metadata.csv\n",
      "./submission_ensemble_3rd_place.csv.gz\n",
      "./another_108_catboost002.csv\n",
      "./asu_2016-2018.csv.zip\n",
      "./train_cleanup_001.feather\n",
      "./train_simple_cleanup.feather\n",
      "./level1--submission_multimeter004_nobuild.ipynb\n",
      "./level1--submission_withoutleak001.ipynb\n",
      "./model_1.hdf5\n",
      "./requirement.txt\n",
      "./.ipynb_checkpoints/level1--submission_nn007lofo--CNN-checkpoint.ipynb\n",
      "./.ipynb_checkpoints/generate_datasets-checkpoint.ipynb\n",
      "./.ipynb_checkpoints/level1--submission_nn001-DenseNN-checkpoint.ipynb\n",
      "./.ipynb_checkpoints/level1--submission_whatsyourcv3_0052_trncl-checkpoint.ipynb\n",
      "./.ipynb_checkpoints/level1--submission_multimeter003-checkpoint.ipynb\n",
      "./.ipynb_checkpoints/generate_leak_data-checkpoint.ipynb\n",
      "./.ipynb_checkpoints/tests_building-checkpoint.ipynb\n",
      "./.ipynb_checkpoints/winning sub --- TO BE REMOVED-checkpoint.ipynb\n",
      "./.ipynb_checkpoints/level1--submission_withoutleak001-checkpoint.ipynb\n",
      "./.ipynb_checkpoints/level2--ensembling_model-checkpoint.ipynb\n",
      "./.ipynb_checkpoints/level1--submission_multimeter004_nobuild-checkpoint.ipynb\n",
      "./.ipynb_checkpoints/tests_building -- TO BE REMOVED-checkpoint.ipynb\n"
     ]
    },
    {
     "name": "stderr",
     "output_type": "stream",
     "text": [
      "Using TensorFlow backend.\n",
      "/home/ubuntu/anaconda3/lib/python3.6/site-packages/tensorflow/python/framework/dtypes.py:516: FutureWarning: Passing (type, 1) or '1type' as a synonym of type is deprecated; in a future version of numpy, it will be understood as (type, (1,)) / '(1,)type'.\n",
      "  _np_qint8 = np.dtype([(\"qint8\", np.int8, 1)])\n",
      "/home/ubuntu/anaconda3/lib/python3.6/site-packages/tensorflow/python/framework/dtypes.py:517: FutureWarning: Passing (type, 1) or '1type' as a synonym of type is deprecated; in a future version of numpy, it will be understood as (type, (1,)) / '(1,)type'.\n",
      "  _np_quint8 = np.dtype([(\"quint8\", np.uint8, 1)])\n",
      "/home/ubuntu/anaconda3/lib/python3.6/site-packages/tensorflow/python/framework/dtypes.py:518: FutureWarning: Passing (type, 1) or '1type' as a synonym of type is deprecated; in a future version of numpy, it will be understood as (type, (1,)) / '(1,)type'.\n",
      "  _np_qint16 = np.dtype([(\"qint16\", np.int16, 1)])\n",
      "/home/ubuntu/anaconda3/lib/python3.6/site-packages/tensorflow/python/framework/dtypes.py:519: FutureWarning: Passing (type, 1) or '1type' as a synonym of type is deprecated; in a future version of numpy, it will be understood as (type, (1,)) / '(1,)type'.\n",
      "  _np_quint16 = np.dtype([(\"quint16\", np.uint16, 1)])\n",
      "/home/ubuntu/anaconda3/lib/python3.6/site-packages/tensorflow/python/framework/dtypes.py:520: FutureWarning: Passing (type, 1) or '1type' as a synonym of type is deprecated; in a future version of numpy, it will be understood as (type, (1,)) / '(1,)type'.\n",
      "  _np_qint32 = np.dtype([(\"qint32\", np.int32, 1)])\n",
      "/home/ubuntu/anaconda3/lib/python3.6/site-packages/tensorflow/python/framework/dtypes.py:525: FutureWarning: Passing (type, 1) or '1type' as a synonym of type is deprecated; in a future version of numpy, it will be understood as (type, (1,)) / '(1,)type'.\n",
      "  np_resource = np.dtype([(\"resource\", np.ubyte, 1)])\n",
      "/home/ubuntu/anaconda3/lib/python3.6/site-packages/tensorboard/compat/tensorflow_stub/dtypes.py:541: FutureWarning: Passing (type, 1) or '1type' as a synonym of type is deprecated; in a future version of numpy, it will be understood as (type, (1,)) / '(1,)type'.\n",
      "  _np_qint8 = np.dtype([(\"qint8\", np.int8, 1)])\n",
      "/home/ubuntu/anaconda3/lib/python3.6/site-packages/tensorboard/compat/tensorflow_stub/dtypes.py:542: FutureWarning: Passing (type, 1) or '1type' as a synonym of type is deprecated; in a future version of numpy, it will be understood as (type, (1,)) / '(1,)type'.\n",
      "  _np_quint8 = np.dtype([(\"quint8\", np.uint8, 1)])\n",
      "/home/ubuntu/anaconda3/lib/python3.6/site-packages/tensorboard/compat/tensorflow_stub/dtypes.py:543: FutureWarning: Passing (type, 1) or '1type' as a synonym of type is deprecated; in a future version of numpy, it will be understood as (type, (1,)) / '(1,)type'.\n",
      "  _np_qint16 = np.dtype([(\"qint16\", np.int16, 1)])\n",
      "/home/ubuntu/anaconda3/lib/python3.6/site-packages/tensorboard/compat/tensorflow_stub/dtypes.py:544: FutureWarning: Passing (type, 1) or '1type' as a synonym of type is deprecated; in a future version of numpy, it will be understood as (type, (1,)) / '(1,)type'.\n",
      "  _np_quint16 = np.dtype([(\"quint16\", np.uint16, 1)])\n",
      "/home/ubuntu/anaconda3/lib/python3.6/site-packages/tensorboard/compat/tensorflow_stub/dtypes.py:545: FutureWarning: Passing (type, 1) or '1type' as a synonym of type is deprecated; in a future version of numpy, it will be understood as (type, (1,)) / '(1,)type'.\n",
      "  _np_qint32 = np.dtype([(\"qint32\", np.int32, 1)])\n",
      "/home/ubuntu/anaconda3/lib/python3.6/site-packages/tensorboard/compat/tensorflow_stub/dtypes.py:550: FutureWarning: Passing (type, 1) or '1type' as a synonym of type is deprecated; in a future version of numpy, it will be understood as (type, (1,)) / '(1,)type'.\n",
      "  np_resource = np.dtype([(\"resource\", np.ubyte, 1)])\n"
     ]
    }
   ],
   "source": [
    "# This Python 3 environment comes with many helpful analytics libraries installed\n",
    "# It is defined by the kaggle/python docker image: https://github.com/kaggle/docker-python\n",
    "# For example, here's several helpful packages to load in \n",
    "\n",
    "import numpy as np # linear algebra\n",
    "import pandas as pd # data processing, CSV file I/O (e.g. pd.read_csv)\n",
    "\n",
    "# Input data files are available in the \"../input/\" directory.\n",
    "# For example, running this (by clicking run or pressing Shift+Enter) will list all files under the input directory\n",
    "\n",
    "import os\n",
    "for dirname, _, filenames in os.walk('./'):\n",
    "    for filename in filenames:\n",
    "        print(os.path.join(dirname, filename))\n",
    "\n",
    "# Any results you write to the current directory are saved as output.\n",
    "\n",
    "from keras.models import Model, load_model\n",
    "from keras.layers import Input, Dropout, Dense, Embedding, SpatialDropout1D, concatenate, BatchNormalization, Flatten\n",
    "from keras.preprocessing.sequence import pad_sequences\n",
    "from keras.preprocessing import text, sequence\n",
    "from keras.callbacks import Callback\n",
    "from keras import backend as K\n",
    "from keras.models import Model\n",
    "from keras.losses import mean_squared_error as mse_loss\n",
    "\n",
    "from keras import optimizers\n",
    "from keras.optimizers import RMSprop, Adam\n",
    "from keras.callbacks import EarlyStopping, ModelCheckpoint, ReduceLROnPlateau"
   ]
  },
  {
   "cell_type": "code",
   "execution_count": null,
   "metadata": {},
   "outputs": [],
   "source": []
  },
  {
   "cell_type": "code",
   "execution_count": 2,
   "metadata": {},
   "outputs": [
    {
     "data": {
      "text/plain": [
       "Index(['building_id', 'meter', 'timestamp', 'site_id', 'primary_use',\n",
       "       'square_feet', 'year_built', 'floor_count', 'na_year_built',\n",
       "       'na_floor_count', 'build_na_total', 'meter_reading_0',\n",
       "       'meter_reading_1', 'meter_reading_2', 'meter_reading_3',\n",
       "       'cnt_building_per_site', 'cnt_building_per_site_prim',\n",
       "       'sqr_mean_per_site', 'sqr_mean_per_prim_site', 'air_temperature',\n",
       "       'cloud_coverage', 'dew_temperature', 'precip_depth_1_hr',\n",
       "       'sea_level_pressure', 'wind_direction', 'wind_speed', 'RH', 'heat',\n",
       "       'windchill', 'feellike', 'air_temperature_mean_lag3',\n",
       "       'dew_temperature_mean_lag3', 'heat_mean_lag3', 'windchill_mean_lag3',\n",
       "       'feellike_mean_lag3', 'had_air_temperature', 'had_cloud_coverage',\n",
       "       'had_dew_temperature', 'had_precip_depth_1_hr',\n",
       "       'had_sea_level_pressure', 'had_wind_direction', 'had_wind_speed',\n",
       "       'had_RH', 'had_heat', 'had_windchill', 'had_feellike',\n",
       "       'had_air_temperature_mean_lag3', 'had_dew_temperature_mean_lag3',\n",
       "       'had_heat_mean_lag3', 'had_windchill_mean_lag3',\n",
       "       'had_feellike_mean_lag3', 'tm_day_of_week', 'tm_hour_of_day',\n",
       "       'meter_reading'],\n",
       "      dtype='object')"
      ]
     },
     "execution_count": 2,
     "metadata": {},
     "output_type": "execute_result"
    }
   ],
   "source": [
    "train = pd.read_feather(\"./train_simple_cleanup.feather\")\n",
    "train.columns"
   ]
  },
  {
   "cell_type": "code",
   "execution_count": 3,
   "metadata": {},
   "outputs": [],
   "source": [
    "from sklearn.preprocessing import LabelEncoder\n",
    "\n",
    "# le = LabelEncoder()\n",
    "# train[\"primary_use\"] = le.fit_transform(train[\"primary_use\"])\n",
    "\n",
    "categoricals = [\"site_id\", \"building_id\", \"primary_use\", \"tm_hour_of_day\", \"tm_day_of_week\",  \"meter\"]\n",
    "\n",
    "drop_cols = [\"sea_level_pressure\", \"wind_speed\", \"wind_direction\"]\n",
    "\n",
    "fonct_cols_list = ['meter_reading_0',\n",
    "       'meter_reading_1', 'meter_reading_2', 'meter_reading_3',\n",
    "       'cnt_building_per_site', 'cnt_building_per_site_prim',\n",
    "       'sqr_mean_per_site', 'sqr_mean_per_prim_site',\n",
    "       'RH', 'heat',\n",
    "       'windchill', 'feellike', 'air_temperature_mean_lag3',\n",
    "       'dew_temperature_mean_lag3', 'heat_mean_lag3', 'windchill_mean_lag3',]\n",
    "\n",
    "numcols_3d = [\"tm_hour_of_day\", 'RH', 'heat', 'windchill', 'feellike',\n",
    "             \"air_temperature\", \"cloud_coverage\",\"dew_temperature\", \"precip_depth_1_hr\"]\n",
    "\n",
    "had_cols_list = ['had_air_temperature', 'had_cloud_coverage',\n",
    "       'had_dew_temperature', 'had_precip_depth_1_hr',\n",
    "       'had_sea_level_pressure', 'had_wind_direction', 'had_wind_speed',\n",
    "       'had_RH', 'had_heat', 'had_windchill', 'had_feellike',\n",
    "       'had_air_temperature_mean_lag3', 'had_dew_temperature_mean_lag3',\n",
    "       'had_heat_mean_lag3', 'had_windchill_mean_lag3',\n",
    "       'had_feellike_mean_lag3']\n",
    "\n",
    "numericals = [\"square_feet\", \"year_built\", \"air_temperature\", \"cloud_coverage\",\n",
    "              \"dew_temperature\", \"precip_depth_1_hr\", \"floor_count\", ]+drop_cols\n",
    "\n",
    "feat_cols = categoricals + numericals + fonct_cols_list + had_cols_list"
   ]
  },
  {
   "cell_type": "code",
   "execution_count": 4,
   "metadata": {},
   "outputs": [
    {
     "data": {
      "text/plain": [
       "9"
      ]
     },
     "execution_count": 4,
     "metadata": {},
     "output_type": "execute_result"
    }
   ],
   "source": [
    "len(numcols_3d)"
   ]
  },
  {
   "cell_type": "code",
   "execution_count": 5,
   "metadata": {},
   "outputs": [],
   "source": [
    "train['square_feet'] = train['square_feet'].apply(lambda x: int(x/1000))"
   ]
  },
  {
   "cell_type": "code",
   "execution_count": 6,
   "metadata": {},
   "outputs": [],
   "source": [
    "target = train[\"meter_reading\"]#np.log1p(train[\"meter_reading\"])\n",
    "\n",
    "del train[\"meter_reading\"] \n",
    "\n",
    "# train = train.drop(drop_cols, axis = 1)"
   ]
  },
  {
   "cell_type": "code",
   "execution_count": 7,
   "metadata": {},
   "outputs": [
    {
     "data": {
      "text/plain": [
       "{'square_feet': 875,\n",
       " 'year_built': 2017,\n",
       " 'air_temperature': 47.20000076293945,\n",
       " 'cloud_coverage': 9.0,\n",
       " 'dew_temperature': 35.0,\n",
       " 'precip_depth_1_hr': 343.0,\n",
       " 'floor_count': 26,\n",
       " 'sea_level_pressure': 1045.5,\n",
       " 'wind_speed': 19.0,\n",
       " 'wind_direction': 360.0,\n",
       " 'meter_reading_0': 1,\n",
       " 'meter_reading_1': 1,\n",
       " 'meter_reading_2': 1,\n",
       " 'meter_reading_3': 1,\n",
       " 'cnt_building_per_site': 274,\n",
       " 'cnt_building_per_site_prim': 92,\n",
       " 'sqr_mean_per_site': 290625.0,\n",
       " 'sqr_mean_per_prim_site': 405083.0,\n",
       " 'RH': 158.5,\n",
       " 'heat': 225.71316528320312,\n",
       " 'windchill': 1844.1282958984375,\n",
       " 'feellike': 225.71316528320312,\n",
       " 'air_temperature_mean_lag3': 47.20000076293945,\n",
       " 'dew_temperature_mean_lag3': 34.766666412353516,\n",
       " 'heat_mean_lag3': 217.25637817382812,\n",
       " 'windchill_mean_lag3': 1837.2135009765625}"
      ]
     },
     "execution_count": 7,
     "metadata": {},
     "output_type": "execute_result"
    }
   ],
   "source": [
    "max_col = {}\n",
    "for col in numericals+ fonct_cols_list:\n",
    "    if col != 'meter_reading':\n",
    "        max_ = max(-train[col].min(), train[col].max())\n",
    "        train[col] = train[col] / max_\n",
    "        max_col[col]=max_\n",
    "max_col"
   ]
  },
  {
   "cell_type": "code",
   "execution_count": null,
   "metadata": {},
   "outputs": [],
   "source": []
  },
  {
   "cell_type": "code",
   "execution_count": null,
   "metadata": {},
   "outputs": [],
   "source": []
  },
  {
   "cell_type": "code",
   "execution_count": 8,
   "metadata": {},
   "outputs": [
    {
     "data": {
      "text/plain": [
       "Index(['building_id', 'meter', 'timestamp', 'site_id', 'primary_use',\n",
       "       'square_feet', 'year_built', 'floor_count', 'na_year_built',\n",
       "       'na_floor_count', 'build_na_total', 'meter_reading_0',\n",
       "       'meter_reading_1', 'meter_reading_2', 'meter_reading_3',\n",
       "       'cnt_building_per_site', 'cnt_building_per_site_prim',\n",
       "       'sqr_mean_per_site', 'sqr_mean_per_prim_site', 'air_temperature',\n",
       "       'cloud_coverage', 'dew_temperature', 'precip_depth_1_hr',\n",
       "       'sea_level_pressure', 'wind_direction', 'wind_speed', 'RH', 'heat',\n",
       "       'windchill', 'feellike', 'air_temperature_mean_lag3',\n",
       "       'dew_temperature_mean_lag3', 'heat_mean_lag3', 'windchill_mean_lag3',\n",
       "       'feellike_mean_lag3', 'had_air_temperature', 'had_cloud_coverage',\n",
       "       'had_dew_temperature', 'had_precip_depth_1_hr',\n",
       "       'had_sea_level_pressure', 'had_wind_direction', 'had_wind_speed',\n",
       "       'had_RH', 'had_heat', 'had_windchill', 'had_feellike',\n",
       "       'had_air_temperature_mean_lag3', 'had_dew_temperature_mean_lag3',\n",
       "       'had_heat_mean_lag3', 'had_windchill_mean_lag3',\n",
       "       'had_feellike_mean_lag3', 'tm_day_of_week', 'tm_hour_of_day'],\n",
       "      dtype='object')"
      ]
     },
     "execution_count": 8,
     "metadata": {},
     "output_type": "execute_result"
    }
   ],
   "source": [
    "train.columns"
   ]
  },
  {
   "cell_type": "code",
   "execution_count": null,
   "metadata": {},
   "outputs": [],
   "source": []
  },
  {
   "cell_type": "code",
   "execution_count": 9,
   "metadata": {},
   "outputs": [],
   "source": [
    "# https://www.kaggle.com/divrikwicky/lightweight-version-of-2-65-custom-nn\n",
    "\n",
    "def nn_block(input_layer, size, dropout_rate, activation):\n",
    "    out_layer = Dense(size, activation=None)(input_layer)\n",
    "    out_layer = BatchNormalization()(out_layer)\n",
    "    out_layer = Activation(activation)(out_layer)\n",
    "    out_layer = Dropout(dropout_rate)(out_layer)\n",
    "    return out_layer\n",
    "\n",
    "def cnn_block(input_layer, size, dropout_rate, activation):\n",
    "    out_layer = Conv1D(size, 1, activation=None)(input_layer)\n",
    "    out_layer = BatchNormalization()(out_layer)\n",
    "    out_layer = Activation(activation)(out_layer)\n",
    "    out_layer = Dropout(dropout_rate)(out_layer)\n",
    "    return out_layer\n",
    "\n",
    "def model_lofo(dense_dim_1=64, dense_dim_2=32, dense_dim_3=32, dense_dim_4=16, \n",
    "            dropout1=0.2, dropout2=0.1, dropout3=0.1, dropout4=0.1, lr=0.001):\n",
    "\n",
    "    #Inputs\n",
    "    site_id = Input(shape=[1], name=\"site_id\")\n",
    "    building_id = Input(shape=[1], name=\"building_id\")\n",
    "    meter = Input(shape=[1], name=\"meter\")\n",
    "    primary_use = Input(shape=[1], name=\"primary_use\")\n",
    "    square_feet = Input(shape=[1], name=\"square_feet\")\n",
    "    year_built = Input(shape=[1], name=\"year_built\")\n",
    "    air_temperature = Input(shape=[1], name=\"air_temperature\")\n",
    "    cloud_coverage = Input(shape=[1], name=\"cloud_coverage\")\n",
    "    dew_temperature = Input(shape=[1], name=\"dew_temperature\")\n",
    "    tm_hour_of_day = Input(shape=[1], name=\"tm_hour_of_day\")\n",
    "    precip = Input(shape=[1], name=\"precip_depth_1_hr\")\n",
    "    tm_day_of_week = Input(shape=[1], name=\"tm_day_of_week\")\n",
    "#     beaufort_scale = Input(shape=[1], name=\"beaufort_scale\")\n",
    "\n",
    "    orig_feature = Input(shape=[len(numericals)], name=\"orig_feature\")\n",
    "    had_cols = Input(shape=[len(had_cols_list)], name=\"had_cols\")\n",
    "    fonct_cols = Input(shape=[len(fonct_cols_list)], name=\"fonct_cols\")\n",
    "    \n",
    "    all_num3D = Input(shape=(train[numcols_3d].shape[1], 3), name=\"all_num3D\")\n",
    "   \n",
    "    #Embeddings layers\n",
    "    emb_site_id = Embedding(16, 2)(site_id)\n",
    "    emb_building_id = Embedding(1449, 3)(building_id)\n",
    "    emb_meter = Embedding(4, 2)(meter)\n",
    "    emb_primary_use = Embedding(16, 2)(primary_use)\n",
    "#     emb_hour = Embedding(24, 2)(tm_hour_of_day)\n",
    "#     emb_weekday = Embedding(7, 2)(tm_day_of_week)\n",
    "\n",
    "    concat_emb = concatenate([\n",
    "           Flatten() (emb_site_id)\n",
    "         , Flatten() (emb_building_id)\n",
    "         , Flatten() (emb_primary_use)\n",
    "#          , Flatten() (emb_hour)\n",
    "#          , Flatten() (emb_weekday)\n",
    "    ])\n",
    "    \n",
    "#     categ = Dropout(dropout1)(Dense(dense_dim_1,activation='relu') (concat_emb))\n",
    "#     categ = BatchNormalization()(categ)\n",
    "#     categ = Dropout(dropout2)(Dense(dense_dim_2,activation='relu') (categ))\n",
    "    \n",
    "    #main layer\n",
    "    main_l = concatenate([\n",
    "#           categ\n",
    "        square_feet\n",
    "        , year_built\n",
    "        , air_temperature\n",
    "        , cloud_coverage\n",
    "        , dew_temperature\n",
    "        , tm_hour_of_day\n",
    "        , tm_day_of_week\n",
    "        , precip\n",
    "#         , beaufort_scale\n",
    "    ])\n",
    "    dense_input = concatenate([orig_feature, concat_emb, had_cols, fonct_cols])\n",
    "\n",
    "#     type_input = Input(shape=(1,))\n",
    "#     type_emb = Flatten()(Embedding(dev_df[\"le_type\"].max() + 1, 5)(type_input))\n",
    "\n",
    "    type_emb = Flatten()(emb_meter)\n",
    "    \n",
    "    mol_input = all_num3D #RepeatVector(3)(dense_input) #Input(shape=(M_train.shape[1], M_train.shape[2]))\n",
    "    mol_layer = cnn_block(mol_input, 200, 0.05, \"relu\")\n",
    "    mol_layer = cnn_block(mol_layer, 100, 0.05, \"relu\")\n",
    "    \n",
    "    merged_input = BatchNormalization()(concatenate([dense_input, type_emb, \n",
    "                                                     GlobalMaxPooling1D()(mol_layer), GlobalAvgPool1D()(mol_layer)]))\n",
    "    \n",
    "    x1 = Dense(200, activation=\"relu\")(merged_input)\n",
    "    x2 = nn_block(x1, 20, 0.01, \"sigmoid\")\n",
    "    \n",
    "    mol_layer = concatenate([RepeatVector(9)(x2), mol_layer])\n",
    "    mol_layer = cnn_block(mol_layer, 200, 0.05, \"relu\")\n",
    "    mol_layer = cnn_block(mol_layer, 100, 0.05, \"relu\")\n",
    "    merged_input = BatchNormalization()(concatenate([dense_input, type_emb, \n",
    "                                                     GlobalMaxPooling1D()(mol_layer), GlobalAvgPool1D()(mol_layer)]))\n",
    "    hidden_layer = concatenate([Dense(600, activation=\"relu\")(merged_input), x1])\n",
    "    \n",
    "    hidden_layer = nn_block(hidden_layer, 400, 0.05, \"relu\")\n",
    "    hidden_layer = nn_block(hidden_layer, 200, 0.05, \"relu\")\n",
    "    hidden_layer = nn_block(hidden_layer, 100, 0.05, \"relu\")\n",
    "    \n",
    "    hidden_layer = concatenate([Flatten()(emb_meter), hidden_layer])\n",
    "    \n",
    "    output = Dense(1, activation=\"linear\")(hidden_layer)\n",
    "\n",
    "\n",
    "    model = Model([ site_id,\n",
    "                    building_id, \n",
    "                    meter, \n",
    "                    primary_use, \n",
    "                    square_feet, \n",
    "                    year_built, \n",
    "                   \n",
    "                    air_temperature,\n",
    "                    cloud_coverage,\n",
    "                    dew_temperature, \n",
    "                    tm_hour_of_day,\n",
    "                    tm_day_of_week, \n",
    "                   precip,\n",
    "                   \n",
    "                   all_num3D,\n",
    "                   orig_feature,\n",
    "                   had_cols,\n",
    "                   fonct_cols,\n",
    "                    \n",
    "                    ], output)\n",
    "\n",
    "    model.compile(optimizer = Nadam(lr=lr),\n",
    "                  loss= mse_loss,\n",
    "                  metrics=[root_mean_squared_error])\n",
    "    return model"
   ]
  },
  {
   "cell_type": "code",
   "execution_count": 10,
   "metadata": {},
   "outputs": [],
   "source": [
    "def root_mean_squared_error(y_true, y_pred):\n",
    "    return K.sqrt(K.mean(K.square(y_pred - y_true), axis=0))"
   ]
  },
  {
   "cell_type": "code",
   "execution_count": 11,
   "metadata": {},
   "outputs": [],
   "source": [
    "from pandas.api.types import is_datetime64_any_dtype as is_datetime\n",
    "from pandas.api.types import is_categorical_dtype\n",
    "\n",
    "def reduce_mem_usage(df, use_float16=False):\n",
    "    \"\"\"\n",
    "    Iterate through all the columns of a dataframe and modify the data type to reduce memory usage.        \n",
    "    \"\"\"\n",
    "    \n",
    "    start_mem = df.memory_usage().sum() / 1024**2\n",
    "    print(\"Memory usage of dataframe is {:.2f} MB\".format(start_mem))\n",
    "    \n",
    "    for col in df.columns:\n",
    "        if is_datetime(df[col]) or is_categorical_dtype(df[col]):\n",
    "            continue\n",
    "        col_type = df[col].dtype\n",
    "        \n",
    "        if col_type != object:\n",
    "            c_min = df[col].min()\n",
    "            c_max = df[col].max()\n",
    "            if str(col_type)[:3] == \"int\":\n",
    "                if c_min > np.iinfo(np.int8).min and c_max < np.iinfo(np.int8).max:\n",
    "                    df[col] = df[col].astype(np.int8)\n",
    "                elif c_min > np.iinfo(np.int16).min and c_max < np.iinfo(np.int16).max:\n",
    "                    df[col] = df[col].astype(np.int16)\n",
    "                elif c_min > np.iinfo(np.int32).min and c_max < np.iinfo(np.int32).max:\n",
    "                    df[col] = df[col].astype(np.int32)\n",
    "                elif c_min > np.iinfo(np.int64).min and c_max < np.iinfo(np.int64).max:\n",
    "                    df[col] = df[col].astype(np.int64)  \n",
    "            else:\n",
    "                if use_float16 and c_min > np.finfo(np.float16).min and c_max < np.finfo(np.float16).max:\n",
    "                    df[col] = df[col].astype(np.float16)\n",
    "                elif c_min > np.finfo(np.float32).min and c_max < np.finfo(np.float32).max:\n",
    "                    df[col] = df[col].astype(np.float32)\n",
    "                else:\n",
    "                    df[col] = df[col].astype(np.float64)\n",
    "        else:\n",
    "            df[col] = df[col].astype(\"category\")\n",
    "\n",
    "    end_mem = df.memory_usage().sum() / 1024**2\n",
    "    print(\"Memory usage after optimization is: {:.2f} MB\".format(end_mem))\n",
    "    print(\"Decreased by {:.1f}%\".format(100 * (start_mem - end_mem) / start_mem))\n",
    "    \n",
    "    return df"
   ]
  },
  {
   "cell_type": "code",
   "execution_count": 12,
   "metadata": {},
   "outputs": [
    {
     "name": "stdout",
     "output_type": "stream",
     "text": [
      "Memory usage of dataframe is 4387.67 MB\n",
      "Memory usage after optimization is: 2486.35 MB\n",
      "Decreased by 43.3%\n",
      "Memory usage of dataframe is 731.28 MB\n",
      "Memory usage after optimization is: 658.15 MB\n",
      "Decreased by 10.0%\n",
      "Memory usage of dataframe is 731.28 MB\n",
      "Memory usage after optimization is: 658.15 MB\n",
      "Decreased by 10.0%\n"
     ]
    }
   ],
   "source": [
    "# introduction of lagged features (-1 hours and -2 hours)\n",
    "\n",
    "train = reduce_mem_usage(train)\n",
    "\n",
    "train1 = train.groupby(['building_id', 'meter'])[numcols_3d].shift(1).fillna(0)\n",
    "train1 = reduce_mem_usage(train1)\n",
    "train2 = train.groupby(['building_id', 'meter'])[numcols_3d].shift(2).fillna(0)\n",
    "train2 = reduce_mem_usage(train2)"
   ]
  },
  {
   "cell_type": "code",
   "execution_count": 13,
   "metadata": {},
   "outputs": [],
   "source": [
    "# fct to return the data as 3D table embeded into a dictionnary:\n",
    "def get_keras_data(df, df1, df2, num_cols, cat_cols):\n",
    "    cols = cat_cols + num_cols\n",
    "    X = {col: np.array(df[col]) for col in cols}\n",
    "    X['orig_feature'] = np.array(df[numericals])\n",
    "    X['had_cols'] = np.array(df[had_cols_list])\n",
    "    X['fonct_cols'] = np.array(df[fonct_cols_list])\n",
    "    \n",
    "    X['all_num0'] = np.array(df[numcols_3d])\n",
    "    X['all_num1'] = np.array(df1[numcols_3d])\n",
    "    X['all_num2'] = np.array(df2[numcols_3d])\n",
    "    \n",
    "    M = np.zeros((df[numcols_3d].shape[0], df[numcols_3d].shape[1], 3), dtype=np.float32)\n",
    "    M[:,:,0] = X['all_num0']\n",
    "    M[:,:,1] = X['all_num1']\n",
    "    M[:,:,2] = X['all_num2']\n",
    "    \n",
    "    X['all_num3D'] = M\n",
    "    \n",
    "    return X\n",
    "\n",
    "def train_model(keras_model, X_t, y_train, batch_size, epochs, X_v, y_valid, fold, patience=3):\n",
    "    early_stopping = EarlyStopping(patience=patience, verbose=1)\n",
    "    model_checkpoint = ModelCheckpoint(\"cnn_model_\" + str(fold) + \".hdf5\",\n",
    "                                       save_best_only=True, verbose=1, monitor='val_root_mean_squared_error', mode='min')\n",
    "\n",
    "    hist = keras_model.fit(X_t, y_train, batch_size=batch_size, epochs=epochs,\n",
    "                            validation_data=(X_v, y_valid), verbose=1,\n",
    "                            callbacks=[early_stopping, model_checkpoint])\n",
    "\n",
    "    keras_model = load_model(\"cnn_model_\" + str(fold) + \".hdf5\", custom_objects={'root_mean_squared_error': root_mean_squared_error})\n",
    "    \n",
    "    return keras_model"
   ]
  },
  {
   "cell_type": "code",
   "execution_count": 14,
   "metadata": {},
   "outputs": [
    {
     "name": "stdout",
     "output_type": "stream",
     "text": [
      "Fold: 0\n"
     ]
    },
    {
     "name": "stderr",
     "output_type": "stream",
     "text": [
      "WARNING: Logging before flag parsing goes to stderr.\n",
      "W0114 01:06:32.285661 140413362960128 deprecation_wrapper.py:119] From /home/ubuntu/anaconda3/lib/python3.6/site-packages/keras/backend/tensorflow_backend.py:529: The name tf.placeholder is deprecated. Please use tf.compat.v1.placeholder instead.\n",
      "\n",
      "W0114 01:06:32.448580 140413362960128 deprecation_wrapper.py:119] From /home/ubuntu/anaconda3/lib/python3.6/site-packages/keras/backend/tensorflow_backend.py:74: The name tf.get_default_graph is deprecated. Please use tf.compat.v1.get_default_graph instead.\n",
      "\n",
      "W0114 01:06:32.449694 140413362960128 deprecation_wrapper.py:119] From /home/ubuntu/anaconda3/lib/python3.6/site-packages/keras/backend/tensorflow_backend.py:4420: The name tf.random_uniform is deprecated. Please use tf.random.uniform instead.\n",
      "\n",
      "W0114 01:06:32.586956 140413362960128 deprecation_wrapper.py:119] From /home/ubuntu/anaconda3/lib/python3.6/site-packages/keras/backend/tensorflow_backend.py:136: The name tf.placeholder_with_default is deprecated. Please use tf.compat.v1.placeholder_with_default instead.\n",
      "\n",
      "W0114 01:06:32.608302 140413362960128 deprecation.py:506] From /home/ubuntu/anaconda3/lib/python3.6/site-packages/keras/backend/tensorflow_backend.py:3721: calling dropout (from tensorflow.python.ops.nn_ops) with keep_prob is deprecated and will be removed in a future version.\n",
      "Instructions for updating:\n",
      "Please use `rate` instead of `keep_prob`. Rate should be set to `rate = 1 - keep_prob`.\n",
      "W0114 01:06:33.567280 140413362960128 deprecation_wrapper.py:119] From /home/ubuntu/anaconda3/lib/python3.6/site-packages/keras/optimizers.py:793: The name tf.train.Optimizer is deprecated. Please use tf.compat.v1.train.Optimizer instead.\n",
      "\n",
      "W0114 01:06:35.228020 140413362960128 deprecation_wrapper.py:119] From /home/ubuntu/anaconda3/lib/python3.6/site-packages/keras/backend/tensorflow_backend.py:1021: The name tf.assign_add is deprecated. Please use tf.compat.v1.assign_add instead.\n",
      "\n"
     ]
    },
    {
     "name": "stdout",
     "output_type": "stream",
     "text": [
      "Train on 9585011 samples, validate on 9585012 samples\n",
      "Epoch 1/5\n",
      "9585011/9585011 [==============================] - 1615s 168us/step - loss: 0.8460 - root_mean_squared_error: 0.8678 - val_loss: 0.8168 - val_root_mean_squared_error: 0.8974\n",
      "\n",
      "Epoch 00001: val_root_mean_squared_error improved from inf to 0.89738, saving model to cnn_model_0.hdf5\n",
      "Epoch 2/5\n",
      "9585011/9585011 [==============================] - 1610s 168us/step - loss: 0.4991 - root_mean_squared_error: 0.7058 - val_loss: 0.9295 - val_root_mean_squared_error: 0.9584\n",
      "\n",
      "Epoch 00002: val_root_mean_squared_error did not improve from 0.89738\n",
      "Epoch 3/5\n",
      "9585011/9585011 [==============================] - 1611s 168us/step - loss: 0.4541 - root_mean_squared_error: 0.6734 - val_loss: 0.6883 - val_root_mean_squared_error: 0.8253\n",
      "\n",
      "Epoch 00003: val_root_mean_squared_error improved from 0.89738 to 0.82530, saving model to cnn_model_0.hdf5\n",
      "Epoch 4/5\n",
      "9585011/9585011 [==============================] - 1611s 168us/step - loss: 0.4279 - root_mean_squared_error: 0.6536 - val_loss: 0.7070 - val_root_mean_squared_error: 0.8362\n",
      "\n",
      "Epoch 00004: val_root_mean_squared_error did not improve from 0.82530\n",
      "Epoch 5/5\n",
      "9585011/9585011 [==============================] - 1611s 168us/step - loss: 0.4097 - root_mean_squared_error: 0.6396 - val_loss: 0.6856 - val_root_mean_squared_error: 0.8235\n",
      "\n",
      "Epoch 00005: val_root_mean_squared_error improved from 0.82530 to 0.82355, saving model to cnn_model_0.hdf5\n",
      "**************************************************\n",
      "Fold: 1\n",
      "Train on 9585012 samples, validate on 9585011 samples\n",
      "Epoch 1/5\n",
      "9585012/9585012 [==============================] - 1622s 169us/step - loss: 0.7776 - root_mean_squared_error: 0.8417 - val_loss: 0.8200 - val_root_mean_squared_error: 0.8977\n",
      "\n",
      "Epoch 00001: val_root_mean_squared_error improved from inf to 0.89774, saving model to cnn_model_1.hdf5\n",
      "Epoch 2/5\n",
      "9585012/9585012 [==============================] - 1617s 169us/step - loss: 0.4806 - root_mean_squared_error: 0.6926 - val_loss: 0.7470 - val_root_mean_squared_error: 0.8583\n",
      "\n",
      "Epoch 00002: val_root_mean_squared_error improved from 0.89774 to 0.85831, saving model to cnn_model_1.hdf5\n",
      "Epoch 3/5\n",
      "9585012/9585012 [==============================] - 1617s 169us/step - loss: 0.4351 - root_mean_squared_error: 0.6591 - val_loss: 0.7423 - val_root_mean_squared_error: 0.8565\n",
      "\n",
      "Epoch 00003: val_root_mean_squared_error improved from 0.85831 to 0.85650, saving model to cnn_model_1.hdf5\n",
      "Epoch 4/5\n",
      "9585012/9585012 [==============================] - 1617s 169us/step - loss: 0.4107 - root_mean_squared_error: 0.6403 - val_loss: 0.7005 - val_root_mean_squared_error: 0.8313\n",
      "\n",
      "Epoch 00004: val_root_mean_squared_error improved from 0.85650 to 0.83132, saving model to cnn_model_1.hdf5\n",
      "Epoch 5/5\n",
      "9585012/9585012 [==============================] - 1617s 169us/step - loss: 0.3923 - root_mean_squared_error: 0.6258 - val_loss: 0.6927 - val_root_mean_squared_error: 0.8262\n",
      "\n",
      "Epoch 00005: val_root_mean_squared_error improved from 0.83132 to 0.82622, saving model to cnn_model_1.hdf5\n",
      "**************************************************\n"
     ]
    }
   ],
   "source": [
    "from sklearn.model_selection import KFold, StratifiedKFold, GroupKFold\n",
    "import gc\n",
    "# from sklearn.model_selection import GroupKFold\n",
    "# \n",
    "\n",
    "from keras.layers import *\n",
    "from keras.models import Model\n",
    "from keras.optimizers import Nadam\n",
    "\n",
    "oof = np.zeros(len(train))\n",
    "batch_size = 4096\n",
    "epochs = 5\n",
    "models = []\n",
    "\n",
    "\n",
    "seed = 666\n",
    "\n",
    "folds = 2\n",
    "kf = KFold(n_splits=folds, shuffle=False, random_state=seed)\n",
    "\n",
    "for fold_n, (train_index, valid_index) in enumerate(kf.split(train, target)):\n",
    "    \n",
    "# for fold_n, (train_index, valid_index) in enumerate(weirdfolds):\n",
    "    print('Fold:', fold_n)\n",
    "    X_train, X_valid = train.iloc[train_index], train.iloc[valid_index]\n",
    "    y_train, y_valid = target.iloc[train_index], target.iloc[valid_index]\n",
    "    \n",
    "    X_train1, X_valid1 = train1.iloc[train_index], train1.iloc[valid_index]\n",
    "    X_train2, X_valid2 = train2.iloc[train_index], train2.iloc[valid_index]\n",
    " \n",
    "    \n",
    "    \n",
    "#     X_train, X_valid = train.iloc[valid_index], train.iloc[train_index]\n",
    "#     y_train, y_valid = target.iloc[valid_index], target.iloc[train_index]\n",
    "    \n",
    "    X_t = get_keras_data(X_train, X_train1, X_train2,  numericals, categoricals)\n",
    "    X_v = get_keras_data(X_valid, X_valid1, X_valid2, numericals, categoricals)\n",
    "    del X_train, X_valid, X_train1, X_valid1,X_train2, X_valid2\n",
    "    gc.collect()\n",
    "    \n",
    "    keras_model = model_lofo(dense_dim_1=64, dense_dim_2=64, dense_dim_3=16, dense_dim_4=8, \n",
    "                        dropout1=0.2, dropout2=0.1, dropout3=0.1, dropout4=0.1, lr=0.001)\n",
    "    mod = train_model(keras_model, X_t, y_train, batch_size, epochs, X_v, y_valid, fold_n, patience=3)\n",
    "    models.append(mod)\n",
    "    gc.collect()\n",
    "    print('*'* 50)"
   ]
  },
  {
   "cell_type": "code",
   "execution_count": 15,
   "metadata": {},
   "outputs": [
    {
     "data": {
      "text/plain": [
       "0"
      ]
     },
     "execution_count": 15,
     "metadata": {},
     "output_type": "execute_result"
    }
   ],
   "source": [
    "gc.collect()"
   ]
  },
  {
   "cell_type": "code",
   "execution_count": 16,
   "metadata": {},
   "outputs": [
    {
     "data": {
      "text/plain": [
       "[<keras.engine.training.Model at 0x7fb3c90313c8>,\n",
       " <keras.engine.training.Model at 0x7fb3caeeb4a8>]"
      ]
     },
     "execution_count": 16,
     "metadata": {},
     "output_type": "execute_result"
    }
   ],
   "source": [
    "models"
   ]
  },
  {
   "cell_type": "code",
   "execution_count": 17,
   "metadata": {},
   "outputs": [
    {
     "data": {
      "text/plain": [
       "['square_feet',\n",
       " 'year_built',\n",
       " 'air_temperature',\n",
       " 'cloud_coverage',\n",
       " 'dew_temperature',\n",
       " 'precip_depth_1_hr',\n",
       " 'floor_count',\n",
       " 'sea_level_pressure',\n",
       " 'wind_speed',\n",
       " 'wind_direction']"
      ]
     },
     "execution_count": 17,
     "metadata": {},
     "output_type": "execute_result"
    }
   ],
   "source": [
    "numericals"
   ]
  },
  {
   "cell_type": "code",
   "execution_count": 18,
   "metadata": {},
   "outputs": [],
   "source": [
    "import gc"
   ]
  },
  {
   "cell_type": "code",
   "execution_count": 19,
   "metadata": {},
   "outputs": [],
   "source": [
    "test = pd.read_feather('test_simple_cleanup.feather')"
   ]
  },
  {
   "cell_type": "code",
   "execution_count": 20,
   "metadata": {},
   "outputs": [],
   "source": [
    "test['square_feet'] = test['square_feet'].apply(lambda x: int(x/1000))"
   ]
  },
  {
   "cell_type": "code",
   "execution_count": 21,
   "metadata": {},
   "outputs": [],
   "source": [
    "test = test[feat_cols]"
   ]
  },
  {
   "cell_type": "code",
   "execution_count": 23,
   "metadata": {},
   "outputs": [
    {
     "data": {
      "text/plain": [
       "(48, 45)"
      ]
     },
     "execution_count": 23,
     "metadata": {},
     "output_type": "execute_result"
    }
   ],
   "source": [
    "len(feat_cols), len(['site_id',\n",
    " 'building_id',\n",
    " 'primary_use',\n",
    " 'tm_hour_of_day',\n",
    " 'tm_day_of_week',\n",
    " 'meter',\n",
    " 'square_feet',\n",
    " 'year_built',\n",
    " 'air_temperature',\n",
    " 'cloud_coverage',\n",
    " 'dew_temperature',\n",
    " 'precip_depth_1_hr',\n",
    " 'floor_count',\n",
    " 'meter_reading_0',\n",
    " 'meter_reading_1',\n",
    " 'meter_reading_2',\n",
    " 'meter_reading_3',\n",
    " 'cnt_building_per_site',\n",
    " 'cnt_building_per_site_prim',\n",
    " 'sqr_mean_per_site',\n",
    " 'sqr_mean_per_prim_site',\n",
    " 'RH',\n",
    " 'heat',\n",
    " 'windchill',\n",
    " 'feellike',\n",
    " 'air_temperature_mean_lag3',\n",
    " 'dew_temperature_mean_lag3',\n",
    " 'heat_mean_lag3',\n",
    " 'windchill_mean_lag3',\n",
    " 'had_air_temperature',\n",
    " 'had_cloud_coverage',\n",
    " 'had_dew_temperature',\n",
    " 'had_precip_depth_1_hr',\n",
    " 'had_sea_level_pressure',\n",
    " 'had_wind_direction',\n",
    " 'had_wind_speed',\n",
    " 'had_RH',\n",
    " 'had_heat',\n",
    " 'had_windchill',\n",
    " 'had_feellike',\n",
    " 'had_air_temperature_mean_lag3',\n",
    " 'had_dew_temperature_mean_lag3',\n",
    " 'had_heat_mean_lag3',\n",
    " 'had_windchill_mean_lag3',\n",
    " 'had_feellike_mean_lag3'])"
   ]
  },
  {
   "cell_type": "code",
   "execution_count": 74,
   "metadata": {},
   "outputs": [
    {
     "data": {
      "text/plain": [
       "['site_id',\n",
       " 'building_id',\n",
       " 'primary_use',\n",
       " 'tm_hour_of_day',\n",
       " 'tm_day_of_week',\n",
       " 'meter',\n",
       " 'square_feet',\n",
       " 'year_built',\n",
       " 'air_temperature',\n",
       " 'cloud_coverage',\n",
       " 'dew_temperature',\n",
       " 'precip_depth_1_hr',\n",
       " 'floor_count',\n",
       " 'meter_reading_0',\n",
       " 'meter_reading_1',\n",
       " 'meter_reading_2',\n",
       " 'meter_reading_3',\n",
       " 'cnt_building_per_site',\n",
       " 'cnt_building_per_site_prim',\n",
       " 'sqr_mean_per_site',\n",
       " 'sqr_mean_per_prim_site',\n",
       " 'RH',\n",
       " 'heat',\n",
       " 'windchill',\n",
       " 'feellike',\n",
       " 'air_temperature_mean_lag3',\n",
       " 'dew_temperature_mean_lag3',\n",
       " 'heat_mean_lag3',\n",
       " 'windchill_mean_lag3',\n",
       " 'had_air_temperature',\n",
       " 'had_cloud_coverage',\n",
       " 'had_dew_temperature',\n",
       " 'had_precip_depth_1_hr',\n",
       " 'had_sea_level_pressure',\n",
       " 'had_wind_direction',\n",
       " 'had_wind_speed',\n",
       " 'had_RH',\n",
       " 'had_heat',\n",
       " 'had_windchill',\n",
       " 'had_feellike',\n",
       " 'had_air_temperature_mean_lag3',\n",
       " 'had_dew_temperature_mean_lag3',\n",
       " 'had_heat_mean_lag3',\n",
       " 'had_windchill_mean_lag3',\n",
       " 'had_feellike_mean_lag3']"
      ]
     },
     "execution_count": 74,
     "metadata": {},
     "output_type": "execute_result"
    }
   ],
   "source": [
    "feat_cols"
   ]
  },
  {
   "cell_type": "code",
   "execution_count": 24,
   "metadata": {},
   "outputs": [
    {
     "data": {
      "text/plain": [
       "{'square_feet': 875,\n",
       " 'year_built': 2017,\n",
       " 'air_temperature': 47.20000076293945,\n",
       " 'cloud_coverage': 9.0,\n",
       " 'dew_temperature': 35.0,\n",
       " 'precip_depth_1_hr': 343.0,\n",
       " 'floor_count': 26,\n",
       " 'sea_level_pressure': 1045.5,\n",
       " 'wind_speed': 19.0,\n",
       " 'wind_direction': 360.0,\n",
       " 'meter_reading_0': 1,\n",
       " 'meter_reading_1': 1,\n",
       " 'meter_reading_2': 1,\n",
       " 'meter_reading_3': 1,\n",
       " 'cnt_building_per_site': 274,\n",
       " 'cnt_building_per_site_prim': 92,\n",
       " 'sqr_mean_per_site': 290625.0,\n",
       " 'sqr_mean_per_prim_site': 405083.0,\n",
       " 'RH': 158.5,\n",
       " 'heat': 225.71316528320312,\n",
       " 'windchill': 1844.1282958984375,\n",
       " 'feellike': 225.71316528320312,\n",
       " 'air_temperature_mean_lag3': 47.20000076293945,\n",
       " 'dew_temperature_mean_lag3': 34.766666412353516,\n",
       " 'heat_mean_lag3': 217.25637817382812,\n",
       " 'windchill_mean_lag3': 1837.2135009765625}"
      ]
     },
     "execution_count": 24,
     "metadata": {},
     "output_type": "execute_result"
    }
   ],
   "source": [
    "max_col"
   ]
  },
  {
   "cell_type": "code",
   "execution_count": 26,
   "metadata": {},
   "outputs": [],
   "source": [
    "\n",
    "for col in numericals+ fonct_cols_list:\n",
    "    if col != 'meter_reading':\n",
    "#         max_ = max(-train[col].min(), train[col].max())\n",
    "        test[col] = test[col] / max_col[col]\n"
   ]
  },
  {
   "cell_type": "code",
   "execution_count": 28,
   "metadata": {},
   "outputs": [
    {
     "name": "stdout",
     "output_type": "stream",
     "text": [
      "Memory usage of dataframe is 9185.93 MB\n",
      "Memory usage after optimization is: 5050.27 MB\n",
      "Decreased by 45.0%\n",
      "Memory usage of dataframe is 1590.64 MB\n",
      "Memory usage after optimization is: 1431.57 MB\n",
      "Decreased by 10.0%\n",
      "Memory usage of dataframe is 1590.64 MB\n",
      "Memory usage after optimization is: 1431.57 MB\n",
      "Decreased by 10.0%\n"
     ]
    }
   ],
   "source": [
    "test = reduce_mem_usage(test)\n",
    "\n",
    "test1 = test.groupby(['building_id', 'meter'])[numcols_3d].shift(1).fillna(0)\n",
    "test1 = reduce_mem_usage(test1)\n",
    "test2 = test.groupby(['building_id', 'meter'])[numcols_3d].shift(2).fillna(0)\n",
    "test2 = reduce_mem_usage(test2)"
   ]
  },
  {
   "cell_type": "code",
   "execution_count": 29,
   "metadata": {},
   "outputs": [
    {
     "data": {
      "text/plain": [
       "(9,)"
      ]
     },
     "execution_count": 29,
     "metadata": {},
     "output_type": "execute_result"
    }
   ],
   "source": [
    "len(numcols_3d), "
   ]
  },
  {
   "cell_type": "code",
   "execution_count": 30,
   "metadata": {
    "scrolled": true
   },
   "outputs": [
    {
     "name": "stderr",
     "output_type": "stream",
     "text": [
      "100%|██████████| 834/834 [45:28<00:00,  3.22s/it]\n"
     ]
    }
   ],
   "source": [
    "from tqdm import tqdm\n",
    "i=0\n",
    "\n",
    "res = np.zeros((test.shape[0]),dtype=np.float32)\n",
    "step_size = 50000\n",
    "for j in tqdm(range(int(np.ceil(test.shape[0]/step_size)))):\n",
    "#     for_prediction = get_keras_data(test.iloc[i:i+step_size], numericals, categoricals)\n",
    "    for_prediction = get_keras_data(test.iloc[i:i+step_size], test1.iloc[i:i+step_size], test2.iloc[i:i+step_size], numericals, categoricals)\n",
    "    res[i:min(i+step_size,test.shape[0])] = \\\n",
    "       np.expm1(sum([model.predict(for_prediction, batch_size=1024)[:,0] for model in models])/len(models))\n",
    "    i+=step_size\n",
    "\n",
    "# for_prediction = get_keras_data(test, test1, test2, numericals, categoricals)\n",
    "# res = np.expm1(sum([model.predict(for_prediction, batch_size=1024)[:,0] for model in models])/len(models))"
   ]
  },
  {
   "cell_type": "code",
   "execution_count": 31,
   "metadata": {},
   "outputs": [
    {
     "data": {
      "text/plain": [
       "array([198.16472  ,  87.323074 ,   6.795757 , ...,   5.2477226,\n",
       "       177.27371  ,   3.4663773], dtype=float32)"
      ]
     },
     "execution_count": 31,
     "metadata": {},
     "output_type": "execute_result"
    }
   ],
   "source": [
    "res"
   ]
  },
  {
   "cell_type": "code",
   "execution_count": 32,
   "metadata": {},
   "outputs": [
    {
     "data": {
      "text/html": [
       "<div>\n",
       "<style scoped>\n",
       "    .dataframe tbody tr th:only-of-type {\n",
       "        vertical-align: middle;\n",
       "    }\n",
       "\n",
       "    .dataframe tbody tr th {\n",
       "        vertical-align: top;\n",
       "    }\n",
       "\n",
       "    .dataframe thead th {\n",
       "        text-align: right;\n",
       "    }\n",
       "</style>\n",
       "<table border=\"1\" class=\"dataframe\">\n",
       "  <thead>\n",
       "    <tr style=\"text-align: right;\">\n",
       "      <th></th>\n",
       "      <th>row_id</th>\n",
       "      <th>meter_reading</th>\n",
       "    </tr>\n",
       "  </thead>\n",
       "  <tbody>\n",
       "    <tr>\n",
       "      <td>0</td>\n",
       "      <td>0</td>\n",
       "      <td>198.164719</td>\n",
       "    </tr>\n",
       "    <tr>\n",
       "      <td>1</td>\n",
       "      <td>1</td>\n",
       "      <td>87.323074</td>\n",
       "    </tr>\n",
       "    <tr>\n",
       "      <td>2</td>\n",
       "      <td>2</td>\n",
       "      <td>6.795757</td>\n",
       "    </tr>\n",
       "    <tr>\n",
       "      <td>3</td>\n",
       "      <td>3</td>\n",
       "      <td>333.368744</td>\n",
       "    </tr>\n",
       "    <tr>\n",
       "      <td>4</td>\n",
       "      <td>4</td>\n",
       "      <td>1279.613037</td>\n",
       "    </tr>\n",
       "    <tr>\n",
       "      <td>...</td>\n",
       "      <td>...</td>\n",
       "      <td>...</td>\n",
       "    </tr>\n",
       "    <tr>\n",
       "      <td>41697595</td>\n",
       "      <td>41697595</td>\n",
       "      <td>5.198287</td>\n",
       "    </tr>\n",
       "    <tr>\n",
       "      <td>41697596</td>\n",
       "      <td>41697596</td>\n",
       "      <td>3.540823</td>\n",
       "    </tr>\n",
       "    <tr>\n",
       "      <td>41697597</td>\n",
       "      <td>41697597</td>\n",
       "      <td>5.247723</td>\n",
       "    </tr>\n",
       "    <tr>\n",
       "      <td>41697598</td>\n",
       "      <td>41697598</td>\n",
       "      <td>177.273712</td>\n",
       "    </tr>\n",
       "    <tr>\n",
       "      <td>41697599</td>\n",
       "      <td>41697599</td>\n",
       "      <td>3.466377</td>\n",
       "    </tr>\n",
       "  </tbody>\n",
       "</table>\n",
       "<p>41697600 rows × 2 columns</p>\n",
       "</div>"
      ],
      "text/plain": [
       "            row_id  meter_reading\n",
       "0                0     198.164719\n",
       "1                1      87.323074\n",
       "2                2       6.795757\n",
       "3                3     333.368744\n",
       "4                4    1279.613037\n",
       "...            ...            ...\n",
       "41697595  41697595       5.198287\n",
       "41697596  41697596       3.540823\n",
       "41697597  41697597       5.247723\n",
       "41697598  41697598     177.273712\n",
       "41697599  41697599       3.466377\n",
       "\n",
       "[41697600 rows x 2 columns]"
      ]
     },
     "execution_count": 32,
     "metadata": {},
     "output_type": "execute_result"
    }
   ],
   "source": [
    "submission = pd.read_csv('sample_submission.csv')\n",
    "submission['meter_reading'] = res\n",
    "submission.loc[submission['meter_reading']<0, 'meter_reading'] = 0\n",
    "\n",
    "submission"
   ]
  },
  {
   "cell_type": "code",
   "execution_count": null,
   "metadata": {},
   "outputs": [],
   "source": []
  },
  {
   "cell_type": "code",
   "execution_count": 33,
   "metadata": {},
   "outputs": [],
   "source": [
    "submission.to_csv('submission_nn007lofo.csv.gz', index=False, compression='gzip', float_format='%.4f')"
   ]
  },
  {
   "cell_type": "code",
   "execution_count": 34,
   "metadata": {},
   "outputs": [
    {
     "name": "stdout",
     "output_type": "stream",
     "text": [
      "Warning: Your Kaggle API key is readable by other users on this system! To fix this, you can run 'chmod 600 /home/ubuntu/.kaggle/kaggle.json'\n",
      "Warning: Looks like you're using an outdated API Version, please consider updating (server 1.5.6 / client 1.5.4)\n",
      "100%|████████████████████████████████████████| 261M/261M [00:05<00:00, 53.5MB/s]\n",
      "Successfully submitted to ASHRAE - Great Energy Predictor III"
     ]
    }
   ],
   "source": [
    "!kaggle competitions submit -c ashrae-energy-prediction -f submission_nn007lofo.csv.gz -m \"keras cnn\""
   ]
  },
  {
   "cell_type": "code",
   "execution_count": 33,
   "metadata": {},
   "outputs": [
    {
     "data": {
      "text/plain": [
       "2"
      ]
     },
     "execution_count": 33,
     "metadata": {},
     "output_type": "execute_result"
    }
   ],
   "source": [
    "1+1"
   ]
  },
  {
   "cell_type": "code",
   "execution_count": null,
   "metadata": {},
   "outputs": [],
   "source": []
  }
 ],
 "metadata": {
  "kernelspec": {
   "display_name": "Python 3",
   "language": "python",
   "name": "python3"
  },
  "language_info": {
   "codemirror_mode": {
    "name": "ipython",
    "version": 3
   },
   "file_extension": ".py",
   "mimetype": "text/x-python",
   "name": "python",
   "nbconvert_exporter": "python",
   "pygments_lexer": "ipython3",
   "version": "3.6.8"
  }
 },
 "nbformat": 4,
 "nbformat_minor": 1
}
