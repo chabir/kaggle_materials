{
 "cells": [
  {
   "cell_type": "code",
   "execution_count": 1,
   "metadata": {},
   "outputs": [],
   "source": [
    "import numpy as np\n",
    "import pandas as pd\n",
    "import glob"
   ]
  },
  {
   "cell_type": "markdown",
   "metadata": {},
   "source": [
    "# 1. Creation of the ensemble training set"
   ]
  },
  {
   "cell_type": "code",
   "execution_count": 2,
   "metadata": {},
   "outputs": [],
   "source": [
    "# load the leak that will be used to run the ensemble\n",
    "submission = pd.read_feather('leak012345_001.feather')"
   ]
  },
  {
   "cell_type": "code",
   "execution_count": 3,
   "metadata": {},
   "outputs": [],
   "source": [
    "# initiate the load of the predictions of level 1\n",
    "sub = pd.read_csv('../sample_submission.csv')\n",
    "del sub['meter_reading']"
   ]
  },
  {
   "cell_type": "code",
   "execution_count": null,
   "metadata": {},
   "outputs": [],
   "source": []
  },
  {
   "cell_type": "code",
   "execution_count": 4,
   "metadata": {},
   "outputs": [],
   "source": [
    "# list of predictions of level 1 used as features in ensembling model:\n",
    "\n",
    "sublist = [\n",
    "'submission_multimeter003.csv.gz',          #level1--submission_multimeter003--lightgbm.ipynb\n",
    "'submission_multimeter004_nobuild.csv.gz',  #level1--submission_multimeter004_nobuild--lightgbm.ipynb\n",
    "'submission_withoutleak001.csv.gz',         #level1--submission_withoutleak001--lightgbm.ipynb\n",
    "'submission_whatsyourcv3_0052_trncl.csv.gz',#level1--submission_whatsyourcv3_0052_trncl--lightgbm.ipynb\n",
    "\n",
    "'submission_nn007lofo.csv.gz',  #level1--submission_nn007lofo--CNN.ipynb\n",
    "'submission_nn001.csv',         #level1--submission_nn001--DenseNN.ipynb\n",
    "     \n",
    "'submission_catboost002.csv',   #level1--catboost002--Catboost.ipynb\n",
    "      \n",
    "'fe2_lgbm.csv',               #downloaded from https://www.kaggle.com/ragnar123/another-1-08-lb-no-leak (1st commit)\n",
    "'histgradboost113.csv',       #downloaded from https://www.kaggle.com/tunguz/ashrae-histgradientboosting (last commit)\n",
    "\n",
    "          ]"
   ]
  },
  {
   "cell_type": "markdown",
   "metadata": {},
   "source": [
    "In the list above, fe2_lgbm.csv and histgradboost113.csv have been downloaded from https://www.kaggle.com/ragnar123/another-1-08-lb-no-leak (commit #1) and https://www.kaggle.com/tunguz/ashrae-histgradientboosting respectively."
   ]
  },
  {
   "cell_type": "code",
   "execution_count": 5,
   "metadata": {},
   "outputs": [],
   "source": [
    "\n",
    "# function to aggregate the predictions in one unique pandas\n",
    "def join_sub(pathlist, sub):\n",
    "    name_list = []\n",
    "    for path in pathlist:\n",
    "        name_tmp = path.split('/')[-1].split('.')[0]\n",
    "        print(name_tmp)\n",
    "        sub_tmp = pd.read_csv(path).sort_values(by='row_id')\n",
    "        sub_tmp.rename(columns={'meter_reading': name_tmp}, inplace=True)\n",
    "        \n",
    "        sub_tmp[name_tmp] = sub_tmp[name_tmp].apply(lambda x: 0 if x < 0 else x)\n",
    "        sub_tmp[name_tmp] = np.log1p(sub_tmp[name_tmp].values)\n",
    "                                                                  \n",
    "        sub = pd.concat([sub, sub_tmp[name_tmp]], axis=1)\n",
    "        name_list.append(name_tmp)\n",
    "    return sub, name_list"
   ]
  },
  {
   "cell_type": "code",
   "execution_count": 6,
   "metadata": {},
   "outputs": [
    {
     "name": "stdout",
     "output_type": "stream",
     "text": [
      "submission_multimeter003\n",
      "submission_multimeter004_nobuild\n",
      "submission_withoutleak001\n",
      "submission_whatsyourcv3_0052_trncl\n",
      "submission_nn007lofo\n",
      "submission_nn001\n",
      "another_108_catboost002\n",
      "fe2_lgbm\n",
      "histgradboost113\n"
     ]
    }
   ],
   "source": [
    "subm, name_list = join_sub(sublist, sub)"
   ]
  },
  {
   "cell_type": "code",
   "execution_count": 7,
   "metadata": {},
   "outputs": [
    {
     "data": {
      "text/html": [
       "<div>\n",
       "<style scoped>\n",
       "    .dataframe tbody tr th:only-of-type {\n",
       "        vertical-align: middle;\n",
       "    }\n",
       "\n",
       "    .dataframe tbody tr th {\n",
       "        vertical-align: top;\n",
       "    }\n",
       "\n",
       "    .dataframe thead th {\n",
       "        text-align: right;\n",
       "    }\n",
       "</style>\n",
       "<table border=\"1\" class=\"dataframe\">\n",
       "  <thead>\n",
       "    <tr style=\"text-align: right;\">\n",
       "      <th></th>\n",
       "      <th>row_id</th>\n",
       "      <th>submission_multimeter003</th>\n",
       "      <th>submission_multimeter004_nobuild</th>\n",
       "      <th>submission_withoutleak001</th>\n",
       "      <th>submission_whatsyourcv3_0052_trncl</th>\n",
       "      <th>submission_nn007lofo</th>\n",
       "      <th>submission_nn001</th>\n",
       "      <th>another_108_catboost002</th>\n",
       "      <th>fe2_lgbm</th>\n",
       "      <th>histgradboost113</th>\n",
       "    </tr>\n",
       "  </thead>\n",
       "  <tbody>\n",
       "    <tr>\n",
       "      <td>0</td>\n",
       "      <td>0</td>\n",
       "      <td>5.137161</td>\n",
       "      <td>5.089781</td>\n",
       "      <td>5.029254</td>\n",
       "      <td>5.132836</td>\n",
       "      <td>5.235737</td>\n",
       "      <td>5.288472</td>\n",
       "      <td>5.257317</td>\n",
       "      <td>5.035160</td>\n",
       "      <td>5.200388</td>\n",
       "    </tr>\n",
       "    <tr>\n",
       "      <td>1</td>\n",
       "      <td>1</td>\n",
       "      <td>4.188979</td>\n",
       "      <td>4.347783</td>\n",
       "      <td>4.294870</td>\n",
       "      <td>4.211026</td>\n",
       "      <td>4.328701</td>\n",
       "      <td>4.581579</td>\n",
       "      <td>4.289154</td>\n",
       "      <td>4.466447</td>\n",
       "      <td>4.432485</td>\n",
       "    </tr>\n",
       "    <tr>\n",
       "      <td>2</td>\n",
       "      <td>2</td>\n",
       "      <td>2.020209</td>\n",
       "      <td>2.860485</td>\n",
       "      <td>2.371897</td>\n",
       "      <td>2.175479</td>\n",
       "      <td>1.903644</td>\n",
       "      <td>2.379749</td>\n",
       "      <td>2.105403</td>\n",
       "      <td>2.397863</td>\n",
       "      <td>2.427290</td>\n",
       "    </tr>\n",
       "    <tr>\n",
       "      <td>3</td>\n",
       "      <td>3</td>\n",
       "      <td>5.323947</td>\n",
       "      <td>5.389596</td>\n",
       "      <td>5.516343</td>\n",
       "      <td>5.686560</td>\n",
       "      <td>5.823222</td>\n",
       "      <td>5.751170</td>\n",
       "      <td>5.775866</td>\n",
       "      <td>5.485559</td>\n",
       "      <td>5.559772</td>\n",
       "    </tr>\n",
       "    <tr>\n",
       "      <td>4</td>\n",
       "      <td>4</td>\n",
       "      <td>7.141346</td>\n",
       "      <td>6.877661</td>\n",
       "      <td>7.246858</td>\n",
       "      <td>7.121456</td>\n",
       "      <td>7.415066</td>\n",
       "      <td>7.167617</td>\n",
       "      <td>7.111460</td>\n",
       "      <td>7.024336</td>\n",
       "      <td>7.006811</td>\n",
       "    </tr>\n",
       "  </tbody>\n",
       "</table>\n",
       "</div>"
      ],
      "text/plain": [
       "   row_id  submission_multimeter003  submission_multimeter004_nobuild  \\\n",
       "0       0                  5.137161                          5.089781   \n",
       "1       1                  4.188979                          4.347783   \n",
       "2       2                  2.020209                          2.860485   \n",
       "3       3                  5.323947                          5.389596   \n",
       "4       4                  7.141346                          6.877661   \n",
       "\n",
       "   submission_withoutleak001  submission_whatsyourcv3_0052_trncl  \\\n",
       "0                   5.029254                            5.132836   \n",
       "1                   4.294870                            4.211026   \n",
       "2                   2.371897                            2.175479   \n",
       "3                   5.516343                            5.686560   \n",
       "4                   7.246858                            7.121456   \n",
       "\n",
       "   submission_nn007lofo  submission_nn001  another_108_catboost002  fe2_lgbm  \\\n",
       "0              5.235737          5.288472                 5.257317  5.035160   \n",
       "1              4.328701          4.581579                 4.289154  4.466447   \n",
       "2              1.903644          2.379749                 2.105403  2.397863   \n",
       "3              5.823222          5.751170                 5.775866  5.485559   \n",
       "4              7.415066          7.167617                 7.111460  7.024336   \n",
       "\n",
       "   histgradboost113  \n",
       "0          5.200388  \n",
       "1          4.432485  \n",
       "2          2.427290  \n",
       "3          5.559772  \n",
       "4          7.006811  "
      ]
     },
     "execution_count": 7,
     "metadata": {},
     "output_type": "execute_result"
    }
   ],
   "source": [
    "subm.head()"
   ]
  },
  {
   "cell_type": "code",
   "execution_count": 8,
   "metadata": {},
   "outputs": [
    {
     "data": {
      "text/html": [
       "<div>\n",
       "<style scoped>\n",
       "    .dataframe tbody tr th:only-of-type {\n",
       "        vertical-align: middle;\n",
       "    }\n",
       "\n",
       "    .dataframe tbody tr th {\n",
       "        vertical-align: top;\n",
       "    }\n",
       "\n",
       "    .dataframe thead th {\n",
       "        text-align: right;\n",
       "    }\n",
       "</style>\n",
       "<table border=\"1\" class=\"dataframe\">\n",
       "  <thead>\n",
       "    <tr style=\"text-align: right;\">\n",
       "      <th></th>\n",
       "      <th>row_id</th>\n",
       "      <th>building_id</th>\n",
       "      <th>meter</th>\n",
       "      <th>timestamp</th>\n",
       "      <th>site_id</th>\n",
       "      <th>primary_use</th>\n",
       "      <th>square_feet</th>\n",
       "      <th>year_built</th>\n",
       "      <th>floor_count</th>\n",
       "      <th>na_year_built</th>\n",
       "      <th>...</th>\n",
       "      <th>had_heat</th>\n",
       "      <th>had_windchill</th>\n",
       "      <th>had_feellike</th>\n",
       "      <th>had_air_temperature_mean_lag3</th>\n",
       "      <th>had_dew_temperature_mean_lag3</th>\n",
       "      <th>had_heat_mean_lag3</th>\n",
       "      <th>had_windchill_mean_lag3</th>\n",
       "      <th>had_feellike_mean_lag3</th>\n",
       "      <th>tm_day_of_week</th>\n",
       "      <th>tm_hour_of_day</th>\n",
       "    </tr>\n",
       "  </thead>\n",
       "  <tbody>\n",
       "    <tr>\n",
       "      <td>0</td>\n",
       "      <td>0</td>\n",
       "      <td>0</td>\n",
       "      <td>0</td>\n",
       "      <td>8784</td>\n",
       "      <td>0</td>\n",
       "      <td>0</td>\n",
       "      <td>7432</td>\n",
       "      <td>2008</td>\n",
       "      <td>-1</td>\n",
       "      <td>0</td>\n",
       "      <td>...</td>\n",
       "      <td>1</td>\n",
       "      <td>1</td>\n",
       "      <td>1</td>\n",
       "      <td>1</td>\n",
       "      <td>1</td>\n",
       "      <td>1</td>\n",
       "      <td>1</td>\n",
       "      <td>1</td>\n",
       "      <td>2</td>\n",
       "      <td>0</td>\n",
       "    </tr>\n",
       "    <tr>\n",
       "      <td>1</td>\n",
       "      <td>1</td>\n",
       "      <td>1</td>\n",
       "      <td>0</td>\n",
       "      <td>8784</td>\n",
       "      <td>0</td>\n",
       "      <td>0</td>\n",
       "      <td>2720</td>\n",
       "      <td>2004</td>\n",
       "      <td>-1</td>\n",
       "      <td>0</td>\n",
       "      <td>...</td>\n",
       "      <td>1</td>\n",
       "      <td>1</td>\n",
       "      <td>1</td>\n",
       "      <td>1</td>\n",
       "      <td>1</td>\n",
       "      <td>1</td>\n",
       "      <td>1</td>\n",
       "      <td>1</td>\n",
       "      <td>2</td>\n",
       "      <td>0</td>\n",
       "    </tr>\n",
       "    <tr>\n",
       "      <td>2</td>\n",
       "      <td>2</td>\n",
       "      <td>2</td>\n",
       "      <td>0</td>\n",
       "      <td>8784</td>\n",
       "      <td>0</td>\n",
       "      <td>0</td>\n",
       "      <td>5376</td>\n",
       "      <td>1991</td>\n",
       "      <td>-1</td>\n",
       "      <td>0</td>\n",
       "      <td>...</td>\n",
       "      <td>1</td>\n",
       "      <td>1</td>\n",
       "      <td>1</td>\n",
       "      <td>1</td>\n",
       "      <td>1</td>\n",
       "      <td>1</td>\n",
       "      <td>1</td>\n",
       "      <td>1</td>\n",
       "      <td>2</td>\n",
       "      <td>0</td>\n",
       "    </tr>\n",
       "    <tr>\n",
       "      <td>3</td>\n",
       "      <td>3</td>\n",
       "      <td>3</td>\n",
       "      <td>0</td>\n",
       "      <td>8784</td>\n",
       "      <td>0</td>\n",
       "      <td>0</td>\n",
       "      <td>23685</td>\n",
       "      <td>2002</td>\n",
       "      <td>-1</td>\n",
       "      <td>0</td>\n",
       "      <td>...</td>\n",
       "      <td>1</td>\n",
       "      <td>1</td>\n",
       "      <td>1</td>\n",
       "      <td>1</td>\n",
       "      <td>1</td>\n",
       "      <td>1</td>\n",
       "      <td>1</td>\n",
       "      <td>1</td>\n",
       "      <td>2</td>\n",
       "      <td>0</td>\n",
       "    </tr>\n",
       "    <tr>\n",
       "      <td>4</td>\n",
       "      <td>4</td>\n",
       "      <td>4</td>\n",
       "      <td>0</td>\n",
       "      <td>8784</td>\n",
       "      <td>0</td>\n",
       "      <td>0</td>\n",
       "      <td>116607</td>\n",
       "      <td>1975</td>\n",
       "      <td>-1</td>\n",
       "      <td>0</td>\n",
       "      <td>...</td>\n",
       "      <td>1</td>\n",
       "      <td>1</td>\n",
       "      <td>1</td>\n",
       "      <td>1</td>\n",
       "      <td>1</td>\n",
       "      <td>1</td>\n",
       "      <td>1</td>\n",
       "      <td>1</td>\n",
       "      <td>2</td>\n",
       "      <td>0</td>\n",
       "    </tr>\n",
       "  </tbody>\n",
       "</table>\n",
       "<p>5 rows × 54 columns</p>\n",
       "</div>"
      ],
      "text/plain": [
       "   row_id  building_id  meter  timestamp  site_id  primary_use  square_feet  \\\n",
       "0       0            0      0       8784        0            0         7432   \n",
       "1       1            1      0       8784        0            0         2720   \n",
       "2       2            2      0       8784        0            0         5376   \n",
       "3       3            3      0       8784        0            0        23685   \n",
       "4       4            4      0       8784        0            0       116607   \n",
       "\n",
       "   year_built  floor_count  na_year_built  ...  had_heat  had_windchill  \\\n",
       "0        2008           -1              0  ...         1              1   \n",
       "1        2004           -1              0  ...         1              1   \n",
       "2        1991           -1              0  ...         1              1   \n",
       "3        2002           -1              0  ...         1              1   \n",
       "4        1975           -1              0  ...         1              1   \n",
       "\n",
       "   had_feellike  had_air_temperature_mean_lag3  had_dew_temperature_mean_lag3  \\\n",
       "0             1                              1                              1   \n",
       "1             1                              1                              1   \n",
       "2             1                              1                              1   \n",
       "3             1                              1                              1   \n",
       "4             1                              1                              1   \n",
       "\n",
       "   had_heat_mean_lag3  had_windchill_mean_lag3  had_feellike_mean_lag3  \\\n",
       "0                   1                        1                       1   \n",
       "1                   1                        1                       1   \n",
       "2                   1                        1                       1   \n",
       "3                   1                        1                       1   \n",
       "4                   1                        1                       1   \n",
       "\n",
       "   tm_day_of_week  tm_hour_of_day  \n",
       "0               2               0  \n",
       "1               2               0  \n",
       "2               2               0  \n",
       "3               2               0  \n",
       "4               2               0  \n",
       "\n",
       "[5 rows x 54 columns]"
      ]
     },
     "execution_count": 8,
     "metadata": {},
     "output_type": "execute_result"
    }
   ],
   "source": [
    "test = pd.read_feather('test_simple_cleanup.feather')\n",
    "test.head()"
   ]
  },
  {
   "cell_type": "code",
   "execution_count": 9,
   "metadata": {},
   "outputs": [
    {
     "data": {
      "text/html": [
       "<div>\n",
       "<style scoped>\n",
       "    .dataframe tbody tr th:only-of-type {\n",
       "        vertical-align: middle;\n",
       "    }\n",
       "\n",
       "    .dataframe tbody tr th {\n",
       "        vertical-align: top;\n",
       "    }\n",
       "\n",
       "    .dataframe thead th {\n",
       "        text-align: right;\n",
       "    }\n",
       "</style>\n",
       "<table border=\"1\" class=\"dataframe\">\n",
       "  <thead>\n",
       "    <tr style=\"text-align: right;\">\n",
       "      <th></th>\n",
       "      <th>building_id</th>\n",
       "      <th>meter</th>\n",
       "      <th>meter_reading</th>\n",
       "      <th>row_id</th>\n",
       "      <th>submission_multimeter003</th>\n",
       "      <th>submission_multimeter004_nobuild</th>\n",
       "      <th>submission_withoutleak001</th>\n",
       "      <th>submission_whatsyourcv3_0052_trncl</th>\n",
       "      <th>submission_nn007lofo</th>\n",
       "      <th>submission_nn001</th>\n",
       "      <th>another_108_catboost002</th>\n",
       "      <th>fe2_lgbm</th>\n",
       "      <th>histgradboost113</th>\n",
       "    </tr>\n",
       "  </thead>\n",
       "  <tbody>\n",
       "    <tr>\n",
       "      <td>0</td>\n",
       "      <td>0</td>\n",
       "      <td>0</td>\n",
       "      <td>173.3703</td>\n",
       "      <td>0</td>\n",
       "      <td>5.137161</td>\n",
       "      <td>5.089781</td>\n",
       "      <td>5.029254</td>\n",
       "      <td>5.132836</td>\n",
       "      <td>5.235737</td>\n",
       "      <td>5.288472</td>\n",
       "      <td>5.257317</td>\n",
       "      <td>5.035160</td>\n",
       "      <td>5.200388</td>\n",
       "    </tr>\n",
       "    <tr>\n",
       "      <td>1</td>\n",
       "      <td>1</td>\n",
       "      <td>0</td>\n",
       "      <td>53.5127</td>\n",
       "      <td>1</td>\n",
       "      <td>4.188979</td>\n",
       "      <td>4.347783</td>\n",
       "      <td>4.294870</td>\n",
       "      <td>4.211026</td>\n",
       "      <td>4.328701</td>\n",
       "      <td>4.581579</td>\n",
       "      <td>4.289154</td>\n",
       "      <td>4.466447</td>\n",
       "      <td>4.432485</td>\n",
       "    </tr>\n",
       "    <tr>\n",
       "      <td>2</td>\n",
       "      <td>2</td>\n",
       "      <td>0</td>\n",
       "      <td>6.1430</td>\n",
       "      <td>2</td>\n",
       "      <td>2.020209</td>\n",
       "      <td>2.860485</td>\n",
       "      <td>2.371897</td>\n",
       "      <td>2.175479</td>\n",
       "      <td>1.903644</td>\n",
       "      <td>2.379749</td>\n",
       "      <td>2.105403</td>\n",
       "      <td>2.397863</td>\n",
       "      <td>2.427290</td>\n",
       "    </tr>\n",
       "    <tr>\n",
       "      <td>3</td>\n",
       "      <td>3</td>\n",
       "      <td>0</td>\n",
       "      <td>101.7015</td>\n",
       "      <td>3</td>\n",
       "      <td>5.323947</td>\n",
       "      <td>5.389596</td>\n",
       "      <td>5.516343</td>\n",
       "      <td>5.686560</td>\n",
       "      <td>5.823222</td>\n",
       "      <td>5.751170</td>\n",
       "      <td>5.775866</td>\n",
       "      <td>5.485559</td>\n",
       "      <td>5.559772</td>\n",
       "    </tr>\n",
       "    <tr>\n",
       "      <td>4</td>\n",
       "      <td>4</td>\n",
       "      <td>0</td>\n",
       "      <td>1141.2407</td>\n",
       "      <td>4</td>\n",
       "      <td>7.141346</td>\n",
       "      <td>6.877661</td>\n",
       "      <td>7.246858</td>\n",
       "      <td>7.121456</td>\n",
       "      <td>7.415066</td>\n",
       "      <td>7.167617</td>\n",
       "      <td>7.111460</td>\n",
       "      <td>7.024336</td>\n",
       "      <td>7.006811</td>\n",
       "    </tr>\n",
       "  </tbody>\n",
       "</table>\n",
       "</div>"
      ],
      "text/plain": [
       "   building_id  meter  meter_reading  row_id  submission_multimeter003  \\\n",
       "0            0      0       173.3703       0                  5.137161   \n",
       "1            1      0        53.5127       1                  4.188979   \n",
       "2            2      0         6.1430       2                  2.020209   \n",
       "3            3      0       101.7015       3                  5.323947   \n",
       "4            4      0      1141.2407       4                  7.141346   \n",
       "\n",
       "   submission_multimeter004_nobuild  submission_withoutleak001  \\\n",
       "0                          5.089781                   5.029254   \n",
       "1                          4.347783                   4.294870   \n",
       "2                          2.860485                   2.371897   \n",
       "3                          5.389596                   5.516343   \n",
       "4                          6.877661                   7.246858   \n",
       "\n",
       "   submission_whatsyourcv3_0052_trncl  submission_nn007lofo  submission_nn001  \\\n",
       "0                            5.132836              5.235737          5.288472   \n",
       "1                            4.211026              4.328701          4.581579   \n",
       "2                            2.175479              1.903644          2.379749   \n",
       "3                            5.686560              5.823222          5.751170   \n",
       "4                            7.121456              7.415066          7.167617   \n",
       "\n",
       "   another_108_catboost002  fe2_lgbm  histgradboost113  \n",
       "0                 5.257317  5.035160          5.200388  \n",
       "1                 4.289154  4.466447          4.432485  \n",
       "2                 2.105403  2.397863          2.427290  \n",
       "3                 5.775866  5.485559          5.559772  \n",
       "4                 7.111460  7.024336          7.006811  "
      ]
     },
     "execution_count": 9,
     "metadata": {},
     "output_type": "execute_result"
    }
   ],
   "source": [
    "# the training set is the aggregation of the predictions of level 1, the leaky target and some raw features from the test set\n",
    "\n",
    "subm_full = pd.concat([test[['building_id','meter']], submission['meter_reading'], subm], axis=1).reset_index(drop=True)\n",
    "subm_full.head()"
   ]
  },
  {
   "cell_type": "code",
   "execution_count": 10,
   "metadata": {},
   "outputs": [
    {
     "data": {
      "text/plain": [
       "0"
      ]
     },
     "execution_count": 10,
     "metadata": {},
     "output_type": "execute_result"
    }
   ],
   "source": [
    "del submission\n",
    "del test\n",
    "import gc\n",
    "gc.collect()"
   ]
  },
  {
   "cell_type": "code",
   "execution_count": 11,
   "metadata": {},
   "outputs": [
    {
     "data": {
      "text/plain": [
       "((12055470, 13), (29642130, 13))"
      ]
     },
     "execution_count": 11,
     "metadata": {},
     "output_type": "execute_result"
    }
   ],
   "source": [
    "# the training set are the rows from the leak when all the other are the ones that are still unknown.\n",
    "subm_trn = subm_full[subm_full.meter_reading!=-9999.99].reset_index(drop=True)\n",
    "subm_tst = subm_full[subm_full.meter_reading==-9999.99].reset_index(drop=True)\n",
    "\n",
    "subm_trn.shape, subm_tst.shape"
   ]
  },
  {
   "cell_type": "code",
   "execution_count": 12,
   "metadata": {},
   "outputs": [
    {
     "data": {
      "text/plain": [
       "0"
      ]
     },
     "execution_count": 12,
     "metadata": {},
     "output_type": "execute_result"
    }
   ],
   "source": [
    "del subm_full\n",
    "gc.collect()"
   ]
  },
  {
   "cell_type": "code",
   "execution_count": 13,
   "metadata": {},
   "outputs": [],
   "source": [
    "subm_trn['meter_reading'] = subm_trn['meter_reading'].apply(lambda x: 0 if x < 0 else x)\n",
    "subm_trn['meter_reading'] = np.log1p(subm_trn['meter_reading'].values)"
   ]
  },
  {
   "cell_type": "code",
   "execution_count": 14,
   "metadata": {},
   "outputs": [
    {
     "data": {
      "text/plain": [
       "['submission_multimeter003',\n",
       " 'submission_multimeter004_nobuild',\n",
       " 'submission_withoutleak001',\n",
       " 'submission_whatsyourcv3_0052_trncl',\n",
       " 'submission_nn007lofo',\n",
       " 'submission_nn001',\n",
       " 'another_108_catboost002',\n",
       " 'fe2_lgbm',\n",
       " 'histgradboost113']"
      ]
     },
     "execution_count": 14,
     "metadata": {},
     "output_type": "execute_result"
    }
   ],
   "source": [
    "# features in the ensemble training set that are predictions from level 1:\n",
    "name_list = [x for x in subm_trn.columns if x not in ['row_id', 'building_id', 'meter', 'meter_reading']]\n",
    "name_list"
   ]
  },
  {
   "cell_type": "code",
   "execution_count": 15,
   "metadata": {},
   "outputs": [],
   "source": [
    "# simple feature engineering:\n",
    "subm_trn['mean_tgt'] = subm_trn[name_list].mean(axis=1)\n",
    "subm_trn['median_tgt'] = subm_trn[name_list].median(axis=1)"
   ]
  },
  {
   "cell_type": "code",
   "execution_count": 16,
   "metadata": {},
   "outputs": [
    {
     "data": {
      "text/plain": [
       "['meter',\n",
       " 'submission_multimeter003',\n",
       " 'submission_multimeter004_nobuild',\n",
       " 'submission_withoutleak001',\n",
       " 'submission_whatsyourcv3_0052_trncl',\n",
       " 'submission_nn007lofo',\n",
       " 'submission_nn001',\n",
       " 'another_108_catboost002',\n",
       " 'fe2_lgbm',\n",
       " 'histgradboost113',\n",
       " 'mean_tgt',\n",
       " 'median_tgt']"
      ]
     },
     "execution_count": 16,
     "metadata": {},
     "output_type": "execute_result"
    }
   ],
   "source": [
    "# the raw feature \"meter\" is added to all the predictions from level 1:\n",
    "features = [x for x in subm_trn.columns if x not in ['row_id', 'building_id', 'meter_reading']]\n",
    "features"
   ]
  },
  {
   "cell_type": "code",
   "execution_count": null,
   "metadata": {},
   "outputs": [],
   "source": []
  },
  {
   "cell_type": "markdown",
   "metadata": {},
   "source": [
    "# 2. run the ensemble model"
   ]
  },
  {
   "cell_type": "code",
   "execution_count": 17,
   "metadata": {},
   "outputs": [],
   "source": [
    "import gc\n",
    "import os\n",
    "import random\n",
    "\n",
    "import lightgbm as lgb\n",
    "import numpy as np"
   ]
  },
  {
   "cell_type": "code",
   "execution_count": 18,
   "metadata": {},
   "outputs": [
    {
     "name": "stderr",
     "output_type": "stream",
     "text": [
      "/home/ubuntu/anaconda3/lib/python3.6/site-packages/lightgbm/basic.py:1291: UserWarning: Using categorical_feature in Dataset.\n",
      "  warnings.warn('Using categorical_feature in Dataset.')\n"
     ]
    },
    {
     "name": "stdout",
     "output_type": "stream",
     "text": [
      "Training until validation scores don't improve for 50 rounds\n",
      "[25]\ttraining's rmse: 0.946804\tvalid_1's rmse: 1.2669\n",
      "[50]\ttraining's rmse: 0.817485\tvalid_1's rmse: 1.21456\n",
      "[75]\ttraining's rmse: 0.801423\tvalid_1's rmse: 1.21882\n",
      "Early stopping, best iteration is:\n",
      "[49]\ttraining's rmse: 0.818983\tvalid_1's rmse: 1.21445\n",
      "Training until validation scores don't improve for 50 rounds\n",
      "[25]\ttraining's rmse: 1.03477\tvalid_1's rmse: 1.04658\n",
      "[50]\ttraining's rmse: 0.914802\tvalid_1's rmse: 0.939155\n",
      "[75]\ttraining's rmse: 0.896523\tvalid_1's rmse: 0.9303\n",
      "[100]\ttraining's rmse: 0.889451\tvalid_1's rmse: 0.92981\n",
      "[125]\ttraining's rmse: 0.884339\tvalid_1's rmse: 0.929739\n",
      "[150]\ttraining's rmse: 0.880088\tvalid_1's rmse: 0.929779\n",
      "[175]\ttraining's rmse: 0.876996\tvalid_1's rmse: 0.929948\n",
      "Early stopping, best iteration is:\n",
      "[144]\ttraining's rmse: 0.881122\tvalid_1's rmse: 0.929632\n",
      "Training until validation scores don't improve for 50 rounds\n",
      "[25]\ttraining's rmse: 1.04835\tvalid_1's rmse: 0.986849\n",
      "[50]\ttraining's rmse: 0.93083\tvalid_1's rmse: 0.884424\n",
      "[75]\ttraining's rmse: 0.912995\tvalid_1's rmse: 0.879574\n",
      "[100]\ttraining's rmse: 0.905915\tvalid_1's rmse: 0.879672\n",
      "[125]\ttraining's rmse: 0.901412\tvalid_1's rmse: 0.87981\n",
      "Early stopping, best iteration is:\n",
      "[82]\ttraining's rmse: 0.910705\tvalid_1's rmse: 0.879441\n",
      "Training until validation scores don't improve for 50 rounds\n",
      "[25]\ttraining's rmse: 1.09195\tvalid_1's rmse: 0.915615\n",
      "[50]\ttraining's rmse: 0.987636\tvalid_1's rmse: 0.731223\n",
      "[75]\ttraining's rmse: 0.97155\tvalid_1's rmse: 0.704871\n",
      "[100]\ttraining's rmse: 0.964892\tvalid_1's rmse: 0.70096\n",
      "[125]\ttraining's rmse: 0.960422\tvalid_1's rmse: 0.69989\n",
      "[150]\ttraining's rmse: 0.957248\tvalid_1's rmse: 0.700434\n",
      "Early stopping, best iteration is:\n",
      "[120]\ttraining's rmse: 0.961188\tvalid_1's rmse: 0.699833\n"
     ]
    }
   ],
   "source": [
    "from sklearn.model_selection import KFold\n",
    "\n",
    "params = {\n",
    "    \"objective\": \"regression\",\n",
    "    \"boosting\": \"gbdt\",\n",
    "#     \"num_leaves\": 1280,\n",
    "    \"learning_rate\": 0.05,\n",
    "    \"feature_fraction\": 0.95,\n",
    "    \"reg_lambda\": 2,\n",
    "    \"metric\": \"rmse\",\n",
    "}\n",
    "\n",
    "\n",
    "categorical_features = ['meter']\n",
    "\n",
    "kf = KFold(n_splits=4, shuffle=False)\n",
    "models = []\n",
    "for train_index,test_index in kf.split(subm_trn):\n",
    "    \n",
    "    train_features = subm_trn[features].loc[train_index]\n",
    "    train_target = subm_trn['meter_reading'].loc[train_index]\n",
    "    \n",
    "    val_features = subm_trn[features].loc[test_index]\n",
    "    val_target = subm_trn['meter_reading'].loc[test_index]\n",
    "    \n",
    "    d_training = lgb.Dataset(train_features, \n",
    "                             label=train_target,\n",
    "                             categorical_feature=categorical_features, \n",
    "                             free_raw_data=False)\n",
    "    \n",
    "    d_test = lgb.Dataset(val_features, \n",
    "                         label=val_target,\n",
    "                         categorical_feature=categorical_features, \n",
    "                         free_raw_data=False)\n",
    "    \n",
    "    model = lgb.train(params, \n",
    "                      train_set=d_training, \n",
    "                      num_boost_round=2000, \n",
    "                      valid_sets=[d_training,d_test], \n",
    "                      verbose_eval=25, \n",
    "                      early_stopping_rounds=50)\n",
    "    \n",
    "    models.append(model)\n",
    "#     del train_features, train_target, test_features, test_target, d_training, d_test\n",
    "    gc.collect()\n"
   ]
  },
  {
   "cell_type": "code",
   "execution_count": 19,
   "metadata": {},
   "outputs": [
    {
     "data": {
      "text/plain": [
       "[<lightgbm.basic.Booster at 0x7f3b50ae5860>,\n",
       " <lightgbm.basic.Booster at 0x7f3be5cc55f8>,\n",
       " <lightgbm.basic.Booster at 0x7f3be5fcc048>,\n",
       " <lightgbm.basic.Booster at 0x7f3b94b695f8>]"
      ]
     },
     "execution_count": 19,
     "metadata": {},
     "output_type": "execute_result"
    }
   ],
   "source": [
    "models"
   ]
  },
  {
   "cell_type": "code",
   "execution_count": 20,
   "metadata": {},
   "outputs": [
    {
     "data": {
      "image/png": "[encoded data removed]",
      "text/plain": [
       "<Figure size 432x288 with 1 Axes>"
      ]
     },
     "metadata": {
      "needs_background": "light"
     },
     "output_type": "display_data"
    },
    {
     "data": {
      "image/png": "[encoded data removed]",
      "text/plain": [
       "<Figure size 432x288 with 1 Axes>"
      ]
     },
     "metadata": {
      "needs_background": "light"
     },
     "output_type": "display_data"
    },
    {
     "data": {
      "image/png": "[encoded data removed]",
      "text/plain": [
       "<Figure size 432x288 with 1 Axes>"
      ]
     },
     "metadata": {
      "needs_background": "light"
     },
     "output_type": "display_data"
    },
    {
     "data": {
      "image/png": "[encoded data removed]",
      "text/plain": [
       "<Figure size 432x288 with 1 Axes>"
      ]
     },
     "metadata": {
      "needs_background": "light"
     },
     "output_type": "display_data"
    }
   ],
   "source": [
    "%matplotlib inline\n",
    "for model in models:\n",
    "    lgb.plot_importance(model)\n",
    "#     plt.show()"
   ]
  },
  {
   "cell_type": "code",
   "execution_count": null,
   "metadata": {},
   "outputs": [],
   "source": []
  },
  {
   "cell_type": "markdown",
   "metadata": {},
   "source": [
    "# 3. final prediction using the ensemble model on the entire test set:"
   ]
  },
  {
   "cell_type": "code",
   "execution_count": 21,
   "metadata": {},
   "outputs": [
    {
     "data": {
      "text/plain": [
       "['submission_multimeter003',\n",
       " 'submission_multimeter004_nobuild',\n",
       " 'submission_withoutleak001',\n",
       " 'submission_whatsyourcv3_0052_trncl',\n",
       " 'submission_nn007lofo',\n",
       " 'submission_nn001',\n",
       " 'another_108_catboost002',\n",
       " 'fe2_lgbm',\n",
       " 'histgradboost113']"
      ]
     },
     "execution_count": 21,
     "metadata": {},
     "output_type": "execute_result"
    }
   ],
   "source": [
    "name_list"
   ]
  },
  {
   "cell_type": "code",
   "execution_count": 23,
   "metadata": {},
   "outputs": [],
   "source": [
    "test = pd.read_feather('test_simple_cleanup.feather')\n",
    "submission = pd.read_feather('leak012345_001.feather')\n",
    "subm_full = pd.concat([test[['building_id','meter']], submission['meter_reading'], subm], axis=1).reset_index(drop=True)"
   ]
  },
  {
   "cell_type": "code",
   "execution_count": 24,
   "metadata": {},
   "outputs": [],
   "source": [
    "subm_full['mean_tgt'] = subm_full[name_list].mean(axis=1)\n",
    "subm_full['median_tgt'] = subm_full[name_list].median(axis=1)"
   ]
  },
  {
   "cell_type": "code",
   "execution_count": 25,
   "metadata": {},
   "outputs": [
    {
     "data": {
      "text/plain": [
       "Index(['meter', 'submission_multimeter003', 'submission_multimeter004_nobuild',\n",
       "       'submission_withoutleak001', 'submission_whatsyourcv3_0052_trncl',\n",
       "       'submission_nn007lofo', 'submission_nn001', 'another_108_catboost002',\n",
       "       'fe2_lgbm', 'histgradboost113', 'mean_tgt', 'median_tgt'],\n",
       "      dtype='object')"
      ]
     },
     "execution_count": 25,
     "metadata": {},
     "output_type": "execute_result"
    }
   ],
   "source": [
    "subm_full[features].columns"
   ]
  },
  {
   "cell_type": "code",
   "execution_count": 26,
   "metadata": {
    "scrolled": true
   },
   "outputs": [
    {
     "name": "stderr",
     "output_type": "stream",
     "text": [
      "100%|██████████| 84/84 [03:10<00:00,  2.04s/it]\n"
     ]
    }
   ],
   "source": [
    "from tqdm import tqdm\n",
    "i=0\n",
    "\n",
    "res = np.zeros((subm_full.shape[0]),dtype=np.float32)\n",
    "step_size = 500000\n",
    "for j in tqdm(range(int(np.ceil(subm_full.shape[0]/step_size)))):\n",
    "#     for_prediction = get_keras_data(test.iloc[i:i+step_size], numericals, categoricals)\n",
    "    for_prediction = subm_full[features].iloc[i:i+step_size]\n",
    "    res[i:min(i+step_size,subm_full.shape[0])] = \\\n",
    "       np.expm1(sum([model.predict(for_prediction, num_iteration=model.best_iteration) for model in models])/len(models))\n",
    "    i+=step_size"
   ]
  },
  {
   "cell_type": "code",
   "execution_count": 27,
   "metadata": {},
   "outputs": [],
   "source": [
    "# use of the leak for final submission:\n",
    "submission = pd.read_feather('leak012345_001.feather')"
   ]
  },
  {
   "cell_type": "code",
   "execution_count": 28,
   "metadata": {},
   "outputs": [],
   "source": [
    "submission['real'] = res"
   ]
  },
  {
   "cell_type": "code",
   "execution_count": 29,
   "metadata": {},
   "outputs": [
    {
     "data": {
      "text/html": [
       "<div>\n",
       "<style scoped>\n",
       "    .dataframe tbody tr th:only-of-type {\n",
       "        vertical-align: middle;\n",
       "    }\n",
       "\n",
       "    .dataframe tbody tr th {\n",
       "        vertical-align: top;\n",
       "    }\n",
       "\n",
       "    .dataframe thead th {\n",
       "        text-align: right;\n",
       "    }\n",
       "</style>\n",
       "<table border=\"1\" class=\"dataframe\">\n",
       "  <thead>\n",
       "    <tr style=\"text-align: right;\">\n",
       "      <th></th>\n",
       "      <th>index</th>\n",
       "      <th>row_id</th>\n",
       "      <th>meter_reading</th>\n",
       "      <th>real</th>\n",
       "    </tr>\n",
       "  </thead>\n",
       "  <tbody>\n",
       "    <tr>\n",
       "      <td>0</td>\n",
       "      <td>0</td>\n",
       "      <td>0</td>\n",
       "      <td>173.3703</td>\n",
       "      <td>154.582840</td>\n",
       "    </tr>\n",
       "    <tr>\n",
       "      <td>1</td>\n",
       "      <td>1</td>\n",
       "      <td>1</td>\n",
       "      <td>53.5127</td>\n",
       "      <td>70.915092</td>\n",
       "    </tr>\n",
       "    <tr>\n",
       "      <td>2</td>\n",
       "      <td>2</td>\n",
       "      <td>2</td>\n",
       "      <td>6.1430</td>\n",
       "      <td>8.802517</td>\n",
       "    </tr>\n",
       "    <tr>\n",
       "      <td>3</td>\n",
       "      <td>3</td>\n",
       "      <td>3</td>\n",
       "      <td>101.7015</td>\n",
       "      <td>209.091782</td>\n",
       "    </tr>\n",
       "    <tr>\n",
       "      <td>4</td>\n",
       "      <td>4</td>\n",
       "      <td>4</td>\n",
       "      <td>1141.2407</td>\n",
       "      <td>1107.388916</td>\n",
       "    </tr>\n",
       "    <tr>\n",
       "      <td>...</td>\n",
       "      <td>...</td>\n",
       "      <td>...</td>\n",
       "      <td>...</td>\n",
       "      <td>...</td>\n",
       "    </tr>\n",
       "    <tr>\n",
       "      <td>41697595</td>\n",
       "      <td>41697595</td>\n",
       "      <td>41697595</td>\n",
       "      <td>-9999.9900</td>\n",
       "      <td>6.285638</td>\n",
       "    </tr>\n",
       "    <tr>\n",
       "      <td>41697596</td>\n",
       "      <td>41697596</td>\n",
       "      <td>41697596</td>\n",
       "      <td>-9999.9900</td>\n",
       "      <td>4.357557</td>\n",
       "    </tr>\n",
       "    <tr>\n",
       "      <td>41697597</td>\n",
       "      <td>41697597</td>\n",
       "      <td>41697597</td>\n",
       "      <td>-9999.9900</td>\n",
       "      <td>4.075686</td>\n",
       "    </tr>\n",
       "    <tr>\n",
       "      <td>41697598</td>\n",
       "      <td>41697598</td>\n",
       "      <td>41697598</td>\n",
       "      <td>-9999.9900</td>\n",
       "      <td>160.161301</td>\n",
       "    </tr>\n",
       "    <tr>\n",
       "      <td>41697599</td>\n",
       "      <td>41697599</td>\n",
       "      <td>41697599</td>\n",
       "      <td>-9999.9900</td>\n",
       "      <td>3.745828</td>\n",
       "    </tr>\n",
       "  </tbody>\n",
       "</table>\n",
       "<p>41697600 rows × 4 columns</p>\n",
       "</div>"
      ],
      "text/plain": [
       "             index    row_id  meter_reading         real\n",
       "0                0         0       173.3703   154.582840\n",
       "1                1         1        53.5127    70.915092\n",
       "2                2         2         6.1430     8.802517\n",
       "3                3         3       101.7015   209.091782\n",
       "4                4         4      1141.2407  1107.388916\n",
       "...            ...       ...            ...          ...\n",
       "41697595  41697595  41697595     -9999.9900     6.285638\n",
       "41697596  41697596  41697596     -9999.9900     4.357557\n",
       "41697597  41697597  41697597     -9999.9900     4.075686\n",
       "41697598  41697598  41697598     -9999.9900   160.161301\n",
       "41697599  41697599  41697599     -9999.9900     3.745828\n",
       "\n",
       "[41697600 rows x 4 columns]"
      ]
     },
     "execution_count": 29,
     "metadata": {},
     "output_type": "execute_result"
    }
   ],
   "source": [
    "submission"
   ]
  },
  {
   "cell_type": "code",
   "execution_count": 30,
   "metadata": {},
   "outputs": [],
   "source": [
    "# concatenation of the leak and the ensembling prediction:\n",
    "submission['meter_reading']  = np.where(submission.meter_reading==-9999.99, submission['real'], submission['meter_reading'])\n"
   ]
  },
  {
   "cell_type": "code",
   "execution_count": 31,
   "metadata": {},
   "outputs": [],
   "source": [
    "submission[['row_id','meter_reading']].to_csv('submission_ensemble_3rd_place.csv.gz', index=False,  compression='gzip', float_format='%.4f', chunksize=25000)"
   ]
  },
  {
   "cell_type": "code",
   "execution_count": 32,
   "metadata": {},
   "outputs": [
    {
     "name": "stdout",
     "output_type": "stream",
     "text": [
      "Warning: Your Kaggle API key is readable by other users on this system! To fix this, you can run 'chmod 600 /home/ubuntu/.kaggle/kaggle.json'\n",
      "Warning: Looks like you're using an outdated API Version, please consider updating (server 1.5.6 / client 1.5.4)\n",
      "100%|████████████████████████████████████████| 249M/249M [00:06<00:00, 38.8MB/s]\n",
      "Successfully submitted to ASHRAE - Great Energy Predictor III"
     ]
    }
   ],
   "source": [
    "!kaggle competitions submit -c ashrae-energy-prediction -f submission_ensemble_3rd_place.csv.gz -m \"final ensemble 3rd place position\"\n"
   ]
  },
  {
   "cell_type": "code",
   "execution_count": null,
   "metadata": {},
   "outputs": [],
   "source": []
  }
 ],
 "metadata": {
  "kernelspec": {
   "display_name": "Python 3",
   "language": "python",
   "name": "python3"
  },
  "language_info": {
   "codemirror_mode": {
    "name": "ipython",
    "version": 3
   },
   "file_extension": ".py",
   "mimetype": "text/x-python",
   "name": "python",
   "nbconvert_exporter": "python",
   "pygments_lexer": "ipython3",
   "version": "3.6.8"
  }
 },
 "nbformat": 4,
 "nbformat_minor": 2
}
