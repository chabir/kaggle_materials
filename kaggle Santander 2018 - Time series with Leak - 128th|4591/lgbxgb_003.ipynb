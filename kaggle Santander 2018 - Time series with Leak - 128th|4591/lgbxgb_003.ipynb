{
 "cells": [
  {
   "cell_type": "markdown",
   "metadata": {
    "_uuid": "9cf11d0446f8b35daeafc0a085566083929419a8"
   },
   "source": [
    "## LGBM CV Tuning and Seed Diversification\n",
    "\n"
   ]
  },
  {
   "cell_type": "code",
   "execution_count": null,
   "metadata": {},
   "outputs": [],
   "source": [
    "### target encoding, change objective to poisson"
   ]
  },
  {
   "cell_type": "code",
   "execution_count": 1,
   "metadata": {},
   "outputs": [],
   "source": [
    "#longest sequence:\n",
    "# https://stackoverflow.com/questions/40166522/find-longest-sequence-of-0s-in-the-integer-list"
   ]
  },
  {
   "cell_type": "code",
   "execution_count": 2,
   "metadata": {},
   "outputs": [],
   "source": [
    "# N: Create histograms for categorical variables and group/cluster them.\n",
    "\n",
    "# N: Use Vowpal Wabbit (vw-varinfo) or XGBoost (XGBfi) to quickly check two-way and three-way interactions.\n",
    "\n",
    "# N: Use statistical tests to discard noisy features (eg: select k best with ANOVA F-score), Benford's Law to detect natural counts (great for logtransforms).\n",
    "\n",
    "# ~Manually inspect the data and combine features that look similar in structure (both columns contain hashed variables) or expand categorical variables that look like hierarchical codes (\"1.11125A\" -> 1, 111, 25, A).\n",
    "\n",
    "# ~Use (progressive/cross-)validation with fast algorithms or on a subset of the data to spot significant changes.\n",
    "\n",
    "# Y: Compute stats about a row of data (nr. of 0's, nr. of NAs, max, min, mean, std)\n",
    "\n",
    "# Y: Transforms: Log, tfidf\n",
    "\n",
    "# Y: Numerical->Categorical: Encoding numerical variables, like 11.25 as categorical variables: eleventwentyfive\n",
    "\n",
    "# Y: Bayesian: Encode categorical variables with its ratio of the target variable in train set.\n",
    "\n",
    "# Y: Reduce the dimensionality / project down with tSNE, MDA, PCA, LDA, RP, RBM, kmeans or expand raw data.\n",
    "\n",
    "# ~Genetic programming: http://gplearn.readthedocs.org/en/latest/examples.html#example-2-symbolic-tranformer to automatically create non-linear features.\n",
    "\n",
    "# Recursive Feature Elimination: Use all features -> drop the feature that results in biggest CV gain -> repeat till no improvement\n",
    "\n",
    "# Automation: Try to infer type of feature automatically with scripts and create feature engineering pipelines. This scales and can be used even when the features are not anonymized."
   ]
  },
  {
   "cell_type": "code",
   "execution_count": null,
   "metadata": {},
   "outputs": [],
   "source": []
  },
  {
   "cell_type": "code",
   "execution_count": 1,
   "metadata": {},
   "outputs": [],
   "source": [
    "\n",
    "%matplotlib  inline\n",
    "import matplotlib.pyplot as plt"
   ]
  },
  {
   "cell_type": "code",
   "execution_count": 2,
   "metadata": {},
   "outputs": [],
   "source": [
    "import numpy as np\n",
    "import pandas as pd\n",
    "from scipy.stats import skew, kurtosis\n",
    "import sklearn.decomposition as sk_d\n",
    "import sklearn.random_projection as sk_rp\n",
    "from sklearn.externals import joblib\n",
    "# from steppy.base import BaseTransformer\n",
    "# from steppy.utils import get_logger"
   ]
  },
  {
   "cell_type": "code",
   "execution_count": 3,
   "metadata": {
    "_uuid": "f3ae27d2f6c11d8100dd600dbb9ffaabd55d8c25",
    "scrolled": true
   },
   "outputs": [
    {
     "name": "stdout",
     "output_type": "stream",
     "text": [
      "Data Load Stage\n",
      "Train shape: 4459 Rows, 4991 Columns\n",
      "Test shape: 49342 Rows, 4991 Columns\n",
      "Combine Train and Test\n",
      "\n",
      "All Data shape: 53801 Rows, 4991 Columns\n"
     ]
    }
   ],
   "source": [
    "import time\n",
    "notebookstart= time.time()\n",
    "\n",
    "import numpy as np # linear algebra\n",
    "import pandas as pd # data processing, CSV file I/O (e.g. pd.read_csv)\n",
    "import os\n",
    "import gc\n",
    "import random\n",
    "random.seed(2018)\n",
    "\n",
    "# Models Packages\n",
    "from sklearn import metrics\n",
    "from sklearn.metrics import mean_squared_error\n",
    "from sklearn import feature_selection\n",
    "from sklearn.model_selection import train_test_split\n",
    "from IPython.display import display\n",
    "\n",
    "\n",
    "import pandas as pd\n",
    "import numpy as np\n",
    "from sklearn import model_selection\n",
    "from sklearn.model_selection import train_test_split\n",
    "from sklearn.preprocessing import RobustScaler\n",
    "from sklearn.preprocessing import StandardScaler\n",
    "from sklearn.manifold import TSNE\n",
    "from sklearn.cluster import KMeans\n",
    "from sklearn.decomposition import PCA, TruncatedSVD, FastICA\n",
    "from sklearn.model_selection import KFold\n",
    "from sklearn.random_projection import GaussianRandomProjection, SparseRandomProjection\n",
    "from sklearn.preprocessing import normalize\n",
    "from sklearn.manifold import TSNE\n",
    "\n",
    "# Gradient Boosting\n",
    "import sys\n",
    "sys.path.insert(0,'/home/xavierc/LightGBM/python-package/')\n",
    "import lightgbm as lgb\n",
    "\n",
    "\n",
    "import sys\n",
    "sys.path.insert(0,'/home/xavierc/xgboost/python-package/')\n",
    "import xgboost as xgb\n",
    "\n",
    "# Visualization\n",
    "import seaborn as sns\n",
    "import matplotlib.pyplot as plt\n",
    "get_ipython().magic('matplotlib inline')\n",
    "\n",
    "# Specify index/ target name\n",
    "id_col = \"ID\"\n",
    "target_var = \"target\"\n",
    "\n",
    "# House Keeping Parameters\n",
    "Debug = False\n",
    "Home = False\n",
    "Build_Results_csv = True # if running for first time\n",
    "\n",
    "results = pd.DataFrame(columns = [\"Rounds\",\"Score\",\"STDV\", \"LB\", \"Parameters\"])\n",
    "if Build_Results_csv is True & Home is True: results.to_csv(\"results.csv\")\n",
    "if Home is True:\n",
    "    import os\n",
    "    path = r\"D:\\My Computer\\DATA\\Santander\"\n",
    "    os.chdir(path)\n",
    "    \n",
    "    print(\"Data Load Stage\")\n",
    "    training = pd.read_csv('train.csv', index_col = id_col)\n",
    "    if Debug is True : training = training.sample(100)\n",
    "    traindex = training.index\n",
    "    testing = pd.read_csv('test.csv', index_col = id_col)\n",
    "    if Debug is True : testing = testing.sample(100)\n",
    "    testdex = testing.index\n",
    "else:\n",
    "    print(\"Data Load Stage\")\n",
    "    training = pd.read_csv('/media/disk2/dataset-kaggle/santander3/train.csv', index_col = id_col)\n",
    "    if Debug is True : training = training.sample(100)\n",
    "    traindex = training.index\n",
    "    testing = pd.read_csv('/media/disk2/dataset-kaggle/santander3/test.csv', index_col = id_col)\n",
    "    if Debug is True : testing = testing.sample(100)\n",
    "    testdex = testing.index\n",
    "\n",
    "y_orig = training[target_var]\n",
    "y = np.log1p(training[target_var])\n",
    "training.drop(target_var,axis=1, inplace=True)\n",
    "print('Train shape: {} Rows, {} Columns'.format(*training.shape))\n",
    "print('Test shape: {} Rows, {} Columns'.format(*testing.shape))\n",
    "\n",
    "print(\"Combine Train and Test\")\n",
    "df = pd.concat([training,testing],axis=0)\n",
    "# del training, testing\n",
    "gc.collect()\n",
    "print('\\nAll Data shape: {} Rows, {} Columns'.format(*df.shape))"
   ]
  },
  {
   "cell_type": "code",
   "execution_count": 4,
   "metadata": {},
   "outputs": [
    {
     "ename": "SyntaxError",
     "evalue": "invalid syntax (<ipython-input-4-5a55f8dd1ce6>, line 1)",
     "output_type": "error",
     "traceback": [
      "\u001b[0;36m  File \u001b[0;32m\"<ipython-input-4-5a55f8dd1ce6>\"\u001b[0;36m, line \u001b[0;32m1\u001b[0m\n\u001b[0;31m    pandas.options.display.max_info_columns =\u001b[0m\n\u001b[0m                                              ^\u001b[0m\n\u001b[0;31mSyntaxError\u001b[0m\u001b[0;31m:\u001b[0m invalid syntax\n"
     ]
    }
   ],
   "source": [
    "pandas.options.display.max_info_columns = \n",
    "training.info()"
   ]
  },
  {
   "cell_type": "code",
   "execution_count": null,
   "metadata": {},
   "outputs": [],
   "source": [
    "training.head()"
   ]
  },
  {
   "cell_type": "code",
   "execution_count": null,
   "metadata": {},
   "outputs": [],
   "source": [
    "training.index"
   ]
  },
  {
   "cell_type": "code",
   "execution_count": null,
   "metadata": {},
   "outputs": [],
   "source": [
    "df_agg2['non_zero_sum_orig'].shape"
   ]
  },
  {
   "cell_type": "code",
   "execution_count": null,
   "metadata": {},
   "outputs": [],
   "source": [
    "tutu['non_zero_sum_orig'].shape"
   ]
  },
  {
   "cell_type": "code",
   "execution_count": null,
   "metadata": {},
   "outputs": [],
   "source": [
    "toto=pd.DataFrame()\n",
    "toto['ID'] = training.index\n",
    "toto['target']=y_orig.values\n",
    "tata=pd.DataFrame()\n",
    "tata['ID'] = testing.index\n",
    "tata['target']=-99999\n",
    "tutu = pd.concat([toto.reset_index(drop=True), tata.reset_index(drop=True)], axis=0).reset_index(drop=True)\n",
    "tutu['non_zero_sum_orig'] = df_agg2['non_zero_sum_orig'].values\n",
    "tutu['diff1'] = tutu['non_zero_sum_orig'].diff()"
   ]
  },
  {
   "cell_type": "code",
   "execution_count": null,
   "metadata": {},
   "outputs": [],
   "source": [
    "tutu.shape"
   ]
  },
  {
   "cell_type": "code",
   "execution_count": null,
   "metadata": {},
   "outputs": [],
   "source": [
    "df_agg2['non_zero_sum_orig'].shape"
   ]
  },
  {
   "cell_type": "code",
   "execution_count": null,
   "metadata": {},
   "outputs": [],
   "source": [
    "tutu.sort_values(\"ID\", inplace=True)\n",
    "tutu = tutu.reset_index(drop=True)\n",
    "tutu['diff2'] = tutu['non_zero_sum_orig'].diff()"
   ]
  },
  {
   "cell_type": "code",
   "execution_count": null,
   "metadata": {},
   "outputs": [],
   "source": [
    "# https://www.kaggle.com/ogrellier/santander-46-features\n",
    "col46 = ['f190486d6', 'c47340d97', 'eeb9cd3aa', '66ace2992', 'e176a204a',\n",
    "        '491b9ee45', '1db387535', 'c5a231d81', '0572565c2', '024c577b9',\n",
    "        '15ace8c9f', '23310aa6f', '9fd594eec', '58e2e02e6', '91f701ba2',\n",
    "        'adb64ff71', '2ec5b290f', '703885424', '26fc93eb7', '6619d81fc',\n",
    "        '0ff32eb98', '70feb1494', '58e056e12', '1931ccfdd', '1702b5bf0',\n",
    "        '58232a6fb', '963a49cdc', 'fc99f9426', '241f0f867', '5c6487af1',\n",
    "        '62e59a501', 'f74e8f13d', 'fb49e4212', '190db8488', '324921c7b',\n",
    "        'b43a7cfd5', '9306da53f', 'd6bb78916', 'fb0f5dbfe', '6eef030c1']"
   ]
  },
  {
   "cell_type": "code",
   "execution_count": null,
   "metadata": {},
   "outputs": [],
   "source": [
    "for col in col46:\n",
    "    print(training[col].dtypes)"
   ]
  },
  {
   "cell_type": "code",
   "execution_count": null,
   "metadata": {},
   "outputs": [],
   "source": [
    "# from scipy.stats import entropy\n",
    "# from numpy.linalg import norm\n",
    "# import numpy as np\n",
    "\n",
    "# def JSD(P, Q):\n",
    "#     _P = P / norm(P, ord=1)\n",
    "#     _Q = Q / norm(Q, ord=1)\n",
    "#     _M = 0.5 * (_P + _Q)\n",
    "#     return 0.5 * (entropy(_P, _M) + entropy(_Q, _M))"
   ]
  },
  {
   "cell_type": "code",
   "execution_count": null,
   "metadata": {},
   "outputs": [],
   "source": [
    "df.head()"
   ]
  },
  {
   "cell_type": "code",
   "execution_count": null,
   "metadata": {},
   "outputs": [],
   "source": [
    "print(len(y_orig.unique()))\n",
    "orig_cols = list(df.columns)\n",
    "ordered_cols = sorted(orig_cols)"
   ]
  },
  {
   "cell_type": "code",
   "execution_count": null,
   "metadata": {},
   "outputs": [],
   "source": [
    "len(orig_cols)"
   ]
  },
  {
   "cell_type": "code",
   "execution_count": null,
   "metadata": {},
   "outputs": [],
   "source": [
    "# ordered_cols"
   ]
  },
  {
   "cell_type": "code",
   "execution_count": 592,
   "metadata": {},
   "outputs": [
    {
     "data": {
      "text/plain": [
       "(3004, 4992, 4915.665675359194)"
      ]
     },
     "execution_count": 592,
     "metadata": {},
     "output_type": "execute_result"
    }
   ],
   "source": [
    "df_agg1['sum_zeros_row'].min(), df_agg1['sum_zeros_row'].max(), df_agg1['sum_zeros_row'].mean()"
   ]
  },
  {
   "cell_type": "code",
   "execution_count": null,
   "metadata": {},
   "outputs": [],
   "source": []
  },
  {
   "cell_type": "markdown",
   "metadata": {},
   "source": [
    "## feature engineering"
   ]
  },
  {
   "cell_type": "markdown",
   "metadata": {},
   "source": [
    "### agg_1"
   ]
  },
  {
   "cell_type": "code",
   "execution_count": 10,
   "metadata": {},
   "outputs": [],
   "source": [
    "# df_agg1 = pd.DataFrame()\n",
    "# df_agg1['Mean'] = df.mean(axis=1)\n",
    "# df_agg1['Median'] = df.median(axis=1)\n",
    "# df_agg1['Mode'] = df.mode(axis=1)\n",
    "# df_agg1['Max'] = df.max(axis=1)\n",
    "# df_agg1['Var'] = df.var(axis=1)\n",
    "# df_agg1['Std'] = df.std(axis=1)\n",
    "# df_agg1['number_of_different'] = df.nunique(axis=1)\n",
    "# df_agg1['col_non_zero_count'] = df.astype(bool).sum(axis=1) \n",
    "# df_agg1['sum_zeros_row'] = (df == 0).astype(int).sum(axis=1)\n",
    "# df_agg1['geometric_mean'] = df.apply(lambda x: np.exp(np.log(x[x>0]).mean()), axis=1)\n"
   ]
  },
  {
   "cell_type": "code",
   "execution_count": 17,
   "metadata": {},
   "outputs": [],
   "source": [
    "# import itertools,operator\n",
    "# # r = max((list(y) for (x,y) in itertools.groupby((enumerate(A)),operator.itemgetter(1)) if x == 0), key=len)\n",
    "# # print(r[0][0]) # prints 12\n",
    "# # print(r[-1][0]) # prints 19\n",
    "\n",
    "# def greater_0_maxseq(row):\n",
    "#     rk=max([len(list(y)) for (c,y) in itertools.groupby(row.values) if c==0])\n",
    "#     return rk\n",
    "# def greater_0_minseq(row):\n",
    "#     rk=min([len(list(y)) for (c,y) in itertools.groupby(row.values) if c==0])\n",
    "#     return rk\n",
    "# def greater_0_meanseq(row):\n",
    "#     rk=np.mean([len(list(y)) for (c,y) in itertools.groupby(row.values) if c==0])\n",
    "#     return rk\n",
    "# def greater_0_stdseq(row):\n",
    "#     rk=np.std([len(list(y)) for (c,y) in itertools.groupby(row.values) if c==0])\n",
    "#     return rk\n",
    "# def greater_0_lenseq(row):\n",
    "#     rk=len([len(list(y)) for (c,y) in itertools.groupby(row.values) if c==0])\n",
    "#     return rk\n",
    "\n",
    "# df_agg1['long0maxseq'] = df.apply(greater_0_maxseq,axis=1)\n",
    "# df_agg1['long0minseq'] = df.apply(greater_0_minseq,axis=1)\n",
    "# df_agg1['long0meanseq'] = df.apply(greater_0_meanseq,axis=1)\n",
    "# df_agg1['long0stdseq'] = df.apply(greater_0_stdseq,axis=1)\n",
    "# df_agg1['long0lenseq'] = df.apply(greater_0_lenseq,axis=1)\n",
    "\n",
    "# # df['long0maxseq_ord'] = df[ordered_cols].apply(greater_0_maxseq,axis=1)\n",
    "# # df['long0minseq_ord'] = df[ordered_cols].apply(greater_0_minseq,axis=1)\n",
    "# # df['long0meanseq_ord'] = df[ordered_cols].apply(greater_0_minseq,axis=1)\n",
    "# # df['long0stdseq_ord'] = df[ordered_cols].apply(greater_0_minseq,axis=1)\n",
    "# # df['long0lenseq_ord'] = df[ordered_cols].apply(greater_0_minseq,axis=1)"
   ]
  },
  {
   "cell_type": "code",
   "execution_count": null,
   "metadata": {},
   "outputs": [],
   "source": [
    "# df_agg1.to_pickle('/media/disk2/dataset-kaggle/santander3/df_agg1_001.pickle')\n",
    "df_agg1 = pd.read_pickle('/media/disk2/dataset-kaggle/santander3/df_agg1_001.pickle')"
   ]
  },
  {
   "cell_type": "code",
   "execution_count": null,
   "metadata": {},
   "outputs": [],
   "source": [
    "df_agg1.head(4)"
   ]
  },
  {
   "cell_type": "markdown",
   "metadata": {},
   "source": [
    "### agg_2"
   ]
  },
  {
   "cell_type": "code",
   "execution_count": 22,
   "metadata": {},
   "outputs": [],
   "source": [
    "# def aggregate_row(row, suffix='_orig'):\n",
    "#     non_zero_values = row.iloc[row.nonzero()]\n",
    "#     aggs = {'non_zero_mean'+suffix: non_zero_values.mean(),\n",
    "#             'non_zero_std'+suffix: non_zero_values.std(),\n",
    "#             'non_zero_max'+suffix: non_zero_values.max(),\n",
    "#             'non_zero_min'+suffix: non_zero_values.min(),\n",
    "#             'non_zero_sum'+suffix: non_zero_values.sum(),\n",
    "#             'non_zero_skewness'+suffix: skew(non_zero_values),\n",
    "#             'non_zero_kurtosis'+suffix: kurtosis(non_zero_values),\n",
    "#             'non_zero_median'+suffix: non_zero_values.median(),\n",
    "#             'non_zero_q1'+suffix: np.percentile(non_zero_values, q=25),\n",
    "#             'non_zero_q3'+suffix: np.percentile(non_zero_values, q=75),\n",
    "#             'non_zero_log_mean'+suffix: np.log1p(non_zero_values).mean(),\n",
    "#             'non_zero_log_std'+suffix: np.log1p(non_zero_values).std(),\n",
    "#             'non_zero_log_max'+suffix: np.log1p(non_zero_values).max(),\n",
    "#             'non_zero_log_min'+suffix: np.log1p(non_zero_values).min(),\n",
    "#             'non_zero_log_sum'+suffix: np.log1p(non_zero_values).sum(),\n",
    "#             'non_zero_log_skewness'+suffix: skew(np.log1p(non_zero_values)),\n",
    "#             'non_zero_log_kurtosis'+suffix: kurtosis(np.log1p(non_zero_values)),\n",
    "#             'non_zero_log_median'+suffix: np.log1p(non_zero_values).median(),\n",
    "#             'non_zero_log_q1'+suffix: np.percentile(np.log1p(non_zero_values), q=25),\n",
    "#             'non_zero_log_q3'+suffix: np.percentile(np.log1p(non_zero_values), q=75),\n",
    "#             'non_zero_count_row'+suffix: non_zero_values.count(),\n",
    "#             'non_zero_fraction'+suffix: non_zero_values.count() / row.count()\n",
    "#             }\n",
    "#     return pd.Series(aggs)\n",
    "\n",
    "\n",
    "# df_agg2 = df.apply(aggregate_row, axis=1)"
   ]
  },
  {
   "cell_type": "code",
   "execution_count": null,
   "metadata": {},
   "outputs": [],
   "source": [
    "# df_agg2.to_pickle('/media/disk2/dataset-kaggle/santander3/df_agg2_001.pickle')\n",
    "df_agg2 = pd.read_pickle('/media/disk2/dataset-kaggle/santander3/df_agg2_001.pickle')"
   ]
  },
  {
   "cell_type": "code",
   "execution_count": null,
   "metadata": {},
   "outputs": [],
   "source": [
    "df_agg2.shape"
   ]
  },
  {
   "cell_type": "code",
   "execution_count": null,
   "metadata": {},
   "outputs": [],
   "source": [
    "df_agg2.head(4)"
   ]
  },
  {
   "cell_type": "code",
   "execution_count": 26,
   "metadata": {},
   "outputs": [],
   "source": [
    "# def aggregate_row(row, suffix='_0'):\n",
    "#     non_zero_values = row.iloc[row.nonzero()]\n",
    "#     aggs = {'non_zero_mean'+suffix: non_zero_values.mean(),\n",
    "#             'non_zero_std'+suffix: non_zero_values.std(),\n",
    "#             'non_zero_max'+suffix: non_zero_values.max(),\n",
    "#             'non_zero_min'+suffix: non_zero_values.min(),\n",
    "#             'non_zero_sum'+suffix: non_zero_values.sum(),\n",
    "# #             'non_zero_skewness'+name: skew(non_zero_values),\n",
    "# #             'non_zero_kurtosis'+name: kurtosis(non_zero_values),\n",
    "# #             'non_zero_median'+name: non_zero_values.median(),\n",
    "# #             'non_zero_q1'+name: np.percentile(non_zero_values, q=25),\n",
    "# #             'non_zero_q3'+name: np.percentile(non_zero_values, q=75),\n",
    "# #             'non_zero_log_mean'+name: np.log1p(non_zero_values).mean(),\n",
    "# #             'non_zero_log_std'+name: np.log1p(non_zero_values).std(),\n",
    "# #             'non_zero_log_max'+name: np.log1p(non_zero_values).max(),\n",
    "# #             'non_zero_log_min'+name: np.log1p(non_zero_values).min(),\n",
    "# #             'non_zero_log_sum'+name: np.log1p(non_zero_values).sum(),\n",
    "# #             'non_zero_log_skewness'+name: skew(np.log1p(non_zero_values)),\n",
    "# #             'non_zero_log_kurtosis'+name: kurtosis(np.log1p(non_zero_values)),\n",
    "# #             'non_zero_log_median'+name: np.log1p(non_zero_values).median(),\n",
    "# #             'non_zero_log_q1'+name: np.percentile(np.log1p(non_zero_values), q=25),\n",
    "# #             'non_zero_log_q3'+name: np.percentile(np.log1p(non_zero_values), q=75),\n",
    "#             'non_zero_count_row'+suffix: non_zero_values.count(),\n",
    "# #             'non_zero_fraction'+name: non_zero_values.count() / row.count()\n",
    "#             }\n",
    "#     return pd.Series(aggs)\n",
    "\n",
    "# df_agg2 = pd.DataFrame()\n",
    "\n",
    "# for i in range(0,712,7):\n",
    "#     df_newn = df.iloc[:,i:i+7]\n",
    "#     df_new = df_newn.apply(aggregate_row, suffix=str(i), axis=1)\n",
    "#     df_agg2 = pd.concat([df_agg2, df_new], axis=1)"
   ]
  },
  {
   "cell_type": "code",
   "execution_count": 27,
   "metadata": {},
   "outputs": [],
   "source": [
    "# df_agg3.shape"
   ]
  },
  {
   "cell_type": "code",
   "execution_count": 59,
   "metadata": {},
   "outputs": [],
   "source": [
    "### try doing agg by 7 days"
   ]
  },
  {
   "cell_type": "code",
   "execution_count": null,
   "metadata": {},
   "outputs": [],
   "source": []
  },
  {
   "cell_type": "markdown",
   "metadata": {},
   "source": [
    "### agg_3"
   ]
  },
  {
   "cell_type": "code",
   "execution_count": 28,
   "metadata": {},
   "outputs": [],
   "source": [
    "# df_agg3 = pd.DataFrame()\n",
    "\n",
    "# iii = [28*6,28*12,28*24,28*36]\n",
    "# for a in iii:\n",
    "#     bbb = int(4991/a)*a\n",
    "#     for i in range(0,bbb,a):\n",
    "#         df_newn = df.iloc[:,i:i+a]\n",
    "#         df_new = pd.DataFrame()\n",
    "#         df_new['geo_'+str(a)+'_'+str(i)] = df_newn.apply(lambda x: np.exp(np.log(x[x>0]).mean()), axis=1)\n",
    "#         df_agg3 = pd.concat([df_agg3, df_new], axis=1)"
   ]
  },
  {
   "cell_type": "code",
   "execution_count": null,
   "metadata": {},
   "outputs": [],
   "source": [
    "  "
   ]
  },
  {
   "cell_type": "code",
   "execution_count": 70,
   "metadata": {},
   "outputs": [],
   "source": [
    "# def kmeans(X_Tr,Xte):\n",
    "#     flist = [x for x in X_Tr.columns if not x in ['ID','target']]\n",
    "#     flist_kmeans = []\n",
    "#     for ncl in range(2,11):\n",
    "#         cls = KMeans(n_clusters=ncl)\n",
    "#         cls.fit_predict(X_train[flist].values)\n",
    "#         X_Tr['kmeans_cluster_'+str(ncl)] = cls.predict(X_Tr[flist].values)\n",
    "#         Xte['kmeans_cluster_'+str(ncl)] = cls.predict(Xte[flist].values)\n",
    "#         flist_kmeans.append('kmeans_cluster_'+str(ncl))\n",
    "#     print(flist_kmeans)\n",
    "    \n",
    "#     return X_Tr,Xte"
   ]
  },
  {
   "cell_type": "code",
   "execution_count": null,
   "metadata": {},
   "outputs": [],
   "source": [
    "df_agg1.shape, df_agg2.shape"
   ]
  },
  {
   "cell_type": "code",
   "execution_count": null,
   "metadata": {},
   "outputs": [],
   "source": []
  },
  {
   "cell_type": "code",
   "execution_count": 5,
   "metadata": {},
   "outputs": [],
   "source": [
    "# df = pd.concat([df, df_agg, df_agg2], axis=1)"
   ]
  },
  {
   "cell_type": "code",
   "execution_count": 6,
   "metadata": {},
   "outputs": [],
   "source": [
    "# # https://www.kaggle.com/ajarmstrong/separate-aggregates-for-dense-and-sparse-features\n",
    "\n",
    "# df_agg4 = pd.DataFrame()\n",
    "\n",
    "# train_zeros = pd.DataFrame({'Percent_zero':((training.values)==0).mean(axis=0),\n",
    "#                            'Column' : training.columns})\n",
    "\n",
    "# high_vol_columns = train_zeros['Column'][train_zeros['Percent_zero'] > 0.70].values\n",
    "# mid_vol_columns = train_zeros['Column'][(train_zeros['Percent_zero'] <= 0.70) & (train_zeros['Percent_zero'] >= 0.30)].values\n",
    "# low_vol_columns = train_zeros['Column'][train_zeros['Percent_zero'] < 0.30].values"
   ]
  },
  {
   "cell_type": "code",
   "execution_count": null,
   "metadata": {},
   "outputs": [],
   "source": []
  },
  {
   "cell_type": "markdown",
   "metadata": {},
   "source": [
    "### selection of features for test and train"
   ]
  },
  {
   "cell_type": "code",
   "execution_count": 7,
   "metadata": {},
   "outputs": [],
   "source": [
    "# from mlbox.preprocessing import Reader, Drift_thresholder\n",
    "# # os.environ[\"KERAS_BACKEND\"] = \"tensorflow\"\n",
    "\n",
    "# import os\n",
    "# os.environ[\"THEANO_FLAGS\"] = \"device=cuda2,floatX=float32\"\n",
    "\n",
    "path_santander = '/media/disk2/dataset-kaggle/santander3/'\n",
    "\n",
    "# paths = [path_santander+\"train.csv\", path_santander+\"test.csv\"]\n",
    "# target_name = \"target\"\n",
    "\n",
    "# rd = Reader(sep = \",\", to_path='save')\n",
    "# df = rd.train_test_split(paths, target_name)\n",
    "# dft = Drift_thresholder(to_path='save')\n",
    "# df = dft.fit_transform(df)"
   ]
  },
  {
   "cell_type": "code",
   "execution_count": 8,
   "metadata": {},
   "outputs": [
    {
     "ename": "NameError",
     "evalue": "name 'col46' is not defined",
     "output_type": "error",
     "traceback": [
      "\u001b[0;31m---------------------------------------------------------------------------\u001b[0m",
      "\u001b[0;31mNameError\u001b[0m                                 Traceback (most recent call last)",
      "\u001b[0;32m<ipython-input-8-60b0a68b3bb4>\u001b[0m in \u001b[0;36m<module>\u001b[0;34m()\u001b[0m\n\u001b[1;32m      4\u001b[0m \u001b[0;34m\u001b[0m\u001b[0m\n\u001b[1;32m      5\u001b[0m \u001b[0;34m\u001b[0m\u001b[0m\n\u001b[0;32m----> 6\u001b[0;31m \u001b[0mdrift_col\u001b[0m \u001b[0;34m=\u001b[0m \u001b[0mnp\u001b[0m\u001b[0;34m.\u001b[0m\u001b[0marray\u001b[0m\u001b[0;34m(\u001b[0m\u001b[0mcol46\u001b[0m\u001b[0;34m)\u001b[0m\u001b[0;34m\u001b[0m\u001b[0m\n\u001b[0m",
      "\u001b[0;31mNameError\u001b[0m: name 'col46' is not defined"
     ]
    }
   ],
   "source": [
    "# path_santander = '/media/disk2/dataset-kaggle/santander3/'\n",
    "# drift_df = pd.read_csv(path_santander+'drift_002.txt', header=None, sep=' =')\n",
    "# drift_col = drift_df.iloc[-1500:,0].values\n",
    "\n",
    "\n",
    "drift_col = np.array(col46)"
   ]
  },
  {
   "cell_type": "code",
   "execution_count": null,
   "metadata": {},
   "outputs": [],
   "source": []
  },
  {
   "cell_type": "markdown",
   "metadata": {},
   "source": [
    "### target encoding:"
   ]
  },
  {
   "cell_type": "code",
   "execution_count": 10,
   "metadata": {},
   "outputs": [],
   "source": [
    "def add_noise(series, noise_level):\n",
    "    return series * (1 + noise_level * np.random.randn(len(series)))\n",
    "\n",
    "def target_encode(trn_series=None,\n",
    "                  tst_series=None,\n",
    "                  target=None,\n",
    "                  min_samples_leaf=1,\n",
    "                  smoothing=10,\n",
    "                  noise_level=0):\n",
    "    \"\"\"\n",
    "    Smoothing is computed like in the following paper by Daniele Micci-Barreca\n",
    "    https://kaggle2.blob.core.windows.net/forum-message-attachments/225952/7441/high%20cardinality%20categoricals.pdf\n",
    "    trn_series : training categorical feature as a pd.Series\n",
    "    tst_series : test categorical feature as a pd.Series\n",
    "    target : target data as a pd.Series\n",
    "    min_samples_leaf (int) : minimum samples to take category average into account\n",
    "    smoothing (int) : smoothing effect to balance categorical average vs prior\n",
    "    \"\"\"\n",
    "    assert len(trn_series) == len(target)\n",
    "#     assert trn_series.name == tst_series.name\n",
    "    temp = pd.concat([trn_series, target], axis=1)\n",
    "    # Compute target mean\n",
    "    averages = temp.groupby(by=trn_series.name)[target.name].agg([\"mean\", \"count\"])\n",
    "    # Compute smoothing\n",
    "    smoothing = 1 / (1 + np.exp(-(averages[\"count\"] - min_samples_leaf) / smoothing))\n",
    "    # Apply average function to all target data\n",
    "    prior = target.mean()\n",
    "    # The bigger the count the less full_avg is taken into account\n",
    "    averages[target.name] = prior * (1 - smoothing) + averages[\"mean\"] * smoothing\n",
    "    averages.drop([\"mean\", \"count\"], axis=1, inplace=True)\n",
    "    # Apply averages to trn and tst series\n",
    "    ft_trn_series = pd.merge(\n",
    "        trn_series.to_frame(trn_series.name),\n",
    "        averages.reset_index().rename(columns={'index': target.name, target.name: 'average'}),\n",
    "        on=trn_series.name,\n",
    "        how='left')['average'].rename(trn_series.name + '_mean').fillna(prior)\n",
    "    # pd.merge does not keep the index so restore it\n",
    "    ft_trn_series.index = trn_series.index\n",
    "    ft_tst_series = pd.merge(\n",
    "        tst_series.to_frame(tst_series.name),\n",
    "        averages.reset_index().rename(columns={'index': target.name, target.name: 'average'}),\n",
    "        on=tst_series.name,\n",
    "        how='left')['average'].rename(trn_series.name + '_mean').fillna(prior)\n",
    "    # pd.merge does not keep the index so restore it\n",
    "    ft_tst_series.index = tst_series.index\n",
    "    return add_noise(ft_trn_series, noise_level), add_noise(ft_tst_series, noise_level)"
   ]
  },
  {
   "cell_type": "code",
   "execution_count": 717,
   "metadata": {},
   "outputs": [],
   "source": [
    "train = pd.DataFrame()\n",
    "test = pd.DataFrame()\n",
    "\n",
    "for col in col46:\n",
    "    trn, tst = target_encode(training[col], \n",
    "                         testing[col], \n",
    "                         target=y, \n",
    "                         min_samples_leaf=5,\n",
    "                         smoothing=10,\n",
    "                         noise_level=0.1)\n",
    "    train[col+'_cat_enc'] = trn\n",
    "    test[col+'_cat_enc'] = tst"
   ]
  },
  {
   "cell_type": "code",
   "execution_count": 718,
   "metadata": {},
   "outputs": [
    {
     "data": {
      "text/plain": [
       "(49342, 40)"
      ]
     },
     "execution_count": 718,
     "metadata": {},
     "output_type": "execute_result"
    }
   ],
   "source": [
    "test.shape"
   ]
  },
  {
   "cell_type": "code",
   "execution_count": null,
   "metadata": {},
   "outputs": [],
   "source": []
  },
  {
   "cell_type": "markdown",
   "metadata": {},
   "source": [
    "### tfidf"
   ]
  },
  {
   "cell_type": "code",
   "execution_count": 261,
   "metadata": {},
   "outputs": [],
   "source": [
    "df_agg4 = pd.DataFrame()\n",
    "df_agg4['all_numerical'] = df[col46].astype(str).apply(' '.join, axis=1)"
   ]
  },
  {
   "cell_type": "code",
   "execution_count": 262,
   "metadata": {},
   "outputs": [
    {
     "data": {
      "text/html": [
       "<div>\n",
       "<style scoped>\n",
       "    .dataframe tbody tr th:only-of-type {\n",
       "        vertical-align: middle;\n",
       "    }\n",
       "\n",
       "    .dataframe tbody tr th {\n",
       "        vertical-align: top;\n",
       "    }\n",
       "\n",
       "    .dataframe thead th {\n",
       "        text-align: right;\n",
       "    }\n",
       "</style>\n",
       "<table border=\"1\" class=\"dataframe\">\n",
       "  <thead>\n",
       "    <tr style=\"text-align: right;\">\n",
       "      <th></th>\n",
       "      <th>all_numerical</th>\n",
       "    </tr>\n",
       "    <tr>\n",
       "      <th>ID</th>\n",
       "      <th></th>\n",
       "    </tr>\n",
       "  </thead>\n",
       "  <tbody>\n",
       "    <tr>\n",
       "      <th>000d6aaf2</th>\n",
       "      <td>1866666.66 0.0 700000.0 0.0 0.0 0.0 0.0 0.0 40...</td>\n",
       "    </tr>\n",
       "    <tr>\n",
       "      <th>000fbd867</th>\n",
       "      <td>0.0 0.0 2225000.0 0.0 0.0 0.0 0.0 0.0 0.0 0.0 ...</td>\n",
       "    </tr>\n",
       "    <tr>\n",
       "      <th>0027d6b71</th>\n",
       "      <td>0.0 0.0 0.0 5500000.0 0.0 0.0 0.0 0.0 0.0 0.0 ...</td>\n",
       "    </tr>\n",
       "    <tr>\n",
       "      <th>0028cbf45</th>\n",
       "      <td>2000000.0 0.0 0.0 0.0 0.0 0.0 0.0 0.0 0.0 0.0 ...</td>\n",
       "    </tr>\n",
       "    <tr>\n",
       "      <th>002a68644</th>\n",
       "      <td>0.0 8000000.0 0.0 0.0 0.0 0.0 0.0 0.0 0.0 5400...</td>\n",
       "    </tr>\n",
       "  </tbody>\n",
       "</table>\n",
       "</div>"
      ],
      "text/plain": [
       "                                               all_numerical\n",
       "ID                                                          \n",
       "000d6aaf2  1866666.66 0.0 700000.0 0.0 0.0 0.0 0.0 0.0 40...\n",
       "000fbd867  0.0 0.0 2225000.0 0.0 0.0 0.0 0.0 0.0 0.0 0.0 ...\n",
       "0027d6b71  0.0 0.0 0.0 5500000.0 0.0 0.0 0.0 0.0 0.0 0.0 ...\n",
       "0028cbf45  2000000.0 0.0 0.0 0.0 0.0 0.0 0.0 0.0 0.0 0.0 ...\n",
       "002a68644  0.0 8000000.0 0.0 0.0 0.0 0.0 0.0 0.0 0.0 5400..."
      ]
     },
     "execution_count": 262,
     "metadata": {},
     "output_type": "execute_result"
    }
   ],
   "source": [
    "df_agg4.head()"
   ]
  },
  {
   "cell_type": "code",
   "execution_count": 318,
   "metadata": {},
   "outputs": [],
   "source": [
    "from sklearn.feature_extraction.text import CountVectorizer, TfidfVectorizer\n",
    "count_vectorizer = TfidfVectorizer(\n",
    "#                                         stop_words=stopwords.words('russian'), \n",
    "#                                         ngram_range=(1, 2),\n",
    "                                        min_df=1,\n",
    "                                        max_features=50000)"
   ]
  },
  {
   "cell_type": "code",
   "execution_count": 319,
   "metadata": {},
   "outputs": [
    {
     "name": "stderr",
     "output_type": "stream",
     "text": [
      "/home/xavierc/.local/lib/python3.5/site-packages/sklearn/feature_extraction/text.py:1089: FutureWarning: Conversion of the second argument of issubdtype from `float` to `np.floating` is deprecated. In future, it will be treated as `np.float64 == np.dtype(float).type`.\n",
      "  if hasattr(X, 'dtype') and np.issubdtype(X.dtype, np.float):\n"
     ]
    }
   ],
   "source": [
    "tfidf_counts = count_vectorizer.fit_transform(df_agg4['all_numerical'])"
   ]
  },
  {
   "cell_type": "code",
   "execution_count": 320,
   "metadata": {},
   "outputs": [
    {
     "data": {
      "text/plain": [
       "(53801, 20009)"
      ]
     },
     "execution_count": 320,
     "metadata": {},
     "output_type": "execute_result"
    }
   ],
   "source": [
    "tfidf_counts.shape"
   ]
  },
  {
   "cell_type": "code",
   "execution_count": 265,
   "metadata": {},
   "outputs": [],
   "source": [
    "# help(tfidf_counts)"
   ]
  },
  {
   "cell_type": "code",
   "execution_count": 266,
   "metadata": {},
   "outputs": [],
   "source": [
    "#### concatenate all 0 and all non values"
   ]
  },
  {
   "cell_type": "code",
   "execution_count": 267,
   "metadata": {},
   "outputs": [],
   "source": [
    "### trend from spciy"
   ]
  },
  {
   "cell_type": "code",
   "execution_count": 776,
   "metadata": {},
   "outputs": [
    {
     "data": {
      "text/plain": [
       "2000000.0"
      ]
     },
     "execution_count": 776,
     "metadata": {},
     "output_type": "execute_result"
    }
   ],
   "source": [
    "y_orig[3]"
   ]
  },
  {
   "cell_type": "code",
   "execution_count": 775,
   "metadata": {},
   "outputs": [
    {
     "name": "stdout",
     "output_type": "stream",
     "text": [
      "0\n",
      "0\n",
      "0\n",
      "3\n",
      "0\n",
      "2\n",
      "0\n",
      "0\n",
      "0\n",
      "0\n",
      "0\n",
      "0\n",
      "0\n",
      "3\n",
      "0\n",
      "0\n",
      "4\n",
      "1\n",
      "0\n",
      "4\n",
      "0\n",
      "0\n",
      "0\n",
      "0\n"
     ]
    }
   ],
   "source": [
    "for i in range(24):\n",
    "    toto = training.iloc[i,:]\n",
    "    tata = toto.iloc[toto.nonzero()].values==y_orig[i]\n",
    "    print(tata.sum())"
   ]
  },
  {
   "cell_type": "code",
   "execution_count": 786,
   "metadata": {},
   "outputs": [
    {
     "data": {
      "text/plain": [
       "array([False, False, False, False, False, False, False, False, False,\n",
       "       False, False, False, False, False, False, False, False, False,\n",
       "       False, False, False, False, False, False, False, False, False,\n",
       "       False, False, False, False, False, False, False, False, False,\n",
       "       False, False, False, False, False, False, False, False, False,\n",
       "       False, False, False, False, False, False, False, False, False,\n",
       "       False, False, False, False, False, False, False, False, False,\n",
       "       False, False, False, False, False, False, False, False, False,\n",
       "       False, False, False, False, False, False, False, False, False,\n",
       "       False, False, False, False, False, False, False, False, False,\n",
       "       False, False, False, False, False, False, False, False, False,\n",
       "       False, False, False, False, False, False, False, False, False,\n",
       "       False, False, False, False, False, False, False, False, False,\n",
       "       False, False, False, False, False, False, False, False, False,\n",
       "       False, False, False, False, False, False, False, False, False,\n",
       "       False, False, False, False, False, False, False, False, False,\n",
       "       False, False, False, False, False, False, False, False, False,\n",
       "       False, False, False, False, False, False, False, False, False,\n",
       "       False, False, False, False, False, False, False, False, False,\n",
       "       False, False, False, False, False, False, False, False, False,\n",
       "       False, False, False, False, False, False, False, False, False,\n",
       "       False, False, False, False, False, False, False, False, False,\n",
       "       False, False, False, False, False, False, False, False, False,\n",
       "       False, False, False, False, False, False, False, False, False,\n",
       "       False, False, False, False, False, False, False, False, False,\n",
       "       False, False, False, False, False, False, False, False, False,\n",
       "       False, False, False, False, False, False, False, False, False,\n",
       "       False, False, False, False, False, False, False, False, False,\n",
       "       False, False, False, False, False, False, False, False, False,\n",
       "       False, False, False, False, False, False, False, False, False,\n",
       "       False, False, False, False, False, False, False, False, False,\n",
       "       False, False, False, False, False, False, False, False, False,\n",
       "       False, False,  True, False, False, False, False, False, False,\n",
       "       False, False, False, False, False, False, False, False, False,\n",
       "       False, False, False, False, False, False, False, False, False,\n",
       "       False, False, False, False, False, False, False, False, False,\n",
       "       False, False, False, False, False, False, False, False, False,\n",
       "       False, False, False, False, False, False, False, False, False,\n",
       "       False, False, False, False, False, False, False, False, False,\n",
       "       False, False, False, False, False, False, False, False, False,\n",
       "       False, False, False, False, False, False, False, False, False,\n",
       "       False, False, False, False, False, False, False, False, False,\n",
       "       False, False, False, False, False, False, False, False, False,\n",
       "       False, False, False, False, False, False, False, False, False,\n",
       "       False, False, False, False, False, False, False, False, False,\n",
       "       False, False, False, False, False, False, False, False, False,\n",
       "       False, False, False, False, False, False, False, False, False,\n",
       "       False, False, False, False, False, False, False, False, False,\n",
       "       False, False, False, False, False, False, False, False, False,\n",
       "       False, False, False, False, False, False, False, False, False,\n",
       "       False, False, False, False, False, False, False, False, False,\n",
       "       False, False, False, False, False, False, False, False, False,\n",
       "       False, False, False, False, False, False, False, False, False,\n",
       "       False, False, False, False, False, False, False, False, False,\n",
       "       False, False, False, False, False, False, False, False, False,\n",
       "       False, False, False, False, False, False, False, False, False,\n",
       "       False, False, False, False, False, False, False, False, False,\n",
       "       False, False, False, False, False, False, False, False, False,\n",
       "       False, False, False, False, False, False, False, False, False,\n",
       "       False, False,  True, False, False, False, False, False, False,\n",
       "       False, False, False, False, False, False, False, False, False,\n",
       "       False, False, False, False, False, False, False, False, False,\n",
       "       False, False, False, False, False, False, False, False, False,\n",
       "       False, False, False, False, False, False, False, False, False,\n",
       "       False, False, False, False, False, False, False, False, False,\n",
       "       False, False, False, False, False, False, False, False, False,\n",
       "       False, False, False, False, False, False, False, False, False,\n",
       "       False, False, False, False, False, False, False, False, False,\n",
       "       False, False, False, False, False, False, False, False, False,\n",
       "       False, False, False, False, False, False, False, False, False,\n",
       "       False, False, False, False, False, False, False, False, False,\n",
       "       False, False, False, False, False, False, False, False, False,\n",
       "       False, False, False, False, False, False, False, False, False,\n",
       "       False, False, False, False, False, False, False, False, False,\n",
       "       False, False, False, False, False, False, False, False, False,\n",
       "       False, False, False, False, False, False, False, False, False,\n",
       "       False, False, False, False, False, False, False, False, False,\n",
       "       False, False, False, False, False, False, False, False, False,\n",
       "       False, False, False, False, False, False, False, False, False,\n",
       "       False, False, False, False, False, False, False, False, False,\n",
       "       False, False, False, False, False, False, False, False, False,\n",
       "       False, False, False, False, False, False, False, False, False,\n",
       "       False, False, False, False, False, False, False, False, False,\n",
       "       False, False, False, False, False, False, False, False, False,\n",
       "       False, False, False, False, False])"
      ]
     },
     "execution_count": 786,
     "metadata": {},
     "output_type": "execute_result"
    }
   ],
   "source": [
    "    toto = training.iloc[5,:]\n",
    "    toto.iloc[toto.nonzero()].values==y_orig[5]"
   ]
  },
  {
   "cell_type": "code",
   "execution_count": 789,
   "metadata": {},
   "outputs": [
    {
     "data": {
      "text/plain": [
       "((761,), 2800000.0)"
      ]
     },
     "execution_count": 789,
     "metadata": {},
     "output_type": "execute_result"
    }
   ],
   "source": [
    "toto.iloc[toto.nonzero()].values.shape,y_orig[5]"
   ]
  },
  {
   "cell_type": "code",
   "execution_count": 790,
   "metadata": {},
   "outputs": [
    {
     "data": {
      "text/plain": [
       "(array([243.,   6.,   4.,   0.,   0.,  33.,   1.,  32.,   1.,  64.,   0.,\n",
       "         34.,   0.,   0.,   0.,   0.,   0.,   0.,   0.,  32.,   0.,   0.,\n",
       "         32.,   0.,  32.,  32.,   0.,   0.,   0.,   0.,   0.,   0.,   0.,\n",
       "          0.,   1.,  32.,   0.,   0.,   0.,   0.,   0.,   0.,   0.,   0.,\n",
       "          0.,   0.,   0.,   2.,   0.,   0.,   0.,   2.,   0.,   0.,   0.,\n",
       "          0.,   0.,   0.,   0.,   0.,   0.,   0.,   0.,   0.,  32.,   0.,\n",
       "          0.,   5.,  64.,   0.,   0.,   0.,   0.,   0.,   0.,   0.,   0.,\n",
       "          0.,   0.,  32.,   0.,   0.,   0.,  32.,   0.,   0.,   0.,   2.,\n",
       "          0.,   0.,   0.,   0.,   0.,   0.,   0.,   0.,   0.,   0.,   0.,\n",
       "          0.,   0.,   0.,   0.,   0.,   0.,   0.,   0.,   0.,   0.,   0.,\n",
       "          0.,   0.,   0.,   0.,   0.,   0.,   0.,   0.,   0.,   0.,   0.,\n",
       "          2.,   0.,   0.,   0.,   0.,   0.,   0.,   0.,   0.,   0.,   0.,\n",
       "          0.,   0.,   0.,   0.,   0.,   2.,   0.,   0.,   0.,   0.,   0.,\n",
       "          0.,   0.,   0.,   0.,   0.,   0.,   0.,   0.,   0.,   0.,   0.,\n",
       "          0.,   2.,   0.,   0.,   0.,   0.,   0.,   0.,   0.,   0.,   0.,\n",
       "          0.,   0.,   0.,   0.,   0.,   0.,   0.,   0.,   0.,   0.,   1.,\n",
       "          0.,   0.,   0.,   0.,   0.,   0.,   0.,   0.,   0.,   0.,   0.,\n",
       "          0.,   0.,   0.,   0.,   0.,   0.,   0.,   0.,   0.,   0.,   0.,\n",
       "          0.,   0.,   0.,   0.,   0.,   0.,   0.,   0.,   0.,   0.,   0.,\n",
       "          0.,   0.,   0.,   0.,   0.,   0.,   0.,   0.,   0.,   0.,   0.,\n",
       "          0.,   0.,   0.,   0.,   0.,   0.,   0.,   0.,   0.,   0.,   0.,\n",
       "          0.,   0.,   0.,   0.,   0.,   0.,   0.,   0.,   0.,   0.,   0.,\n",
       "          0.,   0.,   0.,   0.,   0.,   0.,   0.,   0.,   0.,   0.,   0.,\n",
       "          0.,   0.,   0.,   0.,   0.,   0.,   0.,   0.,   0.,   0.,   0.,\n",
       "          0.,   0.,   0.,   0.,   0.,   0.,   0.,   0.,   0.,   0.,   0.,\n",
       "          0.,   0.,   0.,   0.,   0.,   0.,   0.,   0.,   0.,   0.,   0.,\n",
       "          0.,   0.,   0.,   0.,   0.,   0.,   0.,   0.,   0.,   0.,   0.,\n",
       "          0.,   0.,   0.,   0.,   0.,   0.,   0.,   0.,   0.,   0.,   0.,\n",
       "          0.,   0.,   0.,   0.,   0.,   0.,   0.,   0.,   0.,   0.,   0.,\n",
       "          0.,   0.,   0.,   0.,   0.,   0.,   0.,   0.,   0.,   0.,   0.,\n",
       "          0.,   0.,   0.,   0.,   0.,   0.,   0.,   0.,   0.,   0.,   0.,\n",
       "          0.,   0.,   0.,   0.,   0.,   0.,   0.,   0.,   0.,   0.,   0.,\n",
       "          0.,   0.,   0.,   0.,   0.,   0.,   0.,   0.,   0.,   0.,   0.,\n",
       "          0.,   0.,   0.,   0.,   0.,   0.,   0.,   0.,   0.,   0.,   0.,\n",
       "          0.,   0.,   0.,   0.,   0.,   0.,   0.,   0.,   0.,   0.,   0.,\n",
       "          0.,   0.,   0.,   0.,   0.,   0.,   0.,   0.,   0.,   0.,   0.,\n",
       "          0.,   0.,   0.,   2.,   0.,   0.,   0.,   0.,   0.,   0.,   0.,\n",
       "          0.,   0.,   0.,   0.,   0.,   0.,   0.,   0.,   0.,   0.,   0.,\n",
       "          0.,   0.,   0.,   0.,   0.,   0.,   0.,   0.,   0.,   0.,   0.,\n",
       "          0.,   0.,   0.,   0.,   0.,   0.,   0.,   0.,   0.,   0.,   0.,\n",
       "          0.,   0.,   0.,   0.,   0.,   0.,   0.,   0.,   0.,   0.,   0.,\n",
       "          0.,   0.,   0.,   0.,   0.,   0.,   0.,   0.,   0.,   0.,   0.,\n",
       "          0.,   0.,   0.,   0.,   0.,   0.,   0.,   0.,   0.,   0.,   0.,\n",
       "          0.,   0.,   0.,   0.,   0.,   0.,   0.,   0.,   0.,   0.,   0.,\n",
       "          0.,   0.,   0.,   0.,   0.,   0.,   0.,   0.,   0.,   0.,   0.,\n",
       "          0.,   0.,   0.,   0.,   0.,   0.,   0.,   0.,   0.,   0.,   0.,\n",
       "          0.,   0.,   0.,   0.,   0.,   0.,   0.,   0.,   0.,   0.,   0.,\n",
       "          0.,   0.,   0.,   0.,   0.,   0.,   0.,   0.,   0.,   0.,   0.,\n",
       "          0.,   0.,   0.,   0.,   0.,   0.,   0.,   0.,   0.,   0.,   0.,\n",
       "          0.,   0.,   0.,   0.,   0.,   0.,   0.,   0.,   0.,   0.,   0.,\n",
       "          0.,   0.,   0.,   0.,   0.,   0.,   0.,   0.,   0.,   0.,   0.,\n",
       "          0.,   0.,   0.,   0.,   0.,   0.,   0.,   0.,   0.,   0.,   0.,\n",
       "          0.,   0.,   0.,   0.,   0.,   0.,   0.,   0.,   0.,   0.,   0.,\n",
       "          0.,   0.,   0.,   0.,   0.,   0.,   0.,   0.,   0.,   0.,   0.,\n",
       "          0.,   0.,   0.,   0.,   0.,   0.,   0.,   0.,   0.,   0.,   0.,\n",
       "          0.,   0.,   0.,   0.,   0.,   0.,   0.,   0.,   0.,   0.,   0.,\n",
       "          0.,   0.,   0.,   0.,   0.,   0.,   0.,   0.,   0.,   0.,   0.,\n",
       "          0.,   0.,   0.,   0.,   0.,   0.,   0.,   0.,   0.,   0.,   0.,\n",
       "          0.,   0.,   0.,   0.,   0.,   0.,   0.,   0.,   0.,   0.,   0.,\n",
       "          0.,   0.,   0.,   0.,   0.,   0.,   0.,   0.,   0.,   0.,   0.,\n",
       "          0.,   0.,   0.,   0.,   0.,   0.,   0.,   0.,   0.,   0.,   0.,\n",
       "          0.,   0.,   0.,   0.,   0.,   0.,   0.,   0.,   0.,   0.,   0.,\n",
       "          0.,   0.,   0.,   0.,   0.,   0.,   0.,   0.,   0.,   0.,   0.,\n",
       "          0.,   0.,   0.,   0.,   0.,   0.,   0.,   0.,   0.,   0.,   0.,\n",
       "          0.,   0.,   0.,   0.,   0.,   0.,   0.,   0.,   0.,   0.,   0.,\n",
       "          0.,   0.,   0.,   0.,   0.,   0.,   0.,   0.,   0.,   0.,   0.,\n",
       "          0.,   0.,   0.,   0.,   0.,   0.,   0.,   0.,   0.,   0.,   0.,\n",
       "          0.,   0.,   0.,   0.,   0.,   0.,   0.,   0.,   0.,   0.,   0.,\n",
       "          0.,   0.,   0.,   0.,   0.,   0.,   0.,   0.,   0.,   0.,   0.,\n",
       "          0.,   0.,   0.,   0.,   0.,   0.,   0.,   0.,   0.,   0.,   0.,\n",
       "          0.,   0.,   0.,   0.,   0.,   0.,   0.,   0.,   0.,   0.,   0.,\n",
       "          0.,   0.,   0.,   0.,   0.,   0.,   0.,   0.,   0.,   0.,   0.,\n",
       "          0.,   0.,   0.,   0.,   0.,   0.,   0.,   2.]),\n",
       " array([4.00000000e+03, 2.53995000e+05, 5.03990000e+05, 7.53985000e+05,\n",
       "        1.00398000e+06, 1.25397500e+06, 1.50397000e+06, 1.75396500e+06,\n",
       "        2.00396000e+06, 2.25395500e+06, 2.50395000e+06, 2.75394500e+06,\n",
       "        3.00394000e+06, 3.25393500e+06, 3.50393000e+06, 3.75392500e+06,\n",
       "        4.00392000e+06, 4.25391500e+06, 4.50391000e+06, 4.75390500e+06,\n",
       "        5.00390000e+06, 5.25389500e+06, 5.50389000e+06, 5.75388500e+06,\n",
       "        6.00388000e+06, 6.25387500e+06, 6.50387000e+06, 6.75386500e+06,\n",
       "        7.00386000e+06, 7.25385500e+06, 7.50385000e+06, 7.75384500e+06,\n",
       "        8.00384000e+06, 8.25383500e+06, 8.50383000e+06, 8.75382500e+06,\n",
       "        9.00382000e+06, 9.25381500e+06, 9.50381000e+06, 9.75380500e+06,\n",
       "        1.00038000e+07, 1.02537950e+07, 1.05037900e+07, 1.07537850e+07,\n",
       "        1.10037800e+07, 1.12537750e+07, 1.15037700e+07, 1.17537650e+07,\n",
       "        1.20037600e+07, 1.22537550e+07, 1.25037500e+07, 1.27537450e+07,\n",
       "        1.30037400e+07, 1.32537350e+07, 1.35037300e+07, 1.37537250e+07,\n",
       "        1.40037200e+07, 1.42537150e+07, 1.45037100e+07, 1.47537050e+07,\n",
       "        1.50037000e+07, 1.52536950e+07, 1.55036900e+07, 1.57536850e+07,\n",
       "        1.60036800e+07, 1.62536750e+07, 1.65036700e+07, 1.67536650e+07,\n",
       "        1.70036600e+07, 1.72536550e+07, 1.75036500e+07, 1.77536450e+07,\n",
       "        1.80036400e+07, 1.82536350e+07, 1.85036300e+07, 1.87536250e+07,\n",
       "        1.90036200e+07, 1.92536150e+07, 1.95036100e+07, 1.97536050e+07,\n",
       "        2.00036000e+07, 2.02535950e+07, 2.05035900e+07, 2.07535850e+07,\n",
       "        2.10035800e+07, 2.12535750e+07, 2.15035700e+07, 2.17535650e+07,\n",
       "        2.20035600e+07, 2.22535550e+07, 2.25035500e+07, 2.27535450e+07,\n",
       "        2.30035400e+07, 2.32535350e+07, 2.35035300e+07, 2.37535250e+07,\n",
       "        2.40035200e+07, 2.42535150e+07, 2.45035100e+07, 2.47535050e+07,\n",
       "        2.50035000e+07, 2.52534950e+07, 2.55034900e+07, 2.57534850e+07,\n",
       "        2.60034800e+07, 2.62534750e+07, 2.65034700e+07, 2.67534650e+07,\n",
       "        2.70034600e+07, 2.72534550e+07, 2.75034500e+07, 2.77534450e+07,\n",
       "        2.80034400e+07, 2.82534350e+07, 2.85034300e+07, 2.87534250e+07,\n",
       "        2.90034200e+07, 2.92534150e+07, 2.95034100e+07, 2.97534050e+07,\n",
       "        3.00034000e+07, 3.02533950e+07, 3.05033900e+07, 3.07533850e+07,\n",
       "        3.10033800e+07, 3.12533750e+07, 3.15033700e+07, 3.17533650e+07,\n",
       "        3.20033600e+07, 3.22533550e+07, 3.25033500e+07, 3.27533450e+07,\n",
       "        3.30033400e+07, 3.32533350e+07, 3.35033300e+07, 3.37533250e+07,\n",
       "        3.40033200e+07, 3.42533150e+07, 3.45033100e+07, 3.47533050e+07,\n",
       "        3.50033000e+07, 3.52532950e+07, 3.55032900e+07, 3.57532850e+07,\n",
       "        3.60032800e+07, 3.62532750e+07, 3.65032700e+07, 3.67532650e+07,\n",
       "        3.70032600e+07, 3.72532550e+07, 3.75032500e+07, 3.77532450e+07,\n",
       "        3.80032400e+07, 3.82532350e+07, 3.85032300e+07, 3.87532250e+07,\n",
       "        3.90032200e+07, 3.92532150e+07, 3.95032100e+07, 3.97532050e+07,\n",
       "        4.00032000e+07, 4.02531950e+07, 4.05031900e+07, 4.07531850e+07,\n",
       "        4.10031800e+07, 4.12531750e+07, 4.15031700e+07, 4.17531650e+07,\n",
       "        4.20031600e+07, 4.22531550e+07, 4.25031500e+07, 4.27531450e+07,\n",
       "        4.30031400e+07, 4.32531350e+07, 4.35031300e+07, 4.37531250e+07,\n",
       "        4.40031200e+07, 4.42531150e+07, 4.45031100e+07, 4.47531050e+07,\n",
       "        4.50031000e+07, 4.52530950e+07, 4.55030900e+07, 4.57530850e+07,\n",
       "        4.60030800e+07, 4.62530750e+07, 4.65030700e+07, 4.67530650e+07,\n",
       "        4.70030600e+07, 4.72530550e+07, 4.75030500e+07, 4.77530450e+07,\n",
       "        4.80030400e+07, 4.82530350e+07, 4.85030300e+07, 4.87530250e+07,\n",
       "        4.90030200e+07, 4.92530150e+07, 4.95030100e+07, 4.97530050e+07,\n",
       "        5.00030000e+07, 5.02529950e+07, 5.05029900e+07, 5.07529850e+07,\n",
       "        5.10029800e+07, 5.12529750e+07, 5.15029700e+07, 5.17529650e+07,\n",
       "        5.20029600e+07, 5.22529550e+07, 5.25029500e+07, 5.27529450e+07,\n",
       "        5.30029400e+07, 5.32529350e+07, 5.35029300e+07, 5.37529250e+07,\n",
       "        5.40029200e+07, 5.42529150e+07, 5.45029100e+07, 5.47529050e+07,\n",
       "        5.50029000e+07, 5.52528950e+07, 5.55028900e+07, 5.57528850e+07,\n",
       "        5.60028800e+07, 5.62528750e+07, 5.65028700e+07, 5.67528650e+07,\n",
       "        5.70028600e+07, 5.72528550e+07, 5.75028500e+07, 5.77528450e+07,\n",
       "        5.80028400e+07, 5.82528350e+07, 5.85028300e+07, 5.87528250e+07,\n",
       "        5.90028200e+07, 5.92528150e+07, 5.95028100e+07, 5.97528050e+07,\n",
       "        6.00028000e+07, 6.02527950e+07, 6.05027900e+07, 6.07527850e+07,\n",
       "        6.10027800e+07, 6.12527750e+07, 6.15027700e+07, 6.17527650e+07,\n",
       "        6.20027600e+07, 6.22527550e+07, 6.25027500e+07, 6.27527450e+07,\n",
       "        6.30027400e+07, 6.32527350e+07, 6.35027300e+07, 6.37527250e+07,\n",
       "        6.40027200e+07, 6.42527150e+07, 6.45027100e+07, 6.47527050e+07,\n",
       "        6.50027000e+07, 6.52526950e+07, 6.55026900e+07, 6.57526850e+07,\n",
       "        6.60026800e+07, 6.62526750e+07, 6.65026700e+07, 6.67526650e+07,\n",
       "        6.70026600e+07, 6.72526550e+07, 6.75026500e+07, 6.77526450e+07,\n",
       "        6.80026400e+07, 6.82526350e+07, 6.85026300e+07, 6.87526250e+07,\n",
       "        6.90026200e+07, 6.92526150e+07, 6.95026100e+07, 6.97526050e+07,\n",
       "        7.00026000e+07, 7.02525950e+07, 7.05025900e+07, 7.07525850e+07,\n",
       "        7.10025800e+07, 7.12525750e+07, 7.15025700e+07, 7.17525650e+07,\n",
       "        7.20025600e+07, 7.22525550e+07, 7.25025500e+07, 7.27525450e+07,\n",
       "        7.30025400e+07, 7.32525350e+07, 7.35025300e+07, 7.37525250e+07,\n",
       "        7.40025200e+07, 7.42525150e+07, 7.45025100e+07, 7.47525050e+07,\n",
       "        7.50025000e+07, 7.52524950e+07, 7.55024900e+07, 7.57524850e+07,\n",
       "        7.60024800e+07, 7.62524750e+07, 7.65024700e+07, 7.67524650e+07,\n",
       "        7.70024600e+07, 7.72524550e+07, 7.75024500e+07, 7.77524450e+07,\n",
       "        7.80024400e+07, 7.82524350e+07, 7.85024300e+07, 7.87524250e+07,\n",
       "        7.90024200e+07, 7.92524150e+07, 7.95024100e+07, 7.97524050e+07,\n",
       "        8.00024000e+07, 8.02523950e+07, 8.05023900e+07, 8.07523850e+07,\n",
       "        8.10023800e+07, 8.12523750e+07, 8.15023700e+07, 8.17523650e+07,\n",
       "        8.20023600e+07, 8.22523550e+07, 8.25023500e+07, 8.27523450e+07,\n",
       "        8.30023400e+07, 8.32523350e+07, 8.35023300e+07, 8.37523250e+07,\n",
       "        8.40023200e+07, 8.42523150e+07, 8.45023100e+07, 8.47523050e+07,\n",
       "        8.50023000e+07, 8.52522950e+07, 8.55022900e+07, 8.57522850e+07,\n",
       "        8.60022800e+07, 8.62522750e+07, 8.65022700e+07, 8.67522650e+07,\n",
       "        8.70022600e+07, 8.72522550e+07, 8.75022500e+07, 8.77522450e+07,\n",
       "        8.80022400e+07, 8.82522350e+07, 8.85022300e+07, 8.87522250e+07,\n",
       "        8.90022200e+07, 8.92522150e+07, 8.95022100e+07, 8.97522050e+07,\n",
       "        9.00022000e+07, 9.02521950e+07, 9.05021900e+07, 9.07521850e+07,\n",
       "        9.10021800e+07, 9.12521750e+07, 9.15021700e+07, 9.17521650e+07,\n",
       "        9.20021600e+07, 9.22521550e+07, 9.25021500e+07, 9.27521450e+07,\n",
       "        9.30021400e+07, 9.32521350e+07, 9.35021300e+07, 9.37521250e+07,\n",
       "        9.40021200e+07, 9.42521150e+07, 9.45021100e+07, 9.47521050e+07,\n",
       "        9.50021000e+07, 9.52520950e+07, 9.55020900e+07, 9.57520850e+07,\n",
       "        9.60020800e+07, 9.62520750e+07, 9.65020700e+07, 9.67520650e+07,\n",
       "        9.70020600e+07, 9.72520550e+07, 9.75020500e+07, 9.77520450e+07,\n",
       "        9.80020400e+07, 9.82520350e+07, 9.85020300e+07, 9.87520250e+07,\n",
       "        9.90020200e+07, 9.92520150e+07, 9.95020100e+07, 9.97520050e+07,\n",
       "        1.00002000e+08, 1.00251995e+08, 1.00501990e+08, 1.00751985e+08,\n",
       "        1.01001980e+08, 1.01251975e+08, 1.01501970e+08, 1.01751965e+08,\n",
       "        1.02001960e+08, 1.02251955e+08, 1.02501950e+08, 1.02751945e+08,\n",
       "        1.03001940e+08, 1.03251935e+08, 1.03501930e+08, 1.03751925e+08,\n",
       "        1.04001920e+08, 1.04251915e+08, 1.04501910e+08, 1.04751905e+08,\n",
       "        1.05001900e+08, 1.05251895e+08, 1.05501890e+08, 1.05751885e+08,\n",
       "        1.06001880e+08, 1.06251875e+08, 1.06501870e+08, 1.06751865e+08,\n",
       "        1.07001860e+08, 1.07251855e+08, 1.07501850e+08, 1.07751845e+08,\n",
       "        1.08001840e+08, 1.08251835e+08, 1.08501830e+08, 1.08751825e+08,\n",
       "        1.09001820e+08, 1.09251815e+08, 1.09501810e+08, 1.09751805e+08,\n",
       "        1.10001800e+08, 1.10251795e+08, 1.10501790e+08, 1.10751785e+08,\n",
       "        1.11001780e+08, 1.11251775e+08, 1.11501770e+08, 1.11751765e+08,\n",
       "        1.12001760e+08, 1.12251755e+08, 1.12501750e+08, 1.12751745e+08,\n",
       "        1.13001740e+08, 1.13251735e+08, 1.13501730e+08, 1.13751725e+08,\n",
       "        1.14001720e+08, 1.14251715e+08, 1.14501710e+08, 1.14751705e+08,\n",
       "        1.15001700e+08, 1.15251695e+08, 1.15501690e+08, 1.15751685e+08,\n",
       "        1.16001680e+08, 1.16251675e+08, 1.16501670e+08, 1.16751665e+08,\n",
       "        1.17001660e+08, 1.17251655e+08, 1.17501650e+08, 1.17751645e+08,\n",
       "        1.18001640e+08, 1.18251635e+08, 1.18501630e+08, 1.18751625e+08,\n",
       "        1.19001620e+08, 1.19251615e+08, 1.19501610e+08, 1.19751605e+08,\n",
       "        1.20001600e+08, 1.20251595e+08, 1.20501590e+08, 1.20751585e+08,\n",
       "        1.21001580e+08, 1.21251575e+08, 1.21501570e+08, 1.21751565e+08,\n",
       "        1.22001560e+08, 1.22251555e+08, 1.22501550e+08, 1.22751545e+08,\n",
       "        1.23001540e+08, 1.23251535e+08, 1.23501530e+08, 1.23751525e+08,\n",
       "        1.24001520e+08, 1.24251515e+08, 1.24501510e+08, 1.24751505e+08,\n",
       "        1.25001500e+08, 1.25251495e+08, 1.25501490e+08, 1.25751485e+08,\n",
       "        1.26001480e+08, 1.26251475e+08, 1.26501470e+08, 1.26751465e+08,\n",
       "        1.27001460e+08, 1.27251455e+08, 1.27501450e+08, 1.27751445e+08,\n",
       "        1.28001440e+08, 1.28251435e+08, 1.28501430e+08, 1.28751425e+08,\n",
       "        1.29001420e+08, 1.29251415e+08, 1.29501410e+08, 1.29751405e+08,\n",
       "        1.30001400e+08, 1.30251395e+08, 1.30501390e+08, 1.30751385e+08,\n",
       "        1.31001380e+08, 1.31251375e+08, 1.31501370e+08, 1.31751365e+08,\n",
       "        1.32001360e+08, 1.32251355e+08, 1.32501350e+08, 1.32751345e+08,\n",
       "        1.33001340e+08, 1.33251335e+08, 1.33501330e+08, 1.33751325e+08,\n",
       "        1.34001320e+08, 1.34251315e+08, 1.34501310e+08, 1.34751305e+08,\n",
       "        1.35001300e+08, 1.35251295e+08, 1.35501290e+08, 1.35751285e+08,\n",
       "        1.36001280e+08, 1.36251275e+08, 1.36501270e+08, 1.36751265e+08,\n",
       "        1.37001260e+08, 1.37251255e+08, 1.37501250e+08, 1.37751245e+08,\n",
       "        1.38001240e+08, 1.38251235e+08, 1.38501230e+08, 1.38751225e+08,\n",
       "        1.39001220e+08, 1.39251215e+08, 1.39501210e+08, 1.39751205e+08,\n",
       "        1.40001200e+08, 1.40251195e+08, 1.40501190e+08, 1.40751185e+08,\n",
       "        1.41001180e+08, 1.41251175e+08, 1.41501170e+08, 1.41751165e+08,\n",
       "        1.42001160e+08, 1.42251155e+08, 1.42501150e+08, 1.42751145e+08,\n",
       "        1.43001140e+08, 1.43251135e+08, 1.43501130e+08, 1.43751125e+08,\n",
       "        1.44001120e+08, 1.44251115e+08, 1.44501110e+08, 1.44751105e+08,\n",
       "        1.45001100e+08, 1.45251095e+08, 1.45501090e+08, 1.45751085e+08,\n",
       "        1.46001080e+08, 1.46251075e+08, 1.46501070e+08, 1.46751065e+08,\n",
       "        1.47001060e+08, 1.47251055e+08, 1.47501050e+08, 1.47751045e+08,\n",
       "        1.48001040e+08, 1.48251035e+08, 1.48501030e+08, 1.48751025e+08,\n",
       "        1.49001020e+08, 1.49251015e+08, 1.49501010e+08, 1.49751005e+08,\n",
       "        1.50001000e+08, 1.50250995e+08, 1.50500990e+08, 1.50750985e+08,\n",
       "        1.51000980e+08, 1.51250975e+08, 1.51500970e+08, 1.51750965e+08,\n",
       "        1.52000960e+08, 1.52250955e+08, 1.52500950e+08, 1.52750945e+08,\n",
       "        1.53000940e+08, 1.53250935e+08, 1.53500930e+08, 1.53750925e+08,\n",
       "        1.54000920e+08, 1.54250915e+08, 1.54500910e+08, 1.54750905e+08,\n",
       "        1.55000900e+08, 1.55250895e+08, 1.55500890e+08, 1.55750885e+08,\n",
       "        1.56000880e+08, 1.56250875e+08, 1.56500870e+08, 1.56750865e+08,\n",
       "        1.57000860e+08, 1.57250855e+08, 1.57500850e+08, 1.57750845e+08,\n",
       "        1.58000840e+08, 1.58250835e+08, 1.58500830e+08, 1.58750825e+08,\n",
       "        1.59000820e+08, 1.59250815e+08, 1.59500810e+08, 1.59750805e+08,\n",
       "        1.60000800e+08, 1.60250795e+08, 1.60500790e+08, 1.60750785e+08,\n",
       "        1.61000780e+08, 1.61250775e+08, 1.61500770e+08, 1.61750765e+08,\n",
       "        1.62000760e+08, 1.62250755e+08, 1.62500750e+08, 1.62750745e+08,\n",
       "        1.63000740e+08, 1.63250735e+08, 1.63500730e+08, 1.63750725e+08,\n",
       "        1.64000720e+08, 1.64250715e+08, 1.64500710e+08, 1.64750705e+08,\n",
       "        1.65000700e+08, 1.65250695e+08, 1.65500690e+08, 1.65750685e+08,\n",
       "        1.66000680e+08, 1.66250675e+08, 1.66500670e+08, 1.66750665e+08,\n",
       "        1.67000660e+08, 1.67250655e+08, 1.67500650e+08, 1.67750645e+08,\n",
       "        1.68000640e+08, 1.68250635e+08, 1.68500630e+08, 1.68750625e+08,\n",
       "        1.69000620e+08, 1.69250615e+08, 1.69500610e+08, 1.69750605e+08,\n",
       "        1.70000600e+08, 1.70250595e+08, 1.70500590e+08, 1.70750585e+08,\n",
       "        1.71000580e+08, 1.71250575e+08, 1.71500570e+08, 1.71750565e+08,\n",
       "        1.72000560e+08, 1.72250555e+08, 1.72500550e+08, 1.72750545e+08,\n",
       "        1.73000540e+08, 1.73250535e+08, 1.73500530e+08, 1.73750525e+08,\n",
       "        1.74000520e+08, 1.74250515e+08, 1.74500510e+08, 1.74750505e+08,\n",
       "        1.75000500e+08, 1.75250495e+08, 1.75500490e+08, 1.75750485e+08,\n",
       "        1.76000480e+08, 1.76250475e+08, 1.76500470e+08, 1.76750465e+08,\n",
       "        1.77000460e+08, 1.77250455e+08, 1.77500450e+08, 1.77750445e+08,\n",
       "        1.78000440e+08, 1.78250435e+08, 1.78500430e+08, 1.78750425e+08,\n",
       "        1.79000420e+08, 1.79250415e+08, 1.79500410e+08, 1.79750405e+08,\n",
       "        1.80000400e+08, 1.80250395e+08, 1.80500390e+08, 1.80750385e+08,\n",
       "        1.81000380e+08, 1.81250375e+08, 1.81500370e+08, 1.81750365e+08,\n",
       "        1.82000360e+08, 1.82250355e+08, 1.82500350e+08, 1.82750345e+08,\n",
       "        1.83000340e+08, 1.83250335e+08, 1.83500330e+08, 1.83750325e+08,\n",
       "        1.84000320e+08, 1.84250315e+08, 1.84500310e+08, 1.84750305e+08,\n",
       "        1.85000300e+08, 1.85250295e+08, 1.85500290e+08, 1.85750285e+08,\n",
       "        1.86000280e+08, 1.86250275e+08, 1.86500270e+08, 1.86750265e+08,\n",
       "        1.87000260e+08, 1.87250255e+08, 1.87500250e+08, 1.87750245e+08,\n",
       "        1.88000240e+08, 1.88250235e+08, 1.88500230e+08, 1.88750225e+08,\n",
       "        1.89000220e+08, 1.89250215e+08, 1.89500210e+08, 1.89750205e+08,\n",
       "        1.90000200e+08, 1.90250195e+08, 1.90500190e+08, 1.90750185e+08,\n",
       "        1.91000180e+08, 1.91250175e+08, 1.91500170e+08, 1.91750165e+08,\n",
       "        1.92000160e+08, 1.92250155e+08, 1.92500150e+08, 1.92750145e+08,\n",
       "        1.93000140e+08, 1.93250135e+08, 1.93500130e+08, 1.93750125e+08,\n",
       "        1.94000120e+08, 1.94250115e+08, 1.94500110e+08, 1.94750105e+08,\n",
       "        1.95000100e+08, 1.95250095e+08, 1.95500090e+08, 1.95750085e+08,\n",
       "        1.96000080e+08, 1.96250075e+08, 1.96500070e+08, 1.96750065e+08,\n",
       "        1.97000060e+08, 1.97250055e+08, 1.97500050e+08, 1.97750045e+08,\n",
       "        1.98000040e+08, 1.98250035e+08, 1.98500030e+08, 1.98750025e+08,\n",
       "        1.99000020e+08, 1.99250015e+08, 1.99500010e+08, 1.99750005e+08,\n",
       "        2.00000000e+08]),\n",
       " <a list of 800 Patch objects>)"
      ]
     },
     "execution_count": 790,
     "metadata": {},
     "output_type": "execute_result"
    },
    {
     "data": {
      "image/png": "[encoded data removed]",
      "text/plain": [
       "<Figure size 432x288 with 1 Axes>"
      ]
     },
     "metadata": {},
     "output_type": "display_data"
    }
   ],
   "source": [
    "plt.hist(toto.iloc[toto.nonzero()].values, bins = 800)"
   ]
  },
  {
   "cell_type": "code",
   "execution_count": null,
   "metadata": {},
   "outputs": [],
   "source": []
  },
  {
   "cell_type": "code",
   "execution_count": null,
   "metadata": {},
   "outputs": [],
   "source": []
  },
  {
   "cell_type": "code",
   "execution_count": 243,
   "metadata": {},
   "outputs": [
    {
     "data": {
      "text/html": [
       "<div>\n",
       "<style scoped>\n",
       "    .dataframe tbody tr th:only-of-type {\n",
       "        vertical-align: middle;\n",
       "    }\n",
       "\n",
       "    .dataframe tbody tr th {\n",
       "        vertical-align: top;\n",
       "    }\n",
       "\n",
       "    .dataframe thead th {\n",
       "        text-align: right;\n",
       "    }\n",
       "</style>\n",
       "<table border=\"1\" class=\"dataframe\">\n",
       "  <thead>\n",
       "    <tr style=\"text-align: right;\">\n",
       "      <th></th>\n",
       "      <th>48df886f9</th>\n",
       "      <th>0deb4b6a8</th>\n",
       "      <th>34b15f335</th>\n",
       "      <th>a8cb14b00</th>\n",
       "      <th>2f0771a37</th>\n",
       "      <th>30347e683</th>\n",
       "      <th>d08d1fbe3</th>\n",
       "      <th>6ee66e115</th>\n",
       "      <th>20aa07010</th>\n",
       "      <th>dc5a8f1d8</th>\n",
       "      <th>...</th>\n",
       "      <th>3ecc09859</th>\n",
       "      <th>9281abeea</th>\n",
       "      <th>8675bec0b</th>\n",
       "      <th>3a13ed79a</th>\n",
       "      <th>f677d4d13</th>\n",
       "      <th>71b203550</th>\n",
       "      <th>137efaa80</th>\n",
       "      <th>fb36b89d9</th>\n",
       "      <th>7e293fbaf</th>\n",
       "      <th>9fc776466</th>\n",
       "    </tr>\n",
       "    <tr>\n",
       "      <th>ID</th>\n",
       "      <th></th>\n",
       "      <th></th>\n",
       "      <th></th>\n",
       "      <th></th>\n",
       "      <th></th>\n",
       "      <th></th>\n",
       "      <th></th>\n",
       "      <th></th>\n",
       "      <th></th>\n",
       "      <th></th>\n",
       "      <th></th>\n",
       "      <th></th>\n",
       "      <th></th>\n",
       "      <th></th>\n",
       "      <th></th>\n",
       "      <th></th>\n",
       "      <th></th>\n",
       "      <th></th>\n",
       "      <th></th>\n",
       "      <th></th>\n",
       "      <th></th>\n",
       "    </tr>\n",
       "  </thead>\n",
       "  <tbody>\n",
       "    <tr>\n",
       "      <th>000d6aaf2</th>\n",
       "      <td>0.0</td>\n",
       "      <td>0.0</td>\n",
       "      <td>0.0</td>\n",
       "      <td>0.0</td>\n",
       "      <td>0.0</td>\n",
       "      <td>0.0</td>\n",
       "      <td>0.0</td>\n",
       "      <td>0.0</td>\n",
       "      <td>0.0</td>\n",
       "      <td>0.0</td>\n",
       "      <td>...</td>\n",
       "      <td>0.0</td>\n",
       "      <td>0.0</td>\n",
       "      <td>0.0</td>\n",
       "      <td>0.0</td>\n",
       "      <td>0.0</td>\n",
       "      <td>0.0</td>\n",
       "      <td>0.0</td>\n",
       "      <td>0.0</td>\n",
       "      <td>0.0</td>\n",
       "      <td>0.0</td>\n",
       "    </tr>\n",
       "    <tr>\n",
       "      <th>000fbd867</th>\n",
       "      <td>0.0</td>\n",
       "      <td>0.0</td>\n",
       "      <td>0.0</td>\n",
       "      <td>0.0</td>\n",
       "      <td>0.0</td>\n",
       "      <td>0.0</td>\n",
       "      <td>0.0</td>\n",
       "      <td>0.0</td>\n",
       "      <td>2200000.0</td>\n",
       "      <td>0.0</td>\n",
       "      <td>...</td>\n",
       "      <td>0.0</td>\n",
       "      <td>0.0</td>\n",
       "      <td>0.0</td>\n",
       "      <td>0.0</td>\n",
       "      <td>0.0</td>\n",
       "      <td>0.0</td>\n",
       "      <td>0.0</td>\n",
       "      <td>0.0</td>\n",
       "      <td>0.0</td>\n",
       "      <td>0.0</td>\n",
       "    </tr>\n",
       "    <tr>\n",
       "      <th>0027d6b71</th>\n",
       "      <td>0.0</td>\n",
       "      <td>0.0</td>\n",
       "      <td>0.0</td>\n",
       "      <td>0.0</td>\n",
       "      <td>0.0</td>\n",
       "      <td>0.0</td>\n",
       "      <td>0.0</td>\n",
       "      <td>0.0</td>\n",
       "      <td>0.0</td>\n",
       "      <td>0.0</td>\n",
       "      <td>...</td>\n",
       "      <td>0.0</td>\n",
       "      <td>0.0</td>\n",
       "      <td>0.0</td>\n",
       "      <td>0.0</td>\n",
       "      <td>0.0</td>\n",
       "      <td>0.0</td>\n",
       "      <td>0.0</td>\n",
       "      <td>0.0</td>\n",
       "      <td>0.0</td>\n",
       "      <td>0.0</td>\n",
       "    </tr>\n",
       "    <tr>\n",
       "      <th>0028cbf45</th>\n",
       "      <td>0.0</td>\n",
       "      <td>0.0</td>\n",
       "      <td>0.0</td>\n",
       "      <td>0.0</td>\n",
       "      <td>0.0</td>\n",
       "      <td>0.0</td>\n",
       "      <td>0.0</td>\n",
       "      <td>0.0</td>\n",
       "      <td>0.0</td>\n",
       "      <td>0.0</td>\n",
       "      <td>...</td>\n",
       "      <td>0.0</td>\n",
       "      <td>0.0</td>\n",
       "      <td>0.0</td>\n",
       "      <td>0.0</td>\n",
       "      <td>0.0</td>\n",
       "      <td>0.0</td>\n",
       "      <td>0.0</td>\n",
       "      <td>0.0</td>\n",
       "      <td>0.0</td>\n",
       "      <td>0.0</td>\n",
       "    </tr>\n",
       "    <tr>\n",
       "      <th>002a68644</th>\n",
       "      <td>0.0</td>\n",
       "      <td>0.0</td>\n",
       "      <td>0.0</td>\n",
       "      <td>0.0</td>\n",
       "      <td>0.0</td>\n",
       "      <td>0.0</td>\n",
       "      <td>0.0</td>\n",
       "      <td>0.0</td>\n",
       "      <td>2000000.0</td>\n",
       "      <td>0.0</td>\n",
       "      <td>...</td>\n",
       "      <td>0.0</td>\n",
       "      <td>0.0</td>\n",
       "      <td>0.0</td>\n",
       "      <td>0.0</td>\n",
       "      <td>0.0</td>\n",
       "      <td>0.0</td>\n",
       "      <td>0.0</td>\n",
       "      <td>0.0</td>\n",
       "      <td>0.0</td>\n",
       "      <td>0.0</td>\n",
       "    </tr>\n",
       "  </tbody>\n",
       "</table>\n",
       "<p>5 rows × 4991 columns</p>\n",
       "</div>"
      ],
      "text/plain": [
       "           48df886f9  0deb4b6a8  34b15f335  a8cb14b00  2f0771a37  30347e683  \\\n",
       "ID                                                                            \n",
       "000d6aaf2        0.0        0.0        0.0        0.0        0.0        0.0   \n",
       "000fbd867        0.0        0.0        0.0        0.0        0.0        0.0   \n",
       "0027d6b71        0.0        0.0        0.0        0.0        0.0        0.0   \n",
       "0028cbf45        0.0        0.0        0.0        0.0        0.0        0.0   \n",
       "002a68644        0.0        0.0        0.0        0.0        0.0        0.0   \n",
       "\n",
       "           d08d1fbe3  6ee66e115  20aa07010  dc5a8f1d8    ...      3ecc09859  \\\n",
       "ID                                                       ...                  \n",
       "000d6aaf2        0.0        0.0        0.0        0.0    ...            0.0   \n",
       "000fbd867        0.0        0.0  2200000.0        0.0    ...            0.0   \n",
       "0027d6b71        0.0        0.0        0.0        0.0    ...            0.0   \n",
       "0028cbf45        0.0        0.0        0.0        0.0    ...            0.0   \n",
       "002a68644        0.0        0.0  2000000.0        0.0    ...            0.0   \n",
       "\n",
       "           9281abeea  8675bec0b  3a13ed79a  f677d4d13  71b203550  137efaa80  \\\n",
       "ID                                                                            \n",
       "000d6aaf2        0.0        0.0        0.0        0.0        0.0        0.0   \n",
       "000fbd867        0.0        0.0        0.0        0.0        0.0        0.0   \n",
       "0027d6b71        0.0        0.0        0.0        0.0        0.0        0.0   \n",
       "0028cbf45        0.0        0.0        0.0        0.0        0.0        0.0   \n",
       "002a68644        0.0        0.0        0.0        0.0        0.0        0.0   \n",
       "\n",
       "           fb36b89d9  7e293fbaf  9fc776466  \n",
       "ID                                          \n",
       "000d6aaf2        0.0        0.0        0.0  \n",
       "000fbd867        0.0        0.0        0.0  \n",
       "0027d6b71        0.0        0.0        0.0  \n",
       "0028cbf45        0.0        0.0        0.0  \n",
       "002a68644        0.0        0.0        0.0  \n",
       "\n",
       "[5 rows x 4991 columns]"
      ]
     },
     "execution_count": 243,
     "metadata": {},
     "output_type": "execute_result"
    }
   ],
   "source": [
    "df.head()"
   ]
  },
  {
   "cell_type": "code",
   "execution_count": 357,
   "metadata": {},
   "outputs": [],
   "source": [
    "### decompose the index\n",
    "dfindex = pd.DataFrame()\n",
    "dfindex['D'] = df.index\n",
    "# dfindex.sort_values(\"D\", inplace=True)\n",
    "dfindex = dfindex['D'].str.extract('([A-Za-z\\d])([A-Za-z\\d])([A-Za-z\\d])([A-Za-z\\d])([A-Za-z\\d])([A-Za-z\\d])([A-Za-z\\d])([A-Za-z\\d])([A-Za-z\\d])', expand = True)\n",
    "dfindex.columns = ['D_'+str(i) for i in range(9)]\n",
    "dfindex.index = df.index"
   ]
  },
  {
   "cell_type": "code",
   "execution_count": 358,
   "metadata": {},
   "outputs": [
    {
     "name": "stdout",
     "output_type": "stream",
     "text": [
      "D_0\n",
      "D_1\n",
      "D_2\n",
      "D_3\n",
      "D_4\n",
      "D_5\n",
      "D_6\n",
      "D_7\n",
      "D_8\n"
     ]
    }
   ],
   "source": [
    "from sklearn.preprocessing import LabelEncoder\n",
    "\n",
    "for feature in list(dfindex.columns):\n",
    "    print(feature)\n",
    "#     print(f'Transforming {feature}...')\n",
    "    encoder = LabelEncoder()\n",
    "\n",
    "    dfindex[feature] = encoder.fit_transform(dfindex[feature].astype(str))\n",
    "\n",
    "#     dic = dict(zip(encoder.classes_, encoder.transform(encoder.classes_)))\n",
    "\n",
    "# #     print(dic['nan'])\n",
    "\n",
    "#     dic['nan']=-999\n",
    "\n",
    "#     test[feature+\"_le\"]=test[feature].astype(str).map(dic).fillna(-999)"
   ]
  },
  {
   "cell_type": "code",
   "execution_count": 359,
   "metadata": {},
   "outputs": [],
   "source": [
    "# dfindex = dfindex[['D_7', 'D_8']]"
   ]
  },
  {
   "cell_type": "code",
   "execution_count": null,
   "metadata": {},
   "outputs": [],
   "source": []
  },
  {
   "cell_type": "code",
   "execution_count": null,
   "metadata": {},
   "outputs": [],
   "source": []
  },
  {
   "cell_type": "code",
   "execution_count": null,
   "metadata": {},
   "outputs": [],
   "source": []
  },
  {
   "cell_type": "code",
   "execution_count": null,
   "metadata": {},
   "outputs": [],
   "source": []
  },
  {
   "cell_type": "code",
   "execution_count": null,
   "metadata": {},
   "outputs": [],
   "source": []
  },
  {
   "cell_type": "markdown",
   "metadata": {},
   "source": [
    "### decompositions"
   ]
  },
  {
   "cell_type": "code",
   "execution_count": 73,
   "metadata": {},
   "outputs": [
    {
     "name": "stdout",
     "output_type": "stream",
     "text": [
      "tSVD\n",
      "Append decomposition components to datasets...\n"
     ]
    }
   ],
   "source": [
    "# PERC_TRESHOLD = 0.98   ### Percentage of zeros in each feature ###\n",
    "# N_COMP = 100            ### Number of decomposition components ###\n",
    "\n",
    "# # print(\"\\nStart decomposition process...\")\n",
    "# # print(\"PCA\")\n",
    "# # pca = PCA(n_components=N_COMP, random_state=17)\n",
    "# # pca_results_train = pca.fit_transform(df[orig_cols])\n",
    "# # # pca_results_test = pca.transform(X_test)\n",
    "# # # print(pca.explained_variance_ratio_)\n",
    "\n",
    "# # print(\"Append decomposition components to datasets...\")\n",
    "# # for i in range(1, N_COMP + 1):\n",
    "# #     df['pca_' + str(i)] = pca_results_train[:, i - 1]\n",
    "\n",
    "# print(\"tSVD\")\n",
    "# tsvd = TruncatedSVD(n_components=N_COMP, random_state=17)\n",
    "# tsvd_results_train = tsvd.fit_transform(df[orig_cols])\n",
    "# # tsvd_results_test = tsvd.transform(X_test)\n",
    "\n",
    "# print(\"Append decomposition components to datasets...\")\n",
    "# for i in range(1, N_COMP + 1):\n",
    "#     df['tsvd_' + str(i)] = tsvd_results_train[:, i - 1]\n",
    "\n",
    "# # print(\"ICA\")\n",
    "# # ica = FastICA(n_components=N_COMP, random_state=17)\n",
    "# # ica_results_train = ica.fit_transform(X_train)\n",
    "# # ica_results_test = ica.transform(X_test)\n",
    "\n",
    "# # print(\"GRP\")\n",
    "# # grp = GaussianRandomProjection(n_components=N_COMP, eps=0.1, random_state=17)\n",
    "# # grp_results_train = grp.fit_transform(X_train)\n",
    "# # grp_results_test = grp.transform(X_test)\n",
    "\n",
    "# # N_COMP = 50\n",
    "\n",
    "# # print(\"SRP\")\n",
    "# # srp = SparseRandomProjection(n_components=N_COMP, dense_output=True, random_state=17)\n",
    "# # srp_results_train = srp.fit_transform(df)\n",
    "# # # srp_results_test = srp.transform(X_test)\n",
    "\n",
    "# # print(\"Append decomposition components to datasets...\")\n",
    "# # for i in range(1, N_COMP + 1):\n",
    "# #     df['srp_' + str(i)] = srp_results_train[:, i - 1]\n",
    "\n",
    "\n",
    "\n",
    "# # print(\"Append decomposition components to datasets...\")\n",
    "# # for i in range(1, N_COMP + 1):\n",
    "# #     X_train['pca_' + str(i)] = pca_results_train[:, i - 1]\n",
    "# #     X_test['pca_' + str(i)] = pca_results_test[:, i - 1]\n",
    "    \n",
    "# #     X_train['ica_' + str(i)] = ica_results_train[:, i - 1]\n",
    "# #     X_test['ica_' + str(i)] = ica_results_test[:, i - 1]\n",
    "\n",
    "# #     X_train['tsvd_' + str(i)] = tsvd_results_train[:, i - 1]\n",
    "# #     X_test['tsvd_' + str(i)] = tsvd_results_test[:, i - 1]\n",
    "\n",
    "# #     X_train['grp_' + str(i)] = grp_results_train[:, i - 1]\n",
    "# #     X_test['grp_' + str(i)] = grp_results_test[:, i - 1]\n",
    "\n",
    "# #     X_train['srp_' + str(i)] = srp_results_train[:, i - 1]\n",
    "# #     X_test['srp_' + str(i)] = srp_results_test[:, i - 1]"
   ]
  },
  {
   "cell_type": "code",
   "execution_count": null,
   "metadata": {},
   "outputs": [],
   "source": []
  },
  {
   "cell_type": "code",
   "execution_count": 245,
   "metadata": {},
   "outputs": [
    {
     "data": {
      "text/plain": [
       "(53801, 4991)"
      ]
     },
     "execution_count": 245,
     "metadata": {},
     "output_type": "execute_result"
    }
   ],
   "source": [
    "df.shape"
   ]
  },
  {
   "cell_type": "code",
   "execution_count": null,
   "metadata": {},
   "outputs": [],
   "source": []
  },
  {
   "cell_type": "code",
   "execution_count": 75,
   "metadata": {},
   "outputs": [],
   "source": [
    "# from sklearn.cluster import DBSCAN\n",
    "# from sklearn import metrics\n",
    "# from sklearn.preprocessing import StandardScaler\n",
    "\n",
    "# X = StandardScaler().fit_transform(df[orig_cols])\n",
    "\n",
    "# # Compute DBSCAN\n",
    "# db = DBSCAN(eps=0.3, min_samples=10, n_jobs=-1).fit(X)\n",
    "# core_samples_mask = np.zeros_like(db.labels_, dtype=bool)\n",
    "# core_samples_mask[db.core_sample_indices_] = True\n",
    "# labels = db.labels_"
   ]
  },
  {
   "cell_type": "code",
   "execution_count": 76,
   "metadata": {},
   "outputs": [],
   "source": [
    "# len(set(labels))"
   ]
  },
  {
   "cell_type": "code",
   "execution_count": 77,
   "metadata": {},
   "outputs": [],
   "source": [
    "# # Number of clusters in labels, ignoring noise if present.\n",
    "# n_clusters_ = len(set(labels)) - (1 if -1 in labels else 0)\n",
    "\n",
    "# print('Estimated number of clusters: %d' % n_clusters_)\n",
    "# # print(\"Homogeneity: %0.3f\" % metrics.homogeneity_score(labels_true, labels))\n",
    "# # print(\"Completeness: %0.3f\" % metrics.completeness_score(labels_true, labels))\n",
    "# # print(\"V-measure: %0.3f\" % metrics.v_measure_score(labels_true, labels))\n",
    "# # print(\"Adjusted Rand Index: %0.3f\"\n",
    "# #       % metrics.adjusted_rand_score(labels_true, labels))\n",
    "# # print(\"Adjusted Mutual Information: %0.3f\"\n",
    "# #       % metrics.adjusted_mutual_info_score(labels_true, labels))\n",
    "# print(\"Silhouette Coefficient: %0.3f\"\n",
    "#       % metrics.silhouette_score(X, labels))"
   ]
  },
  {
   "cell_type": "code",
   "execution_count": null,
   "metadata": {},
   "outputs": [],
   "source": []
  },
  {
   "cell_type": "code",
   "execution_count": null,
   "metadata": {},
   "outputs": [],
   "source": []
  },
  {
   "cell_type": "code",
   "execution_count": null,
   "metadata": {},
   "outputs": [],
   "source": []
  },
  {
   "cell_type": "code",
   "execution_count": null,
   "metadata": {},
   "outputs": [],
   "source": []
  },
  {
   "cell_type": "markdown",
   "metadata": {
    "heading_collapsed": true
   },
   "source": [
    "### find potential categorical variables"
   ]
  },
  {
   "cell_type": "code",
   "execution_count": null,
   "metadata": {
    "hidden": true
   },
   "outputs": [],
   "source": []
  },
  {
   "cell_type": "code",
   "execution_count": null,
   "metadata": {
    "hidden": true
   },
   "outputs": [],
   "source": []
  },
  {
   "cell_type": "code",
   "execution_count": null,
   "metadata": {
    "hidden": true
   },
   "outputs": [],
   "source": []
  },
  {
   "cell_type": "markdown",
   "metadata": {
    "heading_collapsed": true
   },
   "source": [
    "## cleanup  #0 colomns "
   ]
  },
  {
   "cell_type": "code",
   "execution_count": 78,
   "metadata": {
    "hidden": true
   },
   "outputs": [
    {
     "name": "stdout",
     "output_type": "stream",
     "text": [
      ">> Removed 256 constant columns\n",
      ">> Dropped 5 duplicate columns\n"
     ]
    }
   ],
   "source": [
    "# Columns to drop because there is no variation in training set\n",
    "zero_std_cols = training.columns[training.std() == 0]\n",
    "training.drop(zero_std_cols, axis=1, inplace=True)\n",
    "df.drop(zero_std_cols, axis=1, inplace=True)\n",
    "print(\">> Removed {} constant columns\".format(len(zero_std_cols)))\n",
    "\n",
    "# Removing duplicate columns\n",
    "# Taken from: https://www.kaggle.com/scirpus/santander-poor-mans-tsne\n",
    "colsToRemove = []\n",
    "colsScaned = []\n",
    "dupList = {}\n",
    "columns = training.columns\n",
    "for i in range(len(columns)-1):\n",
    "    v = training[columns[i]].values\n",
    "    dupCols = []\n",
    "    for j in range(i+1,len(columns)):\n",
    "        if np.array_equal(v, training[columns[j]].values):\n",
    "            colsToRemove.append(columns[j])\n",
    "            if columns[j] not in colsScaned:\n",
    "                dupCols.append(columns[j]) \n",
    "                colsScaned.append(columns[j])\n",
    "                dupList[columns[i]] = dupCols\n",
    "colsToRemove = list(set(colsToRemove))\n",
    "\n",
    "print(\">> Dropped {} duplicate columns\".format(len(colsToRemove)))"
   ]
  },
  {
   "cell_type": "code",
   "execution_count": 79,
   "metadata": {
    "hidden": true
   },
   "outputs": [],
   "source": [
    "training.drop(colsToRemove, axis=1, inplace=True)\n",
    "df.drop(colsToRemove, axis=1, inplace=True)"
   ]
  },
  {
   "cell_type": "code",
   "execution_count": 80,
   "metadata": {
    "hidden": true
   },
   "outputs": [
    {
     "data": {
      "text/plain": [
       "['912836770', 'f8d75792f', 'acc5b709d', 'd60ddde1b', 'f333a5f60']"
      ]
     },
     "execution_count": 80,
     "metadata": {},
     "output_type": "execute_result"
    }
   ],
   "source": [
    "colsToRemove"
   ]
  },
  {
   "cell_type": "code",
   "execution_count": 82,
   "metadata": {
    "hidden": true
   },
   "outputs": [],
   "source": [
    "df.to_pickle('/media/disk2/dataset-kaggle/santander3/df003.pickle')"
   ]
  },
  {
   "cell_type": "code",
   "execution_count": 83,
   "metadata": {
    "hidden": true
   },
   "outputs": [],
   "source": [
    "# df = pd.read_csv('/media/disk2/dataset-kaggle/santander3/df001.csv')"
   ]
  },
  {
   "cell_type": "code",
   "execution_count": 305,
   "metadata": {
    "hidden": true
   },
   "outputs": [],
   "source": [
    "df_cat = df[col46]"
   ]
  },
  {
   "cell_type": "code",
   "execution_count": 306,
   "metadata": {
    "hidden": true
   },
   "outputs": [],
   "source": [
    "df_cat.columns = [i+str('_cat') for i in col46]"
   ]
  },
  {
   "cell_type": "code",
   "execution_count": null,
   "metadata": {
    "hidden": true
   },
   "outputs": [],
   "source": []
  },
  {
   "cell_type": "code",
   "execution_count": null,
   "metadata": {
    "hidden": true
   },
   "outputs": [],
   "source": []
  },
  {
   "cell_type": "code",
   "execution_count": null,
   "metadata": {
    "hidden": true
   },
   "outputs": [],
   "source": []
  },
  {
   "cell_type": "markdown",
   "metadata": {
    "_uuid": "5a7c25462528493a447219728b03bcfb2cdf41bd"
   },
   "source": [
    "## Modeling Stage"
   ]
  },
  {
   "cell_type": "code",
   "execution_count": 719,
   "metadata": {},
   "outputs": [
    {
     "data": {
      "text/plain": [
       "100"
      ]
     },
     "execution_count": 719,
     "metadata": {},
     "output_type": "execute_result"
    }
   ],
   "source": [
    "len(['tdidf'+str(i) for i in range(100)])"
   ]
  },
  {
   "cell_type": "code",
   "execution_count": 720,
   "metadata": {},
   "outputs": [],
   "source": [
    "# X_train = df.loc[traindex,:]\n",
    "# X_test = df.loc[testdex,:]"
   ]
  },
  {
   "cell_type": "code",
   "execution_count": 721,
   "metadata": {},
   "outputs": [
    {
     "data": {
      "text/plain": [
       "(4459,)"
      ]
     },
     "execution_count": 721,
     "metadata": {},
     "output_type": "execute_result"
    }
   ],
   "source": [
    "traindex.shape"
   ]
  },
  {
   "cell_type": "code",
   "execution_count": 13,
   "metadata": {},
   "outputs": [
    {
     "ename": "NameError",
     "evalue": "name 'df_agg1' is not defined",
     "output_type": "error",
     "traceback": [
      "\u001b[0;31m---------------------------------------------------------------------------\u001b[0m",
      "\u001b[0;31mNameError\u001b[0m                                 Traceback (most recent call last)",
      "\u001b[0;32m<ipython-input-13-a3be6f52e65f>\u001b[0m in \u001b[0;36m<module>\u001b[0;34m()\u001b[0m\n\u001b[1;32m      4\u001b[0m \u001b[0;31m#     list(drift_col),\u001b[0m\u001b[0;34m\u001b[0m\u001b[0;34m\u001b[0m\u001b[0m\n\u001b[1;32m      5\u001b[0m \u001b[0;31m#     list(train.columns),\u001b[0m\u001b[0;34m\u001b[0m\u001b[0;34m\u001b[0m\u001b[0m\n\u001b[0;32m----> 6\u001b[0;31m     \u001b[0mlist\u001b[0m\u001b[0;34m(\u001b[0m\u001b[0mdf_agg1\u001b[0m\u001b[0;34m.\u001b[0m\u001b[0mcolumns\u001b[0m\u001b[0;34m)\u001b[0m\u001b[0;34m,\u001b[0m\u001b[0;34m\u001b[0m\u001b[0m\n\u001b[0m\u001b[1;32m      7\u001b[0m     \u001b[0mlist\u001b[0m\u001b[0;34m(\u001b[0m\u001b[0mdf_agg2\u001b[0m\u001b[0;34m.\u001b[0m\u001b[0mcolumns\u001b[0m\u001b[0;34m)\u001b[0m\u001b[0;34m,\u001b[0m\u001b[0;34m\u001b[0m\u001b[0m\n\u001b[1;32m      8\u001b[0m \u001b[0;31m#     ['tdidf'+str(i) for i in range(tfidf_counts.shape[1])],\u001b[0m\u001b[0;34m\u001b[0m\u001b[0;34m\u001b[0m\u001b[0m\n",
      "\u001b[0;31mNameError\u001b[0m: name 'df_agg1' is not defined"
     ]
    }
   ],
   "source": [
    "import scipy\n",
    "\n",
    "feature_names = np.hstack([\n",
    "#     list(drift_col),\n",
    "#     list(train.columns),\n",
    "    list(df_agg1.columns),\n",
    "    list(df_agg2.columns),\n",
    "#     ['tdidf'+str(i) for i in range(tfidf_counts.shape[1])],\n",
    "#     list(df_cat.columns)\n",
    "    list(dfindex.columns),\n",
    "])\n",
    "print('Number of features:', len(feature_names))\n",
    "\n",
    "\n",
    "\n",
    "X_train = scipy.sparse.hstack([\n",
    "#             df.loc[traindex,list(drift_col)],\n",
    "            train,\n",
    "            df_agg1.loc[traindex,:],\n",
    "            df_agg2.loc[traindex,:],\n",
    "#             tfidf_counts[:4459,:],\n",
    "#             df_cat.loc[traindex,:],\n",
    "            dfindex.loc[traindex,:],\n",
    "\n",
    "            \n",
    "    ], format='csr')\n",
    "print('Xtrain shape:', X_train.shape)\n",
    "\n",
    "X_test = scipy.sparse.hstack([\n",
    "#             df.loc[testdex,list(drift_col)],\n",
    "            test,\n",
    "            df_agg1.loc[testdex,:],\n",
    "            df_agg2.loc[testdex,:],\n",
    "#             tfidf_counts[4459:,:],\n",
    "#             df_cat.loc[testdex,:],\n",
    "            dfindex.loc[testdex,:],\n",
    "\n",
    "            \n",
    "    ], format='csr')\n",
    "print('X_test shape:', X_test.shape)"
   ]
  },
  {
   "cell_type": "code",
   "execution_count": 723,
   "metadata": {},
   "outputs": [
    {
     "data": {
      "text/plain": [
       "array(['f190486d6', 'c47340d97', 'eeb9cd3aa', '66ace2992', 'e176a204a',\n",
       "       '491b9ee45', '1db387535', 'c5a231d81', '0572565c2', '024c577b9',\n",
       "       '15ace8c9f', '23310aa6f', '9fd594eec', '58e2e02e6', '91f701ba2',\n",
       "       'adb64ff71', '2ec5b290f', '703885424', '26fc93eb7', '6619d81fc',\n",
       "       '0ff32eb98', '70feb1494', '58e056e12', '1931ccfdd', '1702b5bf0',\n",
       "       '58232a6fb', '963a49cdc', 'fc99f9426', '241f0f867', '5c6487af1',\n",
       "       '62e59a501', 'f74e8f13d', 'fb49e4212', '190db8488', '324921c7b',\n",
       "       'b43a7cfd5', '9306da53f', 'd6bb78916', 'fb0f5dbfe', '6eef030c1',\n",
       "       'f190486d6_cat_enc', 'c47340d97_cat_enc', 'eeb9cd3aa_cat_enc',\n",
       "       '66ace2992_cat_enc', 'e176a204a_cat_enc', '491b9ee45_cat_enc',\n",
       "       '1db387535_cat_enc', 'c5a231d81_cat_enc', '0572565c2_cat_enc',\n",
       "       '024c577b9_cat_enc', '15ace8c9f_cat_enc', '23310aa6f_cat_enc',\n",
       "       '9fd594eec_cat_enc', '58e2e02e6_cat_enc', '91f701ba2_cat_enc',\n",
       "       'adb64ff71_cat_enc', '2ec5b290f_cat_enc', '703885424_cat_enc',\n",
       "       '26fc93eb7_cat_enc', '6619d81fc_cat_enc', '0ff32eb98_cat_enc',\n",
       "       '70feb1494_cat_enc', '58e056e12_cat_enc', '1931ccfdd_cat_enc',\n",
       "       '1702b5bf0_cat_enc', '58232a6fb_cat_enc', '963a49cdc_cat_enc',\n",
       "       'fc99f9426_cat_enc', '241f0f867_cat_enc', '5c6487af1_cat_enc',\n",
       "       '62e59a501_cat_enc', 'f74e8f13d_cat_enc', 'fb49e4212_cat_enc',\n",
       "       '190db8488_cat_enc', '324921c7b_cat_enc', 'b43a7cfd5_cat_enc',\n",
       "       '9306da53f_cat_enc', 'd6bb78916_cat_enc', 'fb0f5dbfe_cat_enc',\n",
       "       '6eef030c1_cat_enc', 'Mean', 'Median', 'Mode', 'Max', 'Var', 'Std',\n",
       "       'number_of_different', 'col_non_zero_count', 'sum_zeros_row',\n",
       "       'geometric_mean', 'long0maxseq', 'long0minseq', 'long0meanseq',\n",
       "       'long0stdseq', 'long0lenseq', 'non_zero_count_row_orig',\n",
       "       'non_zero_fraction_orig', 'non_zero_kurtosis_orig',\n",
       "       'non_zero_log_kurtosis_orig', 'non_zero_log_max_orig',\n",
       "       'non_zero_log_mean_orig', 'non_zero_log_median_orig',\n",
       "       'non_zero_log_min_orig', 'non_zero_log_q1_orig',\n",
       "       'non_zero_log_q3_orig', 'non_zero_log_skewness_orig',\n",
       "       'non_zero_log_std_orig', 'non_zero_log_sum_orig',\n",
       "       'non_zero_max_orig', 'non_zero_mean_orig', 'non_zero_median_orig',\n",
       "       'non_zero_min_orig', 'non_zero_q1_orig', 'non_zero_q3_orig',\n",
       "       'non_zero_skewness_orig', 'non_zero_std_orig', 'non_zero_sum_orig'],\n",
       "      dtype='<U26')"
      ]
     },
     "execution_count": 723,
     "metadata": {},
     "output_type": "execute_result"
    }
   ],
   "source": [
    "feature_names"
   ]
  },
  {
   "cell_type": "code",
   "execution_count": 724,
   "metadata": {},
   "outputs": [],
   "source": [
    "# X_train = X_train[X_train.columns[5001:]]\n",
    "# X_train.shape"
   ]
  },
  {
   "cell_type": "code",
   "execution_count": 725,
   "metadata": {
    "_uuid": "6c07581b2cd588cd571bc7e6a74455bea15fba76"
   },
   "outputs": [],
   "source": [
    "# vocab = df_feature[:1000]['ID'].tolist()\n",
    "\n",
    "# LGBM Dataset\n",
    "lgtrain = lgb.Dataset(X_train,y ,feature_name=list(feature_names))\n",
    "# print(\"Starting LightGBM. Train shape: {}, Test shape: {}\".format(df.loc[testdex,:].shape,test_df.shape))\n",
    "# print(\"Feature Num: \",len(vocab))\n",
    "# del df; \n",
    "gc.collect();"
   ]
  },
  {
   "cell_type": "code",
   "execution_count": 726,
   "metadata": {
    "_uuid": "1c43324b7c5dfc9e31e94f40a32a2c4ed146b84d"
   },
   "outputs": [
    {
     "name": "stdout",
     "output_type": "stream",
     "text": [
      "Light Gradient Boosting Regressor: \n"
     ]
    }
   ],
   "source": [
    "print(\"Light Gradient Boosting Regressor: \")\n",
    "lgbm_params =  {\n",
    "    'task': 'train',\n",
    "    'boosting_type': 'gbdt',\n",
    "    'objective': 'regression',\n",
    "    'metric': 'rmse',\n",
    "    \"learning_rate\": 0.01,\n",
    "    \"num_leaves\": 200,\n",
    "    \"feature_fraction\": 0.50,\n",
    "    \"bagging_fraction\": 0.50,\n",
    "    'bagging_freq': 4,\n",
    "    \"max_depth\": 6,\n",
    "    \"reg_alpha\": 0.3,\n",
    "    \"reg_lambda\": 0.1,\n",
    "    'max_bin': 50,\n",
    "    #\"min_split_gain\":0.2,\n",
    "    \"min_child_weight\":5,\n",
    "    \n",
    "    \n",
    "#         'objective': 'regression',\n",
    "#         'num_leaves': 58,\n",
    "#         'subsample': 0.6143,\n",
    "#         'colsample_bytree': 0.6453,\n",
    "#         'min_split_gain': np.power(10, -2.5988),\n",
    "#         'reg_alpha': np.power(10, -2.2887),\n",
    "#         'reg_lambda': np.power(10, 1.7570),\n",
    "#         'min_child_weight': np.power(10, -0.1477),\n",
    "#         'verbose': -1,\n",
    "#         'seed': 3,\n",
    "#         'boosting_type': 'gbdt',\n",
    "#         'max_depth': -1,\n",
    "#         'learning_rate': 0.05,\n",
    "    \n",
    "    'zero_as_missing':True,\n",
    "    'is_sparse' : False,\n",
    "    \n",
    "    'device' : \"gpu\",\n",
    "    'gpu_platform_id' : 0,\n",
    "    'gpu_device_id' : 2,\n",
    "    'num_threads' : 1,\n",
    "    \n",
    "#         'num_threads' : 45,\n",
    "    \n",
    "    'gpu_use_dp' : True,\n",
    "    \n",
    "                }"
   ]
  },
  {
   "cell_type": "markdown",
   "metadata": {
    "_uuid": "5a281f230dd6d1f639c771d2b348937d619b422d"
   },
   "source": [
    "## Cross-Validation\n",
    "**Hand Tuning:**"
   ]
  },
  {
   "cell_type": "code",
   "execution_count": 727,
   "metadata": {},
   "outputs": [],
   "source": [
    "# help(lgb.cv)"
   ]
  },
  {
   "cell_type": "code",
   "execution_count": 728,
   "metadata": {},
   "outputs": [
    {
     "name": "stdout",
     "output_type": "stream",
     "text": [
      "[50]\tcv_agg's rmse: 1.45842 + 0.0157916\n",
      "[100]\tcv_agg's rmse: 1.29749 + 0.0136402\n",
      "[150]\tcv_agg's rmse: 1.20429 + 0.0111295\n",
      "[200]\tcv_agg's rmse: 1.14757 + 0.0098238\n",
      "[250]\tcv_agg's rmse: 1.1129 + 0.00828819\n",
      "[300]\tcv_agg's rmse: 1.09022 + 0.00766895\n",
      "[350]\tcv_agg's rmse: 1.07491 + 0.00772591\n",
      "[400]\tcv_agg's rmse: 1.06428 + 0.00697784\n",
      "[450]\tcv_agg's rmse: 1.05572 + 0.00609063\n",
      "[500]\tcv_agg's rmse: 1.04955 + 0.00580594\n",
      "[550]\tcv_agg's rmse: 1.04411 + 0.00571227\n",
      "[600]\tcv_agg's rmse: 1.03936 + 0.00536424\n",
      "[650]\tcv_agg's rmse: 1.03575 + 0.00449454\n",
      "[700]\tcv_agg's rmse: 1.033 + 0.00387872\n",
      "[750]\tcv_agg's rmse: 1.03027 + 0.00362542\n",
      "[800]\tcv_agg's rmse: 1.02728 + 0.00377728\n",
      "[850]\tcv_agg's rmse: 1.02504 + 0.00385336\n",
      "[900]\tcv_agg's rmse: 1.02273 + 0.00362902\n",
      "[950]\tcv_agg's rmse: 1.02079 + 0.00381878\n",
      "[1000]\tcv_agg's rmse: 1.01871 + 0.00441812\n",
      "[1050]\tcv_agg's rmse: 1.01724 + 0.00417823\n",
      "[1100]\tcv_agg's rmse: 1.0156 + 0.00408234\n",
      "[1150]\tcv_agg's rmse: 1.01467 + 0.00432491\n",
      "[1200]\tcv_agg's rmse: 1.01376 + 0.00381939\n",
      "[1250]\tcv_agg's rmse: 1.01256 + 0.00420749\n",
      "[1300]\tcv_agg's rmse: 1.01161 + 0.00365196\n",
      "[1350]\tcv_agg's rmse: 1.01129 + 0.00354389\n",
      "[1400]\tcv_agg's rmse: 1.01045 + 0.00313097\n",
      "[1450]\tcv_agg's rmse: 1.00955 + 0.00317046\n",
      "[1500]\tcv_agg's rmse: 1.00924 + 0.00299918\n",
      "[1550]\tcv_agg's rmse: 1.00883 + 0.00306338\n",
      "[1600]\tcv_agg's rmse: 1.00835 + 0.00319703\n",
      "[1650]\tcv_agg's rmse: 1.00787 + 0.00331229\n",
      "[1700]\tcv_agg's rmse: 1.0072 + 0.00352595\n",
      "[1750]\tcv_agg's rmse: 1.00666 + 0.00327584\n",
      "[1800]\tcv_agg's rmse: 1.00634 + 0.00319099\n",
      "[1850]\tcv_agg's rmse: 1.00589 + 0.00332763\n",
      "[1900]\tcv_agg's rmse: 1.00619 + 0.00359589\n",
      "\n",
      "Optimal Round: 1840\n",
      "Optimal Score: 1.0057518530494711 + 0.0032325034570785333\n"
     ]
    }
   ],
   "source": [
    "modelstart= time.time()\n",
    "# Find Optimal Parameters / Boosting Rounds\n",
    "lgb_cv = lgb.cv(\n",
    "    params = lgbm_params,\n",
    "    train_set = lgtrain,\n",
    "    num_boost_round=2000,\n",
    "    stratified=False,\n",
    "#     categorical_feature=list(dfindex.columns),\n",
    "    nfold = 3,\n",
    "    verbose_eval=50,\n",
    "    seed = 23,\n",
    "    early_stopping_rounds=75)\n",
    "\n",
    "optimal_rounds = np.argmin(lgb_cv['rmse-mean'])\n",
    "best_cv_score = min(lgb_cv['rmse-mean'])\n",
    "\n",
    "print(\"\\nOptimal Round: {}\\nOptimal Score: {} + {}\".format(\n",
    "    optimal_rounds,best_cv_score,lgb_cv['rmse-stdv'][optimal_rounds]))\n",
    "\n",
    "results = results.append({\"Rounds\": optimal_rounds,\n",
    "                          \"Score\": best_cv_score,\n",
    "                          \"STDV\": lgb_cv['rmse-stdv'][optimal_rounds],\n",
    "                          \"LB\": None,\n",
    "                          \"Parameters\": lgbm_params}, ignore_index=True)"
   ]
  },
  {
   "cell_type": "code",
   "execution_count": 729,
   "metadata": {},
   "outputs": [
    {
     "data": {
      "text/plain": [
       "1840"
      ]
     },
     "execution_count": 729,
     "metadata": {},
     "output_type": "execute_result"
    }
   ],
   "source": [
    "np.argmin(lgb_cv['rmse-mean'])"
   ]
  },
  {
   "cell_type": "code",
   "execution_count": 730,
   "metadata": {},
   "outputs": [],
   "source": [
    "lgb_reg = lgb.train(\n",
    "    lgbm_params,\n",
    "    train_set = lgtrain,\n",
    "    num_boost_round = optimal_rounds + 1,\n",
    "    verbose_eval=50,\n",
    "#     categorical_feature=list(dfindex.columns),\n",
    "\n",
    ")\n",
    "\n",
    "Lightgbm_pred = lgb_reg.predict(X_test)\n"
   ]
  },
  {
   "cell_type": "code",
   "execution_count": 731,
   "metadata": {},
   "outputs": [
    {
     "data": {
      "text/plain": [
       "Text(0.5,1,'Light GBM Feature Importance')"
      ]
     },
     "execution_count": 731,
     "metadata": {},
     "output_type": "execute_result"
    },
    {
     "data": {
      "image/png": "[encoded data removed]",
      "text/plain": [
       "<Figure size 1080x1440 with 1 Axes>"
      ]
     },
     "metadata": {},
     "output_type": "display_data"
    }
   ],
   "source": [
    "fig, ax = plt.subplots(figsize=(15, 20))\n",
    "lgb.plot_importance(lgb_reg, max_num_features=100, ax=ax)\n",
    "plt.title(\"Light GBM Feature Importance\")"
   ]
  },
  {
   "cell_type": "code",
   "execution_count": 732,
   "metadata": {},
   "outputs": [
    {
     "data": {
      "text/plain": [
       "array([14.87462989, 15.44721544, 14.4157188 , ..., 14.64088103,\n",
       "       11.69272418, 15.01973036])"
      ]
     },
     "execution_count": 732,
     "metadata": {},
     "output_type": "execute_result"
    }
   ],
   "source": [
    "Lightgbm_pred"
   ]
  },
  {
   "cell_type": "code",
   "execution_count": null,
   "metadata": {},
   "outputs": [],
   "source": []
  },
  {
   "cell_type": "code",
   "execution_count": null,
   "metadata": {},
   "outputs": [],
   "source": []
  },
  {
   "cell_type": "code",
   "execution_count": null,
   "metadata": {},
   "outputs": [],
   "source": []
  },
  {
   "cell_type": "code",
   "execution_count": null,
   "metadata": {},
   "outputs": [],
   "source": []
  },
  {
   "cell_type": "code",
   "execution_count": null,
   "metadata": {},
   "outputs": [],
   "source": []
  },
  {
   "cell_type": "code",
   "execution_count": null,
   "metadata": {},
   "outputs": [],
   "source": []
  },
  {
   "cell_type": "code",
   "execution_count": 733,
   "metadata": {},
   "outputs": [],
   "source": [
    "import sys\n",
    "sys.path.insert(0,'/home/xavierc/xgboost/python-package/')\n",
    "import xgboost as xgb"
   ]
  },
  {
   "cell_type": "code",
   "execution_count": 734,
   "metadata": {},
   "outputs": [
    {
     "name": "stdout",
     "output_type": "stream",
     "text": [
      "[0]\ttrain-rmse:14.0319\tvalid-rmse:14.0212\n",
      "Multiple eval metrics have been passed: 'valid-rmse' will be used for early stopping.\n",
      "\n",
      "Will train until valid-rmse hasn't improved in 30 rounds.\n",
      "[100]\ttrain-rmse:8.57249\tvalid-rmse:8.57586\n",
      "[200]\ttrain-rmse:5.28779\tvalid-rmse:5.30071\n",
      "[300]\ttrain-rmse:3.33467\tvalid-rmse:3.35465\n",
      "[400]\ttrain-rmse:2.20537\tvalid-rmse:2.23249\n",
      "[500]\ttrain-rmse:1.58878\tvalid-rmse:1.62231\n",
      "[600]\ttrain-rmse:1.27882\tvalid-rmse:1.3183\n",
      "[700]\ttrain-rmse:1.13613\tvalid-rmse:1.17907\n",
      "[800]\ttrain-rmse:1.07213\tvalid-rmse:1.11767\n",
      "[900]\ttrain-rmse:1.04185\tvalid-rmse:1.09041\n",
      "[1000]\ttrain-rmse:1.02622\tvalid-rmse:1.07677\n",
      "[1100]\ttrain-rmse:1.01716\tvalid-rmse:1.06961\n",
      "[1200]\ttrain-rmse:1.01185\tvalid-rmse:1.06561\n",
      "[1300]\ttrain-rmse:1.00842\tvalid-rmse:1.06324\n",
      "[1400]\ttrain-rmse:1.00593\tvalid-rmse:1.06174\n",
      "[1500]\ttrain-rmse:1.00326\tvalid-rmse:1.06007\n",
      "[1600]\ttrain-rmse:1.00079\tvalid-rmse:1.05882\n",
      "[1700]\ttrain-rmse:0.997683\tvalid-rmse:1.05737\n",
      "Stopping. Best iteration:\n",
      "[1756]\ttrain-rmse:0.996716\tvalid-rmse:1.05692\n",
      "\n"
     ]
    }
   ],
   "source": [
    "\n",
    "\n",
    "dev_X, val_X, dev_y, val_y = train_test_split(X_train, y, test_size = 0.2, random_state = 42)\n",
    "\n",
    "params = {'objective': 'reg:linear', \n",
    "          'eval_metric': 'rmse', \n",
    "          'eta': 0.005, \n",
    "          'fold': 10,\n",
    "          'max_depth': 5, \n",
    "          'gamma' : 10,\n",
    "          'min_child_weight': 50,\n",
    "          'subsample': 0.7, \n",
    "          'colsample_bytree': 0.7, \n",
    "          'alpha':0, \n",
    "          'silent': True, \n",
    "          'random_state':5,\n",
    "#               'gpu_id' : 0,\n",
    "# #               'max_bin' : 16,\n",
    "#               'tree_method' : 'gpu_exact',\n",
    "         }\n",
    "# {'objective': 'reg:linear','eval_metric': 'rmse','eta': 0.005,'max_depth': 15,'subsample': 0.7,'colsample_bytree': 0.5,'alpha':0,'random_state':42,'silent': True}\n",
    "\n",
    "tr_data = xgb.DMatrix(dev_X, dev_y, feature_names=feature_names)\n",
    "va_data = xgb.DMatrix(val_X, val_y, feature_names=feature_names)\n",
    "\n",
    "\n",
    "watchlist = [(tr_data, 'train'), (va_data, 'valid')]\n",
    "\n",
    "model_xgb = xgb.train(params, \n",
    "                      tr_data, \n",
    "                      20000, \n",
    "                      watchlist, \n",
    "                      maximize=False, \n",
    "                      early_stopping_rounds = 30, \n",
    "                      verbose_eval=100)\n",
    "\n",
    "#     dtest = xgb.DMatrix(test_X)\n",
    "#     xgb_pred_y = np.expm1(model_xgb.predict(dtest, ntree_limit=model_xgb.best_ntree_limit))\n",
    "\n"
   ]
  },
  {
   "cell_type": "code",
   "execution_count": 700,
   "metadata": {},
   "outputs": [
    {
     "ename": "SyntaxError",
     "evalue": "invalid syntax (<ipython-input-700-7b4784c0dd99>, line 1)",
     "output_type": "error",
     "traceback": [
      "\u001b[0;36m  File \u001b[0;32m\"<ipython-input-700-7b4784c0dd99>\"\u001b[0;36m, line \u001b[0;32m1\u001b[0m\n\u001b[0;31m    [0]\ttrain-rmse:14.0319\tvalid-rmse:14.0211\u001b[0m\n\u001b[0m       \t    ^\u001b[0m\n\u001b[0;31mSyntaxError\u001b[0m\u001b[0;31m:\u001b[0m invalid syntax\n"
     ]
    }
   ],
   "source": [
    "[0]\ttrain-rmse:14.0319\tvalid-rmse:14.0211\n",
    "Multiple eval metrics have been passed: 'valid-rmse' will be used for early stopping.\n",
    "\n",
    "Will train until valid-rmse hasn't improved in 30 rounds.\n",
    "[100]\ttrain-rmse:8.5832\tvalid-rmse:8.58305\n",
    "[200]\ttrain-rmse:5.31954\tvalid-rmse:5.33046\n",
    "[300]\ttrain-rmse:3.39448\tvalid-rmse:3.42198\n",
    "[400]\ttrain-rmse:2.2984\tvalid-rmse:2.34695\n",
    "[500]\ttrain-rmse:1.71454\tvalid-rmse:1.78883\n",
    "[600]\ttrain-rmse:1.4347\tvalid-rmse:1.53016\n",
    "[700]\ttrain-rmse:1.31771\tvalid-rmse:1.42091\n",
    "[800]\ttrain-rmse:1.27124\tvalid-rmse:1.3772\n",
    "[900]\ttrain-rmse:1.25196\tvalid-rmse:1.35968\n",
    "[1000]\ttrain-rmse:1.24592\tvalid-rmse:1.3529\n",
    "[1100]\ttrain-rmse:1.24226\tvalid-rmse:1.35004\n",
    "[1200]\ttrain-rmse:1.24117\tvalid-rmse:1.3488\n",
    "[1300]\ttrain-rmse:1.24087\tvalid-rmse:1.34825\n",
    "[1400]\ttrain-rmse:1.24076\tvalid-rmse:1.34799\n",
    "[1500]\ttrain-rmse:1.24072\tvalid-rmse:1.34785\n",
    "[1600]\ttrain-rmse:1.24071\tvalid-rmse:1.34778\n",
    "[1700]\ttrain-rmse:1.2407\tvalid-rmse:1.34773\n",
    "[1800]\ttrain-rmse:1.2407\tvalid-rmse:1.34771\n",
    "[1900]\ttrain-rmse:1.2407\tvalid-rmse:1.3477\n",
    "[1999]\ttrain-rmse:1.2407\tvalid-rmse:1.34769"
   ]
  },
  {
   "cell_type": "code",
   "execution_count": 735,
   "metadata": {},
   "outputs": [
    {
     "data": {
      "image/png": "[encoded data removed]",
      "text/plain": [
       "<Figure size 864x1296 with 1 Axes>"
      ]
     },
     "metadata": {},
     "output_type": "display_data"
    }
   ],
   "source": [
    "fig, ax = plt.subplots(figsize=(12,18))\n",
    "xgb.plot_importance(model_xgb, max_num_features=100, height=0.8, ax=ax)\n",
    "plt.show()"
   ]
  },
  {
   "cell_type": "code",
   "execution_count": 736,
   "metadata": {},
   "outputs": [
    {
     "name": "stdout",
     "output_type": "stream",
     "text": [
      "[0]\ttrain-rmse:14.0297+0.00539423\ttest-rmse:14.0297+0.0107847\n",
      "[100]\ttrain-rmse:8.57333+0.00323388\ttest-rmse:8.57276+0.0114315\n",
      "[200]\ttrain-rmse:5.28844+0.00194811\ttest-rmse:5.29223+0.00931547\n",
      "[300]\ttrain-rmse:3.33371+0.00118897\ttest-rmse:3.34603+0.00811515\n",
      "[400]\ttrain-rmse:2.20325+0.00255289\ttest-rmse:2.22851+0.00554938\n",
      "[500]\ttrain-rmse:1.58445+0.00423077\ttest-rmse:1.627+0.00281695\n",
      "[600]\ttrain-rmse:1.27286+0.00500706\ttest-rmse:1.33268+0.00133778\n",
      "[700]\ttrain-rmse:1.1299+0.00579078\ttest-rmse:1.20246+0.0032881\n",
      "[800]\ttrain-rmse:1.0675+0.00620583\ttest-rmse:1.14834+0.0051263\n",
      "[900]\ttrain-rmse:1.03945+0.00683879\ttest-rmse:1.12582+0.00593762\n",
      "[1000]\ttrain-rmse:1.02569+0.00681072\ttest-rmse:1.1157+0.00683198\n",
      "[1100]\ttrain-rmse:1.01794+0.00680269\ttest-rmse:1.11075+0.00722318\n",
      "[1200]\ttrain-rmse:1.01281+0.00658488\ttest-rmse:1.10772+0.00765974\n",
      "[1300]\ttrain-rmse:1.00935+0.00657354\ttest-rmse:1.10586+0.00783103\n",
      "[1400]\ttrain-rmse:1.00676+0.00669926\ttest-rmse:1.10442+0.00792618\n",
      "[1500]\ttrain-rmse:1.00474+0.00688003\ttest-rmse:1.10339+0.00797627\n",
      "[1600]\ttrain-rmse:1.00253+0.0068865\ttest-rmse:1.10219+0.00802695\n",
      "[1700]\ttrain-rmse:1.00098+0.00677445\ttest-rmse:1.10142+0.00811001\n",
      "[1800]\ttrain-rmse:0.999457+0.00691411\ttest-rmse:1.10059+0.0081095\n",
      "[1900]\ttrain-rmse:0.998483+0.00685638\ttest-rmse:1.10005+0.00832537\n",
      "[1999]\ttrain-rmse:0.997191+0.00701038\ttest-rmse:1.09952+0.00821486\n"
     ]
    }
   ],
   "source": [
    "# params = {'objective': 'reg:linear', \n",
    "#           'eval_metric': 'rmse', \n",
    "#           'eta': 0.01, \n",
    "#           'fold': 10,\n",
    "#           'max_depth': 15, \n",
    "#           'gamma' : 10,\n",
    "#           'min_child_weight': 50,\n",
    "# #           'subsample': 0.5, \n",
    "# #           'colsample_bytree': 0.5, \n",
    "#           'alpha':0, \n",
    "#           'silent': True, \n",
    "#           'random_state':5,\n",
    "# #               'gpu_id' : 0,\n",
    "# # #               'max_bin' : 16,\n",
    "# #               'tree_method' : 'gpu_exact',\n",
    "#          }\n",
    "\n",
    "\n",
    "trall_data = xgb.DMatrix(X_train, y)\n",
    "model_xgb = xgb.cv(params, \n",
    "                      trall_data, \n",
    "                      2000, \n",
    "#                       watchlist, \n",
    "                      maximize=False, \n",
    "                      early_stopping_rounds = 30, \n",
    "                      verbose_eval=100)\n",
    "\n"
   ]
  },
  {
   "cell_type": "code",
   "execution_count": 345,
   "metadata": {},
   "outputs": [],
   "source": [
    "# help(model_xgb)"
   ]
  },
  {
   "cell_type": "code",
   "execution_count": 737,
   "metadata": {},
   "outputs": [],
   "source": [
    "all_data = xgb.DMatrix(X_train, y, feature_names=feature_names)\n",
    "\n",
    "all_data_xgb = xgb.train(params, \n",
    "                      all_data,  \n",
    "                      maximize=False,\n",
    "                      num_boost_round = 1079,\n",
    "                      verbose_eval=100)\n"
   ]
  },
  {
   "cell_type": "code",
   "execution_count": 738,
   "metadata": {},
   "outputs": [
    {
     "data": {
      "text/plain": [
       "array(['f190486d6', 'c47340d97', 'eeb9cd3aa', '66ace2992', 'e176a204a',\n",
       "       '491b9ee45', '1db387535', 'c5a231d81', '0572565c2', '024c577b9',\n",
       "       '15ace8c9f', '23310aa6f', '9fd594eec', '58e2e02e6', '91f701ba2',\n",
       "       'adb64ff71', '2ec5b290f', '703885424', '26fc93eb7', '6619d81fc',\n",
       "       '0ff32eb98', '70feb1494', '58e056e12', '1931ccfdd', '1702b5bf0',\n",
       "       '58232a6fb', '963a49cdc', 'fc99f9426', '241f0f867', '5c6487af1',\n",
       "       '62e59a501', 'f74e8f13d', 'fb49e4212', '190db8488', '324921c7b',\n",
       "       'b43a7cfd5', '9306da53f', 'd6bb78916', 'fb0f5dbfe', '6eef030c1',\n",
       "       'f190486d6_cat_enc', 'c47340d97_cat_enc', 'eeb9cd3aa_cat_enc',\n",
       "       '66ace2992_cat_enc', 'e176a204a_cat_enc', '491b9ee45_cat_enc',\n",
       "       '1db387535_cat_enc', 'c5a231d81_cat_enc', '0572565c2_cat_enc',\n",
       "       '024c577b9_cat_enc', '15ace8c9f_cat_enc', '23310aa6f_cat_enc',\n",
       "       '9fd594eec_cat_enc', '58e2e02e6_cat_enc', '91f701ba2_cat_enc',\n",
       "       'adb64ff71_cat_enc', '2ec5b290f_cat_enc', '703885424_cat_enc',\n",
       "       '26fc93eb7_cat_enc', '6619d81fc_cat_enc', '0ff32eb98_cat_enc',\n",
       "       '70feb1494_cat_enc', '58e056e12_cat_enc', '1931ccfdd_cat_enc',\n",
       "       '1702b5bf0_cat_enc', '58232a6fb_cat_enc', '963a49cdc_cat_enc',\n",
       "       'fc99f9426_cat_enc', '241f0f867_cat_enc', '5c6487af1_cat_enc',\n",
       "       '62e59a501_cat_enc', 'f74e8f13d_cat_enc', 'fb49e4212_cat_enc',\n",
       "       '190db8488_cat_enc', '324921c7b_cat_enc', 'b43a7cfd5_cat_enc',\n",
       "       '9306da53f_cat_enc', 'd6bb78916_cat_enc', 'fb0f5dbfe_cat_enc',\n",
       "       '6eef030c1_cat_enc', 'Mean', 'Median', 'Mode', 'Max', 'Var', 'Std',\n",
       "       'number_of_different', 'col_non_zero_count', 'sum_zeros_row',\n",
       "       'geometric_mean', 'long0maxseq', 'long0minseq', 'long0meanseq',\n",
       "       'long0stdseq', 'long0lenseq', 'non_zero_count_row_orig',\n",
       "       'non_zero_fraction_orig', 'non_zero_kurtosis_orig',\n",
       "       'non_zero_log_kurtosis_orig', 'non_zero_log_max_orig',\n",
       "       'non_zero_log_mean_orig', 'non_zero_log_median_orig',\n",
       "       'non_zero_log_min_orig', 'non_zero_log_q1_orig',\n",
       "       'non_zero_log_q3_orig', 'non_zero_log_skewness_orig',\n",
       "       'non_zero_log_std_orig', 'non_zero_log_sum_orig',\n",
       "       'non_zero_max_orig', 'non_zero_mean_orig', 'non_zero_median_orig',\n",
       "       'non_zero_min_orig', 'non_zero_q1_orig', 'non_zero_q3_orig',\n",
       "       'non_zero_skewness_orig', 'non_zero_std_orig', 'non_zero_sum_orig'],\n",
       "      dtype='<U26')"
      ]
     },
     "execution_count": 738,
     "metadata": {},
     "output_type": "execute_result"
    }
   ],
   "source": [
    "feature_names"
   ]
  },
  {
   "cell_type": "code",
   "execution_count": 739,
   "metadata": {},
   "outputs": [],
   "source": [
    "test_data = xgb.DMatrix(X_test, feature_names=feature_names)\n",
    "XGB_pred = all_data_xgb.predict(test_data)"
   ]
  },
  {
   "cell_type": "code",
   "execution_count": 740,
   "metadata": {},
   "outputs": [
    {
     "data": {
      "text/plain": [
       "array([14.961752, 14.946731, 14.356345, ..., 14.924409, 12.035576,\n",
       "       15.4104  ], dtype=float32)"
      ]
     },
     "execution_count": 740,
     "metadata": {},
     "output_type": "execute_result"
    }
   ],
   "source": [
    "XGB_pred"
   ]
  },
  {
   "cell_type": "code",
   "execution_count": 351,
   "metadata": {},
   "outputs": [],
   "source": [
    "\n",
    "\n",
    "# mean_sub = np.expm1(sub_preds.mean(axis=1).rename(target_var))\n",
    "# mean_sub.index = testdex"
   ]
  },
  {
   "cell_type": "code",
   "execution_count": 742,
   "metadata": {},
   "outputs": [],
   "source": [
    "submission = pd.DataFrame()\n",
    "submission['ID'] = testdex\n",
    "submission['target'] = np.expm1((XGB_pred+Lightgbm_pred)/2) #np.expm1((XGB_pred+Lightgbm_pred)/2) #(np.expm1(XGB_pred)+np.expm1(Lightgbm_pred)/2)\n",
    "submission.to_csv('/media/disk2/dataset-kaggle/santander3/submission/'+'submission_lgbxgb_006.csv', index=False)"
   ]
  },
  {
   "cell_type": "code",
   "execution_count": 743,
   "metadata": {},
   "outputs": [
    {
     "data": {
      "text/html": [
       "<div>\n",
       "<style scoped>\n",
       "    .dataframe tbody tr th:only-of-type {\n",
       "        vertical-align: middle;\n",
       "    }\n",
       "\n",
       "    .dataframe tbody tr th {\n",
       "        vertical-align: top;\n",
       "    }\n",
       "\n",
       "    .dataframe thead th {\n",
       "        text-align: right;\n",
       "    }\n",
       "</style>\n",
       "<table border=\"1\" class=\"dataframe\">\n",
       "  <thead>\n",
       "    <tr style=\"text-align: right;\">\n",
       "      <th></th>\n",
       "      <th>ID</th>\n",
       "      <th>target</th>\n",
       "    </tr>\n",
       "  </thead>\n",
       "  <tbody>\n",
       "    <tr>\n",
       "      <th>0</th>\n",
       "      <td>000137c73</td>\n",
       "      <td>3.012228e+06</td>\n",
       "    </tr>\n",
       "    <tr>\n",
       "      <th>1</th>\n",
       "      <td>00021489f</td>\n",
       "      <td>3.980718e+06</td>\n",
       "    </tr>\n",
       "    <tr>\n",
       "      <th>2</th>\n",
       "      <td>0004d7953</td>\n",
       "      <td>1.769188e+06</td>\n",
       "    </tr>\n",
       "    <tr>\n",
       "      <th>3</th>\n",
       "      <td>00056a333</td>\n",
       "      <td>6.934603e+06</td>\n",
       "    </tr>\n",
       "    <tr>\n",
       "      <th>4</th>\n",
       "      <td>00056d8eb</td>\n",
       "      <td>2.101753e+06</td>\n",
       "    </tr>\n",
       "    <tr>\n",
       "      <th>5</th>\n",
       "      <td>0005fc190</td>\n",
       "      <td>2.901711e+06</td>\n",
       "    </tr>\n",
       "    <tr>\n",
       "      <th>6</th>\n",
       "      <td>000787e86</td>\n",
       "      <td>2.348804e+06</td>\n",
       "    </tr>\n",
       "    <tr>\n",
       "      <th>7</th>\n",
       "      <td>0008510a0</td>\n",
       "      <td>2.908144e+06</td>\n",
       "    </tr>\n",
       "    <tr>\n",
       "      <th>8</th>\n",
       "      <td>000895faf</td>\n",
       "      <td>4.408261e+06</td>\n",
       "    </tr>\n",
       "    <tr>\n",
       "      <th>9</th>\n",
       "      <td>000986fba</td>\n",
       "      <td>3.257219e+06</td>\n",
       "    </tr>\n",
       "    <tr>\n",
       "      <th>10</th>\n",
       "      <td>0009efcc5</td>\n",
       "      <td>1.233655e+06</td>\n",
       "    </tr>\n",
       "    <tr>\n",
       "      <th>11</th>\n",
       "      <td>000dd8f00</td>\n",
       "      <td>6.451500e+06</td>\n",
       "    </tr>\n",
       "    <tr>\n",
       "      <th>12</th>\n",
       "      <td>000e1cdc2</td>\n",
       "      <td>2.911968e+06</td>\n",
       "    </tr>\n",
       "    <tr>\n",
       "      <th>13</th>\n",
       "      <td>00103739c</td>\n",
       "      <td>1.943861e+06</td>\n",
       "    </tr>\n",
       "    <tr>\n",
       "      <th>14</th>\n",
       "      <td>00134b367</td>\n",
       "      <td>2.597360e+06</td>\n",
       "    </tr>\n",
       "    <tr>\n",
       "      <th>15</th>\n",
       "      <td>001788d0d</td>\n",
       "      <td>1.319883e+06</td>\n",
       "    </tr>\n",
       "    <tr>\n",
       "      <th>16</th>\n",
       "      <td>0019c8ad7</td>\n",
       "      <td>2.000764e+06</td>\n",
       "    </tr>\n",
       "    <tr>\n",
       "      <th>17</th>\n",
       "      <td>001a267b9</td>\n",
       "      <td>9.469742e+05</td>\n",
       "    </tr>\n",
       "    <tr>\n",
       "      <th>18</th>\n",
       "      <td>001a85486</td>\n",
       "      <td>2.316412e+06</td>\n",
       "    </tr>\n",
       "    <tr>\n",
       "      <th>19</th>\n",
       "      <td>001c4de06</td>\n",
       "      <td>3.501842e+06</td>\n",
       "    </tr>\n",
       "    <tr>\n",
       "      <th>20</th>\n",
       "      <td>001f9014b</td>\n",
       "      <td>2.618524e+06</td>\n",
       "    </tr>\n",
       "    <tr>\n",
       "      <th>21</th>\n",
       "      <td>00216fb94</td>\n",
       "      <td>5.074842e+06</td>\n",
       "    </tr>\n",
       "    <tr>\n",
       "      <th>22</th>\n",
       "      <td>00235690e</td>\n",
       "      <td>3.790743e+06</td>\n",
       "    </tr>\n",
       "    <tr>\n",
       "      <th>23</th>\n",
       "      <td>00240739d</td>\n",
       "      <td>4.958854e+06</td>\n",
       "    </tr>\n",
       "    <tr>\n",
       "      <th>24</th>\n",
       "      <td>0024c3747</td>\n",
       "      <td>2.660271e+06</td>\n",
       "    </tr>\n",
       "    <tr>\n",
       "      <th>25</th>\n",
       "      <td>00297052d</td>\n",
       "      <td>3.375063e+06</td>\n",
       "    </tr>\n",
       "    <tr>\n",
       "      <th>26</th>\n",
       "      <td>002ab8f85</td>\n",
       "      <td>3.595827e+06</td>\n",
       "    </tr>\n",
       "    <tr>\n",
       "      <th>27</th>\n",
       "      <td>002bed5c0</td>\n",
       "      <td>1.992648e+06</td>\n",
       "    </tr>\n",
       "    <tr>\n",
       "      <th>28</th>\n",
       "      <td>002bf3974</td>\n",
       "      <td>5.716524e+06</td>\n",
       "    </tr>\n",
       "    <tr>\n",
       "      <th>29</th>\n",
       "      <td>002d23a26</td>\n",
       "      <td>4.986396e+06</td>\n",
       "    </tr>\n",
       "    <tr>\n",
       "      <th>...</th>\n",
       "      <td>...</td>\n",
       "      <td>...</td>\n",
       "    </tr>\n",
       "    <tr>\n",
       "      <th>49312</th>\n",
       "      <td>ffd52b8f2</td>\n",
       "      <td>1.671873e+06</td>\n",
       "    </tr>\n",
       "    <tr>\n",
       "      <th>49313</th>\n",
       "      <td>ffd6dea20</td>\n",
       "      <td>4.399952e+06</td>\n",
       "    </tr>\n",
       "    <tr>\n",
       "      <th>49314</th>\n",
       "      <td>ffd6e2cf8</td>\n",
       "      <td>2.405407e+06</td>\n",
       "    </tr>\n",
       "    <tr>\n",
       "      <th>49315</th>\n",
       "      <td>ffd6e56de</td>\n",
       "      <td>3.675737e+06</td>\n",
       "    </tr>\n",
       "    <tr>\n",
       "      <th>49316</th>\n",
       "      <td>ffd849299</td>\n",
       "      <td>2.636827e+06</td>\n",
       "    </tr>\n",
       "    <tr>\n",
       "      <th>49317</th>\n",
       "      <td>ffda13e24</td>\n",
       "      <td>2.020888e+06</td>\n",
       "    </tr>\n",
       "    <tr>\n",
       "      <th>49318</th>\n",
       "      <td>ffdbd30e2</td>\n",
       "      <td>2.646999e+06</td>\n",
       "    </tr>\n",
       "    <tr>\n",
       "      <th>49319</th>\n",
       "      <td>ffdbedc99</td>\n",
       "      <td>2.354768e+06</td>\n",
       "    </tr>\n",
       "    <tr>\n",
       "      <th>49320</th>\n",
       "      <td>ffe462df4</td>\n",
       "      <td>9.015850e+05</td>\n",
       "    </tr>\n",
       "    <tr>\n",
       "      <th>49321</th>\n",
       "      <td>ffe4c3a4b</td>\n",
       "      <td>1.234669e+06</td>\n",
       "    </tr>\n",
       "    <tr>\n",
       "      <th>49322</th>\n",
       "      <td>ffe511bf1</td>\n",
       "      <td>3.308532e+06</td>\n",
       "    </tr>\n",
       "    <tr>\n",
       "      <th>49323</th>\n",
       "      <td>ffe77e420</td>\n",
       "      <td>6.863425e+05</td>\n",
       "    </tr>\n",
       "    <tr>\n",
       "      <th>49324</th>\n",
       "      <td>ffe868610</td>\n",
       "      <td>2.556783e+06</td>\n",
       "    </tr>\n",
       "    <tr>\n",
       "      <th>49325</th>\n",
       "      <td>ffe8ed3d6</td>\n",
       "      <td>8.807873e+06</td>\n",
       "    </tr>\n",
       "    <tr>\n",
       "      <th>49326</th>\n",
       "      <td>ffea1065e</td>\n",
       "      <td>6.885730e+06</td>\n",
       "    </tr>\n",
       "    <tr>\n",
       "      <th>49327</th>\n",
       "      <td>ffea9a398</td>\n",
       "      <td>2.430368e+06</td>\n",
       "    </tr>\n",
       "    <tr>\n",
       "      <th>49328</th>\n",
       "      <td>ffec4707c</td>\n",
       "      <td>2.786586e+06</td>\n",
       "    </tr>\n",
       "    <tr>\n",
       "      <th>49329</th>\n",
       "      <td>ffecfe7f8</td>\n",
       "      <td>3.127881e+06</td>\n",
       "    </tr>\n",
       "    <tr>\n",
       "      <th>49330</th>\n",
       "      <td>ffed9dd0f</td>\n",
       "      <td>2.079827e+06</td>\n",
       "    </tr>\n",
       "    <tr>\n",
       "      <th>49331</th>\n",
       "      <td>ffee0237c</td>\n",
       "      <td>2.435348e+06</td>\n",
       "    </tr>\n",
       "    <tr>\n",
       "      <th>49332</th>\n",
       "      <td>ffef8aa08</td>\n",
       "      <td>2.260966e+06</td>\n",
       "    </tr>\n",
       "    <tr>\n",
       "      <th>49333</th>\n",
       "      <td>fff0ee67d</td>\n",
       "      <td>4.374541e+06</td>\n",
       "    </tr>\n",
       "    <tr>\n",
       "      <th>49334</th>\n",
       "      <td>fff2aa673</td>\n",
       "      <td>1.737064e+06</td>\n",
       "    </tr>\n",
       "    <tr>\n",
       "      <th>49335</th>\n",
       "      <td>fff479492</td>\n",
       "      <td>1.717830e+06</td>\n",
       "    </tr>\n",
       "    <tr>\n",
       "      <th>49336</th>\n",
       "      <td>fff64bf93</td>\n",
       "      <td>1.199044e+06</td>\n",
       "    </tr>\n",
       "    <tr>\n",
       "      <th>49337</th>\n",
       "      <td>fff73b677</td>\n",
       "      <td>2.467372e+06</td>\n",
       "    </tr>\n",
       "    <tr>\n",
       "      <th>49338</th>\n",
       "      <td>fff7b5923</td>\n",
       "      <td>7.134630e+06</td>\n",
       "    </tr>\n",
       "    <tr>\n",
       "      <th>49339</th>\n",
       "      <td>fff7c698f</td>\n",
       "      <td>2.630395e+06</td>\n",
       "    </tr>\n",
       "    <tr>\n",
       "      <th>49340</th>\n",
       "      <td>fff8dba89</td>\n",
       "      <td>1.420796e+05</td>\n",
       "    </tr>\n",
       "    <tr>\n",
       "      <th>49341</th>\n",
       "      <td>fffbe2f6f</td>\n",
       "      <td>4.053394e+06</td>\n",
       "    </tr>\n",
       "  </tbody>\n",
       "</table>\n",
       "<p>49342 rows × 2 columns</p>\n",
       "</div>"
      ],
      "text/plain": [
       "              ID        target\n",
       "0      000137c73  3.012228e+06\n",
       "1      00021489f  3.980718e+06\n",
       "2      0004d7953  1.769188e+06\n",
       "3      00056a333  6.934603e+06\n",
       "4      00056d8eb  2.101753e+06\n",
       "5      0005fc190  2.901711e+06\n",
       "6      000787e86  2.348804e+06\n",
       "7      0008510a0  2.908144e+06\n",
       "8      000895faf  4.408261e+06\n",
       "9      000986fba  3.257219e+06\n",
       "10     0009efcc5  1.233655e+06\n",
       "11     000dd8f00  6.451500e+06\n",
       "12     000e1cdc2  2.911968e+06\n",
       "13     00103739c  1.943861e+06\n",
       "14     00134b367  2.597360e+06\n",
       "15     001788d0d  1.319883e+06\n",
       "16     0019c8ad7  2.000764e+06\n",
       "17     001a267b9  9.469742e+05\n",
       "18     001a85486  2.316412e+06\n",
       "19     001c4de06  3.501842e+06\n",
       "20     001f9014b  2.618524e+06\n",
       "21     00216fb94  5.074842e+06\n",
       "22     00235690e  3.790743e+06\n",
       "23     00240739d  4.958854e+06\n",
       "24     0024c3747  2.660271e+06\n",
       "25     00297052d  3.375063e+06\n",
       "26     002ab8f85  3.595827e+06\n",
       "27     002bed5c0  1.992648e+06\n",
       "28     002bf3974  5.716524e+06\n",
       "29     002d23a26  4.986396e+06\n",
       "...          ...           ...\n",
       "49312  ffd52b8f2  1.671873e+06\n",
       "49313  ffd6dea20  4.399952e+06\n",
       "49314  ffd6e2cf8  2.405407e+06\n",
       "49315  ffd6e56de  3.675737e+06\n",
       "49316  ffd849299  2.636827e+06\n",
       "49317  ffda13e24  2.020888e+06\n",
       "49318  ffdbd30e2  2.646999e+06\n",
       "49319  ffdbedc99  2.354768e+06\n",
       "49320  ffe462df4  9.015850e+05\n",
       "49321  ffe4c3a4b  1.234669e+06\n",
       "49322  ffe511bf1  3.308532e+06\n",
       "49323  ffe77e420  6.863425e+05\n",
       "49324  ffe868610  2.556783e+06\n",
       "49325  ffe8ed3d6  8.807873e+06\n",
       "49326  ffea1065e  6.885730e+06\n",
       "49327  ffea9a398  2.430368e+06\n",
       "49328  ffec4707c  2.786586e+06\n",
       "49329  ffecfe7f8  3.127881e+06\n",
       "49330  ffed9dd0f  2.079827e+06\n",
       "49331  ffee0237c  2.435348e+06\n",
       "49332  ffef8aa08  2.260966e+06\n",
       "49333  fff0ee67d  4.374541e+06\n",
       "49334  fff2aa673  1.737064e+06\n",
       "49335  fff479492  1.717830e+06\n",
       "49336  fff64bf93  1.199044e+06\n",
       "49337  fff73b677  2.467372e+06\n",
       "49338  fff7b5923  7.134630e+06\n",
       "49339  fff7c698f  2.630395e+06\n",
       "49340  fff8dba89  1.420796e+05\n",
       "49341  fffbe2f6f  4.053394e+06\n",
       "\n",
       "[49342 rows x 2 columns]"
      ]
     },
     "execution_count": 743,
     "metadata": {},
     "output_type": "execute_result"
    }
   ],
   "source": [
    "submission"
   ]
  },
  {
   "cell_type": "code",
   "execution_count": null,
   "metadata": {},
   "outputs": [],
   "source": []
  },
  {
   "cell_type": "code",
   "execution_count": null,
   "metadata": {},
   "outputs": [],
   "source": []
  },
  {
   "cell_type": "code",
   "execution_count": null,
   "metadata": {},
   "outputs": [],
   "source": []
  },
  {
   "cell_type": "code",
   "execution_count": 676,
   "metadata": {},
   "outputs": [
    {
     "data": {
      "text/plain": [
       "3989875.293139759"
      ]
     },
     "execution_count": 676,
     "metadata": {},
     "output_type": "execute_result"
    }
   ],
   "source": [
    "submission['target'][0]"
   ]
  },
  {
   "cell_type": "code",
   "execution_count": 677,
   "metadata": {},
   "outputs": [
    {
     "data": {
      "text/plain": [
       "array([38000000.,   600000., 10000000., ...,  2800000., 10000000.,\n",
       "       20000000.])"
      ]
     },
     "execution_count": 677,
     "metadata": {},
     "output_type": "execute_result"
    }
   ],
   "source": [
    "y_orig.values"
   ]
  },
  {
   "cell_type": "code",
   "execution_count": 510,
   "metadata": {},
   "outputs": [
    {
     "data": {
      "text/plain": [
       "array([2852078. , 2267661.5, 2133768. , ..., 2758853.5, 1181137. ,\n",
       "       6613131. ], dtype=float32)"
      ]
     },
     "execution_count": 510,
     "metadata": {},
     "output_type": "execute_result"
    }
   ],
   "source": [
    "train_preds = np.expm1(all_data_xgb.predict(all_data))\n",
    "train_preds"
   ]
  },
  {
   "cell_type": "code",
   "execution_count": 511,
   "metadata": {},
   "outputs": [
    {
     "data": {
      "text/plain": [
       "array([2677233.5 , 2454617.5 , 1840930.4 , ..., 2801679.  ,  225078.78,\n",
       "       4325501.5 ], dtype=float32)"
      ]
     },
     "execution_count": 511,
     "metadata": {},
     "output_type": "execute_result"
    }
   ],
   "source": [
    "test_preds = np.expm1(all_data_xgb.predict(test_data))\n",
    "test_preds"
   ]
  },
  {
   "cell_type": "code",
   "execution_count": 469,
   "metadata": {},
   "outputs": [],
   "source": [
    "y_orig_int = [int(i) for i in list(y_orig.values)]"
   ]
  },
  {
   "cell_type": "code",
   "execution_count": 505,
   "metadata": {},
   "outputs": [
    {
     "name": "stdout",
     "output_type": "stream",
     "text": [
      "30000\n",
      "Optimization terminated successfully.\n",
      "         Current function value: -1.254598\n",
      "         Iterations: 1\n",
      "         Function evaluations: 13\n"
     ]
    },
    {
     "ename": "IndexError",
     "evalue": "index 30000 is out of bounds for axis 0 with size 1413",
     "output_type": "error",
     "traceback": [
      "\u001b[0;31m---------------------------------------------------------------------------\u001b[0m",
      "\u001b[0;31mIndexError\u001b[0m                                Traceback (most recent call last)",
      "\u001b[0;32m<ipython-input-505-3e42ad3e6d90>\u001b[0m in \u001b[0;36m<module>\u001b[0;34m()\u001b[0m\n\u001b[1;32m     26\u001b[0m     \u001b[0mprint\u001b[0m\u001b[0;34m(\u001b[0m\u001b[0mj\u001b[0m\u001b[0;34m)\u001b[0m\u001b[0;34m\u001b[0m\u001b[0m\n\u001b[1;32m     27\u001b[0m     \u001b[0mtrain_offset\u001b[0m \u001b[0;34m=\u001b[0m \u001b[0;32mlambda\u001b[0m \u001b[0mx\u001b[0m\u001b[0;34m:\u001b[0m \u001b[0;34m-\u001b[0m\u001b[0mapply_offset\u001b[0m\u001b[0;34m(\u001b[0m\u001b[0moffset_train_preds\u001b[0m\u001b[0;34m,\u001b[0m \u001b[0mx\u001b[0m\u001b[0;34m,\u001b[0m \u001b[0mj\u001b[0m\u001b[0;34m)\u001b[0m\u001b[0;34m\u001b[0m\u001b[0m\n\u001b[0;32m---> 28\u001b[0;31m     \u001b[0moffsets\u001b[0m\u001b[0;34m[\u001b[0m\u001b[0mj\u001b[0m\u001b[0;34m]\u001b[0m \u001b[0;34m=\u001b[0m \u001b[0mfmin_powell\u001b[0m\u001b[0;34m(\u001b[0m\u001b[0mtrain_offset\u001b[0m\u001b[0;34m,\u001b[0m \u001b[0mj\u001b[0m\u001b[0;34m)\u001b[0m\u001b[0;34m\u001b[0m\u001b[0m\n\u001b[0m\u001b[1;32m     29\u001b[0m \u001b[0;34m\u001b[0m\u001b[0m\n",
      "\u001b[0;31mIndexError\u001b[0m: index 30000 is out of bounds for axis 0 with size 1413"
     ]
    }
   ],
   "source": [
    "from scipy.optimize import fmin_powell\n",
    "\n",
    "def rmsle(y_true, y_pred):\n",
    "    errors = (np.log1p(y_true) - np.log1p(y_pred)) ** 2\n",
    "    return np.sqrt(np.mean(errors))\n",
    "\n",
    "def eval_wrapper(yhat, y):  \n",
    "    y = np.array(y)\n",
    "    y = y.astype(int)\n",
    "    yhat = np.array(yhat)\n",
    "    yhat = np.clip(np.round(yhat), np.min(y), np.max(y)).astype(int)   \n",
    "    return rmsle(yhat, y)\n",
    "\n",
    "\n",
    "\n",
    "def apply_offset(data, bin_offset, sv, scorer=eval_wrapper):\n",
    "    # data has the format of pred=0, offset_pred=1, labels=2 in the first dim\n",
    "    data[1, data[0].astype(int)==sv] = data[0, data[0].astype(int)==sv] + bin_offset\n",
    "    score = scorer(data[1], data[2])\n",
    "    return score\n",
    "\n",
    "# train offsets \n",
    "offsets = np.unique(np.array(y_orig_int))\n",
    "offset_train_preds = np.vstack((train_preds, train_preds, y_orig.values))\n",
    "for j in offsets:\n",
    "    print(j)\n",
    "    train_offset = lambda x: -apply_offset(offset_train_preds, x, j)\n",
    "    offsets[j] = fmin_powell(train_offset, j)  \n",
    "\n",
    "\n"
   ]
  },
  {
   "cell_type": "code",
   "execution_count": 504,
   "metadata": {},
   "outputs": [
    {
     "data": {
      "text/plain": [
       "30000"
      ]
     },
     "execution_count": 504,
     "metadata": {},
     "output_type": "execute_result"
    }
   ],
   "source": [
    "j"
   ]
  },
  {
   "cell_type": "code",
   "execution_count": 485,
   "metadata": {},
   "outputs": [
    {
     "data": {
      "text/plain": [
       "(array([10., 16., 18., ...,  0.,  0., 15.]),\n",
       " array([   66128.421875  ,    82000.64728795,    97872.87270089, ...,\n",
       "        22255499.54917411, 22271371.77458705, 22287244.        ]),\n",
       " <a list of 1400 Patch objects>)"
      ]
     },
     "execution_count": 485,
     "metadata": {},
     "output_type": "execute_result"
    },
    {
     "data": {
      "image/png": "[encoded data removed]",
      "text/plain": [
       "<Figure size 432x288 with 1 Axes>"
      ]
     },
     "metadata": {},
     "output_type": "display_data"
    }
   ],
   "source": [
    "plt.hist(train_preds, bins=1400)"
   ]
  },
  {
   "cell_type": "code",
   "execution_count": 482,
   "metadata": {},
   "outputs": [
    {
     "data": {
      "text/plain": [
       "(30000.0, 40000000.0, 66128.42, 22287244.0)"
      ]
     },
     "execution_count": 482,
     "metadata": {},
     "output_type": "execute_result"
    }
   ],
   "source": [
    "maxnew−minnewmaxold−minold⋅(v−maxold)+maxnew"
   ]
  },
  {
   "cell_type": "code",
   "execution_count": 509,
   "metadata": {},
   "outputs": [
    {
     "data": {
      "text/plain": [
       "array([1635048., 1310144., 1235706., ..., 1583220.,  706096., 3725986.],\n",
       "      dtype=float32)"
      ]
     },
     "execution_count": 509,
     "metadata": {},
     "output_type": "execute_result"
    }
   ],
   "source": [
    "maxnew = train_preds.max()\n",
    "minnew = train_preds.min()\n",
    "maxold = y_orig.max()\n",
    "minold = y_orig.min()\n",
    "\n",
    "new_train_preds = (maxnew-minnew)/(maxold-minold)*(train_preds-maxold)+maxnew\n",
    "new_train_preds"
   ]
  },
  {
   "cell_type": "code",
   "execution_count": 516,
   "metadata": {},
   "outputs": [
    {
     "data": {
      "text/plain": [
       "(array([10., 16., 18., ...,  0.,  0., 15.]),\n",
       " array([   86214.        ,    95038.08142857,   103862.16285714, ...,\n",
       "        12422279.83714286, 12431103.91857143, 12439928.        ]),\n",
       " <a list of 1400 Patch objects>)"
      ]
     },
     "execution_count": 516,
     "metadata": {},
     "output_type": "execute_result"
    },
    {
     "data": {
      "image/png": "[encoded data removed]",
      "text/plain": [
       "<Figure size 432x288 with 1 Axes>"
      ]
     },
     "metadata": {},
     "output_type": "display_data"
    }
   ],
   "source": [
    "plt.hist(new_train_preds, bins=1400)"
   ]
  },
  {
   "cell_type": "code",
   "execution_count": 515,
   "metadata": {},
   "outputs": [
    {
     "data": {
      "text/plain": [
       "1.20565583300503"
      ]
     },
     "execution_count": 515,
     "metadata": {},
     "output_type": "execute_result"
    }
   ],
   "source": [
    "eval_wrapper(y_orig.values,train_preds)"
   ]
  },
  {
   "cell_type": "code",
   "execution_count": 466,
   "metadata": {},
   "outputs": [
    {
     "data": {
      "text/plain": [
       "array([2677234, 2454618, 1840930, ..., 2801679,  225079, 4325502])"
      ]
     },
     "execution_count": 466,
     "metadata": {},
     "output_type": "execute_result"
    }
   ],
   "source": [
    "# apply offsets to test\n",
    "data = np.vstack((test_preds, test_preds, test_preds))\n",
    "for j in y_orig_int:\n",
    "    data[1, data[0].astype(int)==j] = data[0, data[0].astype(int)==j] + offsets[j] \n",
    "\n",
    "final_test_preds = np.round(np.clip(data[1], 30000.0, 40000000.0)).astype(int)\n"
   ]
  },
  {
   "cell_type": "code",
   "execution_count": 513,
   "metadata": {},
   "outputs": [
    {
     "data": {
      "text/plain": [
       "1.2545982147522805"
      ]
     },
     "execution_count": 513,
     "metadata": {},
     "output_type": "execute_result"
    }
   ],
   "source": [
    "rmsle(train_preds, y_orig)"
   ]
  },
  {
   "cell_type": "code",
   "execution_count": 514,
   "metadata": {},
   "outputs": [
    {
     "data": {
      "text/plain": [
       "1.37073037777833"
      ]
     },
     "execution_count": 514,
     "metadata": {},
     "output_type": "execute_result"
    }
   ],
   "source": [
    "rmsle(new_train_preds, y_orig)"
   ]
  },
  {
   "cell_type": "code",
   "execution_count": null,
   "metadata": {},
   "outputs": [],
   "source": []
  },
  {
   "cell_type": "markdown",
   "metadata": {
    "_uuid": "efb5bb129aac2718351d80548420f6c352397515",
    "heading_collapsed": true
   },
   "source": [
    "## Final Model and Seed Diversification\n",
    "Out-of-Fold Methods are very poplular in public kernels at the moment. This is a alternative that operates in a similar way. Instead of explicitly dividing the data, the randomized seed changes the row and column subsampling choice which also forces the model to do without some data to achieve a more diverse, robust prediction."
   ]
  },
  {
   "cell_type": "code",
   "execution_count": 14,
   "metadata": {
    "_uuid": "efbb975ccab79d7a6ee7b58522561e1cffea4cdd",
    "collapsed": true,
    "hidden": true
   },
   "outputs": [],
   "source": [
    "# Best Parameters\n",
    "final_model_params = results.iloc[results[\"Score\"].idxmin(),:][\"Parameters\"]\n",
    "optimal_rounds = results.iloc[results[\"Score\"].idxmin(),:][\"Rounds\"]\n",
    "print(\"Parameters for Final Models:\\n\",final_model_params)\n",
    "print(\"Score: {} +/- {}\".format(results.iloc[results[\"Score\"].idxmin(),:][\"Score\"],results.iloc[results[\"Score\"].idxmin(),:][\"STDV\"]))\n",
    "print(\"Rounds: \", optimal_rounds)"
   ]
  },
  {
   "cell_type": "code",
   "execution_count": 15,
   "metadata": {
    "_uuid": "edc3c22d262c30208c0605cd0ab37d49f11dd18b",
    "collapsed": true,
    "hidden": true,
    "scrolled": false
   },
   "outputs": [],
   "source": [
    "allmodelstart= time.time()\n",
    "# Run Model with different Seeds\n",
    "multi_seed_pred = dict()\n",
    "all_feature_importance_df  = pd.DataFrame()\n",
    "\n",
    "all_seeds = [27,22,300,401]\n",
    "for seeds_x in all_seeds:\n",
    "    modelstart= time.time()\n",
    "    print(\"Seed: \", seeds_x,)\n",
    "    # Go Go Go\n",
    "    final_model_params[\"seed\"] = seeds_x\n",
    "    lgb_reg = lgb.train(\n",
    "        final_model_params,\n",
    "        lgtrain,\n",
    "        num_boost_round = optimal_rounds + 1,\n",
    "        verbose_eval=200)\n",
    "\n",
    "    # Feature Importance\n",
    "    fold_importance_df = pd.DataFrame()\n",
    "    fold_importance_df[\"feature\"] = vocab\n",
    "    fold_importance_df[\"importance\"] = lgb_reg.feature_importance()\n",
    "    all_feature_importance_df = pd.concat([all_feature_importance_df, fold_importance_df], axis=0)\n",
    "\n",
    "    multi_seed_pred[seeds_x] =  list(lgb_reg.predict(test_df))\n",
    "    print(\"Model Runtime: %0.2f Minutes\"%((time.time() - modelstart)/60))\n",
    "    print(\"###########################################################################################\")\n",
    "    del lgb_reg\n",
    "\n",
    "cols = all_feature_importance_df[[\"feature\", \"importance\"]].groupby(\"feature\").mean().sort_values(\n",
    "    by=\"importance\", ascending=False)[:50].index\n",
    "best_features = all_feature_importance_df.loc[all_feature_importance_df.feature.isin(cols)]\n",
    "plt.figure(figsize=(8,10))\n",
    "sns.barplot(x=\"importance\", y=\"feature\", \n",
    "            data=best_features.sort_values(by=\"importance\", ascending=False))\n",
    "plt.title('LightGBM Features (avg over folds)')\n",
    "plt.tight_layout()\n",
    "plt.savefig('lgbm_importances.png')\n",
    "print(\"All Model Runtime: %0.2f Minutes\"%((time.time() - allmodelstart)/60))\n",
    "\n",
    "# To DataFrame\n",
    "sub_preds = pd.DataFrame.from_dict(multi_seed_pred).replace(0,0.000001)\n",
    "del multi_seed_pred; gc.collect();\n",
    "\n",
    "# Correlation Plot\n",
    "f, ax = plt.subplots(figsize=[8,6])\n",
    "sns.heatmap(sub_preds.corr(),\n",
    "            annot=True, fmt=\".2f\",cbar_kws={'label': 'Percentage %'},cmap=\"plasma\",ax=ax)\n",
    "ax.set_title(\"Correlation Plot for Seed Diversified Models\")\n",
    "plt.show()"
   ]
  },
  {
   "cell_type": "code",
   "execution_count": 18,
   "metadata": {
    "_uuid": "09ba793908334d80e1e470dbb371991846fbec0f",
    "collapsed": true,
    "hidden": true
   },
   "outputs": [],
   "source": [
    "# Take Mean over Seed prediction\n",
    "mean_sub = np.expm1(sub_preds.mean(axis=1).rename(target_var))\n",
    "mean_sub.index = testdex\n",
    "\n",
    "# Submit\n",
    "mean_sub.to_csv('mean_sub_ep{}_sc{}.csv'.format(optimal_rounds,round(best_cv_score,5))\n",
    "            ,index = True, header=True)\n",
    "print(\"Notebook Runtime: %0.2f Minutes\"%((time.time() - notebookstart)/60))\n",
    "mean_sub.head()"
   ]
  },
  {
   "cell_type": "code",
   "execution_count": null,
   "metadata": {
    "_uuid": "b47a3211671ee44a0e2e128730d4bf9587c375bc",
    "collapsed": true,
    "hidden": true
   },
   "outputs": [],
   "source": []
  }
 ],
 "metadata": {
  "kernelspec": {
   "display_name": "Python 3",
   "language": "python",
   "name": "python3"
  },
  "language_info": {
   "codemirror_mode": {
    "name": "ipython",
    "version": 3
   },
   "file_extension": ".py",
   "mimetype": "text/x-python",
   "name": "python",
   "nbconvert_exporter": "python",
   "pygments_lexer": "ipython3",
   "version": "3.5.2"
  }
 },
 "nbformat": 4,
 "nbformat_minor": 1
}
